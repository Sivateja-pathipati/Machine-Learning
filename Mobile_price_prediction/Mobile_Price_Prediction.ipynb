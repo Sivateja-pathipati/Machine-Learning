{
 "cells": [
  {
   "cell_type": "markdown",
   "metadata": {},
   "source": [
    "## Mobile_Price_Prediction"
   ]
  },
  {
   "cell_type": "raw",
   "metadata": {},
   "source": [
    "Recently you entered in the mobile manufacturing market. Build a machine learning model that would help you to know the estimated price for your manufactured mobile phones on the basis of various key features and specifications.\n",
    "\n",
    "\n",
    "\n",
    "You can get the dataset from here."
   ]
  },
  {
   "cell_type": "markdown",
   "metadata": {},
   "source": [
    "### Importing Standard Libraries"
   ]
  },
  {
   "cell_type": "code",
   "execution_count": 1,
   "metadata": {},
   "outputs": [],
   "source": [
    "import numpy as np\n",
    "import pandas as pd\n",
    "import matplotlib.pyplot as plt\n",
    "%matplotlib inline\n",
    "import seaborn as sns\n",
    "import warnings\n",
    "warnings.filterwarnings('ignore')"
   ]
  },
  {
   "cell_type": "markdown",
   "metadata": {},
   "source": [
    "### Loading Data"
   ]
  },
  {
   "cell_type": "code",
   "execution_count": 2,
   "metadata": {},
   "outputs": [
    {
     "data": {
      "text/html": [
       "<div>\n",
       "<style scoped>\n",
       "    .dataframe tbody tr th:only-of-type {\n",
       "        vertical-align: middle;\n",
       "    }\n",
       "\n",
       "    .dataframe tbody tr th {\n",
       "        vertical-align: top;\n",
       "    }\n",
       "\n",
       "    .dataframe thead th {\n",
       "        text-align: right;\n",
       "    }\n",
       "</style>\n",
       "<table border=\"1\" class=\"dataframe\">\n",
       "  <thead>\n",
       "    <tr style=\"text-align: right;\">\n",
       "      <th></th>\n",
       "      <th>mobile_name</th>\n",
       "      <th>mobile_price</th>\n",
       "      <th>mobile_color</th>\n",
       "      <th>dual_sim</th>\n",
       "      <th>disp_size</th>\n",
       "      <th>resolution</th>\n",
       "      <th>os</th>\n",
       "      <th>num_cores</th>\n",
       "      <th>mp_speed</th>\n",
       "      <th>int_memory</th>\n",
       "      <th>ram</th>\n",
       "      <th>p_cam</th>\n",
       "      <th>f_cam</th>\n",
       "      <th>network</th>\n",
       "      <th>bluetooth</th>\n",
       "      <th>battery_power</th>\n",
       "      <th>mob_width</th>\n",
       "      <th>mob_height</th>\n",
       "      <th>mob_depth</th>\n",
       "      <th>mob_weight</th>\n",
       "    </tr>\n",
       "  </thead>\n",
       "  <tbody>\n",
       "    <tr>\n",
       "      <td>0</td>\n",
       "      <td>Realme Narzo 10A (So White, 32 GB)</td>\n",
       "      <td>₹8,999</td>\n",
       "      <td>So White</td>\n",
       "      <td>Dual Sim</td>\n",
       "      <td>16.56 cm (6.52 inch)</td>\n",
       "      <td>1600 x 720 Pixels</td>\n",
       "      <td>Android 10</td>\n",
       "      <td>Octa Core</td>\n",
       "      <td>2 GHz</td>\n",
       "      <td>32 GB</td>\n",
       "      <td>3 GB</td>\n",
       "      <td>12MP + 2MP + 2MP</td>\n",
       "      <td>5MP Front Camera</td>\n",
       "      <td>4G VOLTE, 4G, 3G, 2G</td>\n",
       "      <td>Yes</td>\n",
       "      <td>5000 mAh</td>\n",
       "      <td>75 mm</td>\n",
       "      <td>164.4 mm</td>\n",
       "      <td>8.95 mm</td>\n",
       "      <td>195 g</td>\n",
       "    </tr>\n",
       "    <tr>\n",
       "      <td>1</td>\n",
       "      <td>Realme Narzo 10A (So Blue, 32 GB)</td>\n",
       "      <td>₹8,999</td>\n",
       "      <td>So Blue</td>\n",
       "      <td>Dual Sim</td>\n",
       "      <td>16.56 cm (6.52 inch)</td>\n",
       "      <td>1600 x 720 Pixels</td>\n",
       "      <td>Android 10</td>\n",
       "      <td>Octa Core</td>\n",
       "      <td>2 GHz</td>\n",
       "      <td>32 GB</td>\n",
       "      <td>3 GB</td>\n",
       "      <td>12MP + 2MP + 2MP</td>\n",
       "      <td>5MP Front Camera</td>\n",
       "      <td>4G VOLTE, 4G, 3G, 2G</td>\n",
       "      <td>Yes</td>\n",
       "      <td>5000 mAh</td>\n",
       "      <td>75 mm</td>\n",
       "      <td>164.4 mm</td>\n",
       "      <td>8.95 mm</td>\n",
       "      <td>195 g</td>\n",
       "    </tr>\n",
       "    <tr>\n",
       "      <td>2</td>\n",
       "      <td>Realme Narzo 10A (So Blue, 64 GB)</td>\n",
       "      <td>₹9,999</td>\n",
       "      <td>So Blue</td>\n",
       "      <td>Dual Sim</td>\n",
       "      <td>16.56 cm (6.52 inch)</td>\n",
       "      <td>1600 x 720 Pixels</td>\n",
       "      <td>Android 10</td>\n",
       "      <td>Octa Core</td>\n",
       "      <td>2 GHz</td>\n",
       "      <td>64 GB</td>\n",
       "      <td>4 GB</td>\n",
       "      <td>12MP + 2MP + 2MP</td>\n",
       "      <td>5MP Front Camera</td>\n",
       "      <td>4G VOLTE, 4G, 3G, 2G</td>\n",
       "      <td>Yes</td>\n",
       "      <td>5000 mAh</td>\n",
       "      <td>75 mm</td>\n",
       "      <td>164.4 mm</td>\n",
       "      <td>8.95 mm</td>\n",
       "      <td>195 g</td>\n",
       "    </tr>\n",
       "    <tr>\n",
       "      <td>3</td>\n",
       "      <td>Realme Narzo 10A (So White, 64 GB)</td>\n",
       "      <td>₹9,999</td>\n",
       "      <td>So White</td>\n",
       "      <td>Dual Sim</td>\n",
       "      <td>16.56 cm (6.52 inch)</td>\n",
       "      <td>1600 x 720 Pixels</td>\n",
       "      <td>Android 10</td>\n",
       "      <td>Octa Core</td>\n",
       "      <td>2 GHz</td>\n",
       "      <td>64 GB</td>\n",
       "      <td>4 GB</td>\n",
       "      <td>12MP + 2MP + 2MP</td>\n",
       "      <td>5MP Front Camera</td>\n",
       "      <td>4G VOLTE, 4G, 3G, 2G</td>\n",
       "      <td>Yes</td>\n",
       "      <td>5000 mAh</td>\n",
       "      <td>75 mm</td>\n",
       "      <td>164.4 mm</td>\n",
       "      <td>8.95 mm</td>\n",
       "      <td>195 g</td>\n",
       "    </tr>\n",
       "    <tr>\n",
       "      <td>4</td>\n",
       "      <td>Realme Narzo 10 (That Green, 128 GB)</td>\n",
       "      <td>₹11,999</td>\n",
       "      <td>That Green</td>\n",
       "      <td>Dual Sim</td>\n",
       "      <td>16.51 cm (6.5 inch)</td>\n",
       "      <td>1600 x 720 Pixels</td>\n",
       "      <td>Android 10</td>\n",
       "      <td>Octa Core</td>\n",
       "      <td>2 GHz</td>\n",
       "      <td>128 GB</td>\n",
       "      <td>4 GB</td>\n",
       "      <td>48MP + 8MP + 2MP + 2MP</td>\n",
       "      <td>16MP Front Camera</td>\n",
       "      <td>4G VOLTE, 4G, 3G, 2G</td>\n",
       "      <td>Yes</td>\n",
       "      <td>5000 mAh</td>\n",
       "      <td>75.4 mm</td>\n",
       "      <td>164.4 mm</td>\n",
       "      <td>9 mm</td>\n",
       "      <td>199 g</td>\n",
       "    </tr>\n",
       "  </tbody>\n",
       "</table>\n",
       "</div>"
      ],
      "text/plain": [
       "                            mobile_name mobile_price mobile_color  dual_sim  \\\n",
       "0    Realme Narzo 10A (So White, 32 GB)       ₹8,999     So White  Dual Sim   \n",
       "1     Realme Narzo 10A (So Blue, 32 GB)       ₹8,999      So Blue  Dual Sim   \n",
       "2     Realme Narzo 10A (So Blue, 64 GB)       ₹9,999      So Blue  Dual Sim   \n",
       "3    Realme Narzo 10A (So White, 64 GB)       ₹9,999     So White  Dual Sim   \n",
       "4  Realme Narzo 10 (That Green, 128 GB)      ₹11,999   That Green  Dual Sim   \n",
       "\n",
       "              disp_size         resolution          os  num_cores mp_speed  \\\n",
       "0  16.56 cm (6.52 inch)  1600 x 720 Pixels  Android 10  Octa Core    2 GHz   \n",
       "1  16.56 cm (6.52 inch)  1600 x 720 Pixels  Android 10  Octa Core    2 GHz   \n",
       "2  16.56 cm (6.52 inch)  1600 x 720 Pixels  Android 10  Octa Core    2 GHz   \n",
       "3  16.56 cm (6.52 inch)  1600 x 720 Pixels  Android 10  Octa Core    2 GHz   \n",
       "4   16.51 cm (6.5 inch)  1600 x 720 Pixels  Android 10  Octa Core    2 GHz   \n",
       "\n",
       "  int_memory   ram                   p_cam              f_cam  \\\n",
       "0      32 GB  3 GB        12MP + 2MP + 2MP   5MP Front Camera   \n",
       "1      32 GB  3 GB        12MP + 2MP + 2MP   5MP Front Camera   \n",
       "2      64 GB  4 GB        12MP + 2MP + 2MP   5MP Front Camera   \n",
       "3      64 GB  4 GB        12MP + 2MP + 2MP   5MP Front Camera   \n",
       "4     128 GB  4 GB  48MP + 8MP + 2MP + 2MP  16MP Front Camera   \n",
       "\n",
       "                network bluetooth battery_power mob_width mob_height  \\\n",
       "0  4G VOLTE, 4G, 3G, 2G       Yes      5000 mAh     75 mm   164.4 mm   \n",
       "1  4G VOLTE, 4G, 3G, 2G       Yes      5000 mAh     75 mm   164.4 mm   \n",
       "2  4G VOLTE, 4G, 3G, 2G       Yes      5000 mAh     75 mm   164.4 mm   \n",
       "3  4G VOLTE, 4G, 3G, 2G       Yes      5000 mAh     75 mm   164.4 mm   \n",
       "4  4G VOLTE, 4G, 3G, 2G       Yes      5000 mAh   75.4 mm   164.4 mm   \n",
       "\n",
       "  mob_depth mob_weight  \n",
       "0   8.95 mm      195 g  \n",
       "1   8.95 mm      195 g  \n",
       "2   8.95 mm      195 g  \n",
       "3   8.95 mm      195 g  \n",
       "4      9 mm      199 g  "
      ]
     },
     "execution_count": 2,
     "metadata": {},
     "output_type": "execute_result"
    }
   ],
   "source": [
    "df = pd.read_csv('mobile_price_data.csv')\n",
    "df.head()"
   ]
  },
  {
   "cell_type": "code",
   "execution_count": 3,
   "metadata": {},
   "outputs": [],
   "source": [
    "#For future reference we create a ref df\n",
    "ref_df = df.copy()"
   ]
  },
  {
   "cell_type": "code",
   "execution_count": 4,
   "metadata": {},
   "outputs": [
    {
     "name": "stdout",
     "output_type": "stream",
     "text": [
      "<class 'pandas.core.frame.DataFrame'>\n",
      "RangeIndex: 459 entries, 0 to 458\n",
      "Data columns (total 20 columns):\n",
      "mobile_name      459 non-null object\n",
      "mobile_price     459 non-null object\n",
      "mobile_color     459 non-null object\n",
      "dual_sim         459 non-null object\n",
      "disp_size        459 non-null object\n",
      "resolution       459 non-null object\n",
      "os               459 non-null object\n",
      "num_cores        459 non-null object\n",
      "mp_speed         459 non-null object\n",
      "int_memory       459 non-null object\n",
      "ram              459 non-null object\n",
      "p_cam            459 non-null object\n",
      "f_cam            459 non-null object\n",
      "network          459 non-null object\n",
      "bluetooth        459 non-null object\n",
      "battery_power    459 non-null object\n",
      "mob_width        459 non-null object\n",
      "mob_height       459 non-null object\n",
      "mob_depth        459 non-null object\n",
      "mob_weight       459 non-null object\n",
      "dtypes: object(20)\n",
      "memory usage: 71.8+ KB\n"
     ]
    }
   ],
   "source": [
    "df.info()"
   ]
  },
  {
   "cell_type": "markdown",
   "metadata": {},
   "source": [
    "##### Note:- we can see every column is object type we should convert everyting to numerical data type to perform data visualization or to use regression models"
   ]
  },
  {
   "cell_type": "markdown",
   "metadata": {},
   "source": [
    "### Data Wrangling"
   ]
  },
  {
   "cell_type": "markdown",
   "metadata": {},
   "source": [
    "#####  1) we know mobile company name might have impact on cost so we will filter out only name from first column and later drop first column"
   ]
  },
  {
   "cell_type": "code",
   "execution_count": 5,
   "metadata": {},
   "outputs": [
    {
     "data": {
      "text/plain": [
       "0      Realme\n",
       "1      Realme\n",
       "2      Realme\n",
       "3      Realme\n",
       "4      Realme\n",
       "        ...  \n",
       "454      OPPO\n",
       "455      OPPO\n",
       "456      OPPO\n",
       "457      OPPO\n",
       "458      OPPO\n",
       "Name: mobile_name, Length: 459, dtype: object"
      ]
     },
     "execution_count": 5,
     "metadata": {},
     "output_type": "execute_result"
    }
   ],
   "source": [
    "df['mobile_name'] = df['mobile_name'].apply(lambda x : x.split()[0])\n",
    "df['mobile_name']"
   ]
  },
  {
   "cell_type": "code",
   "execution_count": 6,
   "metadata": {},
   "outputs": [
    {
     "data": {
      "text/plain": [
       "Vivo       96\n",
       "Redmi      93\n",
       "OPPO       86\n",
       "Realme     79\n",
       "Infinix    36\n",
       "POCO       31\n",
       "Mi         20\n",
       "Samsung    17\n",
       "MI3         1\n",
       "Name: mobile_name, dtype: int64"
      ]
     },
     "execution_count": 6,
     "metadata": {},
     "output_type": "execute_result"
    }
   ],
   "source": [
    "df['mobile_name'].value_counts()"
   ]
  },
  {
   "cell_type": "code",
   "execution_count": 7,
   "metadata": {},
   "outputs": [
    {
     "data": {
      "text/plain": [
       "Vivo       96\n",
       "Redmi      93\n",
       "OPPO       86\n",
       "Realme     79\n",
       "Infinix    36\n",
       "POCO       31\n",
       "Mi         21\n",
       "Samsung    17\n",
       "Name: mobile_name, dtype: int64"
      ]
     },
     "execution_count": 7,
     "metadata": {},
     "output_type": "execute_result"
    }
   ],
   "source": [
    "df['mobile_name'] = df['mobile_name'].replace('MI3','Mi')\n",
    "df['mobile_name'].value_counts()"
   ]
  },
  {
   "cell_type": "code",
   "execution_count": null,
   "metadata": {
    "scrolled": false
   },
   "outputs": [],
   "source": []
  },
  {
   "cell_type": "markdown",
   "metadata": {},
   "source": [
    "##### 2) Mobile_price"
   ]
  },
  {
   "cell_type": "code",
   "execution_count": 8,
   "metadata": {},
   "outputs": [
    {
     "data": {
      "text/plain": [
       "'₹51,800'"
      ]
     },
     "execution_count": 8,
     "metadata": {},
     "output_type": "execute_result"
    }
   ],
   "source": [
    "x = df['mobile_price'][100]\n",
    "x"
   ]
  },
  {
   "cell_type": "code",
   "execution_count": 9,
   "metadata": {},
   "outputs": [],
   "source": [
    "def func1(x):\n",
    "    val =''\n",
    "    for i in x:\n",
    "        if i.isdigit():\n",
    "            val +=i\n",
    "    val = int(val)\n",
    "    return val"
   ]
  },
  {
   "cell_type": "code",
   "execution_count": 10,
   "metadata": {},
   "outputs": [
    {
     "data": {
      "text/plain": [
       "array([ 8999,  9999, 11999, 14999, 16999, 13999, 35999, 31999, 15490,\n",
       "       41999, 46999, 19999,  6999,  7499, 17999, 10999, 29999, 36999,\n",
       "       20999,  6499, 25999, 24999, 27999, 32999,  8499,  9499, 10499,\n",
       "        9799, 16939, 17350, 21999, 13495, 15990, 55799, 51800, 16899,\n",
       "       12999, 16998,  7399, 11199, 13261, 10978, 11280, 10100,  7450,\n",
       "       55400,  6700,  6699,  7999,  8369,  8090,  8498,  9990, 11349,\n",
       "       14800, 13990,  8689, 11599,  9900, 10990, 10849, 16990, 18990,\n",
       "       12990, 19990,  8990, 11982, 17990,  8705,  8949, 16375, 31990,\n",
       "       27990, 24990, 11990,  9199, 22399, 21099, 29499, 11490, 28499,\n",
       "       28990, 29990, 15500, 14990, 18900, 24000,  8900, 11500, 10900,\n",
       "       12000, 22325, 13995, 13529,  8998, 14914, 14538, 17490, 16499,\n",
       "       18499, 15999,  6299, 19900, 47999,  6000, 20995, 11995, 10995,\n",
       "       11499,  7699,  7599,  9599, 18999, 22999, 21499, 17499, 12490,\n",
       "       15899, 41990, 38990, 60990, 14499, 13744,  9490, 18989, 19038,\n",
       "        8490, 19600, 21150, 17500, 14495,  9500, 31590, 13490, 22990,\n",
       "       18000, 13500, 17000, 15000], dtype=int64)"
      ]
     },
     "execution_count": 10,
     "metadata": {},
     "output_type": "execute_result"
    }
   ],
   "source": [
    "df['mobile_price'] = df['mobile_price'].apply(func1)\n",
    "df['mobile_price'].unique()"
   ]
  },
  {
   "cell_type": "markdown",
   "metadata": {},
   "source": [
    "##### 3) disp size"
   ]
  },
  {
   "cell_type": "code",
   "execution_count": 11,
   "metadata": {},
   "outputs": [
    {
     "data": {
      "text/plain": [
       "array(['16.56 cm (6.52 inch)', '16.51 cm (6.5 inch)',\n",
       "       '16.0 cm (6.3 inch)', '16.26 cm (6.4 inch)',\n",
       "       '16.36 cm (6.44 inch)', '16.76 cm (6.6 inch)',\n",
       "       '15.49 cm (6.1 inch)', '16.69 cm (6.57 inch)',\n",
       "       '15.8 cm (6.22 inch)', '16.23 cm (6.39 inch)',\n",
       "       '16.94 cm (6.67 inch)', '15.44 cm (6.08 inch)',\n",
       "       '15.21 cm (5.99 inch)', '15.9 cm (6.26 inch)', '12.7 cm (5 inch)',\n",
       "       '15.46 cm (6.088 inch)', '13.97 cm (5.5 inch)',\n",
       "       '13.84 cm (5.45 inch)', '16.13 cm (6.35 inch)',\n",
       "       '16.21 cm (6.38 inch)', '16.59 cm (6.53 inch)',\n",
       "       '16.28 cm (6.41 inch)', '16.74 cm (6.59 inch)',\n",
       "       '14.48 cm (5.7 inch)', '15.24 cm (6 inch)', '13.21 cm (5.2 inch)',\n",
       "       '17.02 cm (6.7 inch)', '11.94 cm (4.7 inch)',\n",
       "       '15.06 cm (5.93 inch)', '15.75 cm (6.2 inch)',\n",
       "       '15.72 cm (6.19 inch)', '14.35 cm (5.65 inch)',\n",
       "       '15.19 cm (5.98 inch)', '15.77 cm (6.21 inch)',\n",
       "       '15.7 cm (6.18 inch)', '15.82 cm (6.23 inch)'], dtype=object)"
      ]
     },
     "execution_count": 11,
     "metadata": {},
     "output_type": "execute_result"
    }
   ],
   "source": [
    "df['disp_size'].unique()"
   ]
  },
  {
   "cell_type": "code",
   "execution_count": 12,
   "metadata": {},
   "outputs": [
    {
     "data": {
      "text/plain": [
       "'16.56 cm (6.52 inch)'"
      ]
     },
     "execution_count": 12,
     "metadata": {},
     "output_type": "execute_result"
    }
   ],
   "source": [
    "x = df['disp_size'][0]\n",
    "x"
   ]
  },
  {
   "cell_type": "code",
   "execution_count": 13,
   "metadata": {},
   "outputs": [],
   "source": [
    "def func2(x):\n",
    "    x = x.split()[0]\n",
    "    x = float(x)\n",
    "    return x"
   ]
  },
  {
   "cell_type": "code",
   "execution_count": 14,
   "metadata": {},
   "outputs": [
    {
     "data": {
      "text/plain": [
       "array([16.56, 16.51, 16.  , 16.26, 16.36, 16.76, 15.49, 16.69, 15.8 ,\n",
       "       16.23, 16.94, 15.44, 15.21, 15.9 , 12.7 , 15.46, 13.97, 13.84,\n",
       "       16.13, 16.21, 16.59, 16.28, 16.74, 14.48, 15.24, 13.21, 17.02,\n",
       "       11.94, 15.06, 15.75, 15.72, 14.35, 15.19, 15.77, 15.7 , 15.82])"
      ]
     },
     "execution_count": 14,
     "metadata": {},
     "output_type": "execute_result"
    }
   ],
   "source": [
    "df['disp_size(cm)'] = df['disp_size'].apply(func2)\n",
    "df.drop('disp_size',axis = 1,inplace = True)\n",
    "df['disp_size(cm)'].unique()"
   ]
  },
  {
   "cell_type": "code",
   "execution_count": 15,
   "metadata": {},
   "outputs": [
    {
     "data": {
      "text/html": [
       "<div>\n",
       "<style scoped>\n",
       "    .dataframe tbody tr th:only-of-type {\n",
       "        vertical-align: middle;\n",
       "    }\n",
       "\n",
       "    .dataframe tbody tr th {\n",
       "        vertical-align: top;\n",
       "    }\n",
       "\n",
       "    .dataframe thead th {\n",
       "        text-align: right;\n",
       "    }\n",
       "</style>\n",
       "<table border=\"1\" class=\"dataframe\">\n",
       "  <thead>\n",
       "    <tr style=\"text-align: right;\">\n",
       "      <th></th>\n",
       "      <th>mobile_name</th>\n",
       "      <th>mobile_price</th>\n",
       "      <th>mobile_color</th>\n",
       "      <th>dual_sim</th>\n",
       "      <th>resolution</th>\n",
       "      <th>os</th>\n",
       "      <th>num_cores</th>\n",
       "      <th>mp_speed</th>\n",
       "      <th>int_memory</th>\n",
       "      <th>ram</th>\n",
       "      <th>p_cam</th>\n",
       "      <th>f_cam</th>\n",
       "      <th>network</th>\n",
       "      <th>bluetooth</th>\n",
       "      <th>battery_power</th>\n",
       "      <th>mob_width</th>\n",
       "      <th>mob_height</th>\n",
       "      <th>mob_depth</th>\n",
       "      <th>mob_weight</th>\n",
       "      <th>disp_size(cm)</th>\n",
       "    </tr>\n",
       "  </thead>\n",
       "  <tbody>\n",
       "    <tr>\n",
       "      <td>0</td>\n",
       "      <td>Realme</td>\n",
       "      <td>8999</td>\n",
       "      <td>So White</td>\n",
       "      <td>Dual Sim</td>\n",
       "      <td>1600 x 720 Pixels</td>\n",
       "      <td>Android 10</td>\n",
       "      <td>Octa Core</td>\n",
       "      <td>2 GHz</td>\n",
       "      <td>32 GB</td>\n",
       "      <td>3 GB</td>\n",
       "      <td>12MP + 2MP + 2MP</td>\n",
       "      <td>5MP Front Camera</td>\n",
       "      <td>4G VOLTE, 4G, 3G, 2G</td>\n",
       "      <td>Yes</td>\n",
       "      <td>5000 mAh</td>\n",
       "      <td>75 mm</td>\n",
       "      <td>164.4 mm</td>\n",
       "      <td>8.95 mm</td>\n",
       "      <td>195 g</td>\n",
       "      <td>16.56</td>\n",
       "    </tr>\n",
       "    <tr>\n",
       "      <td>1</td>\n",
       "      <td>Realme</td>\n",
       "      <td>8999</td>\n",
       "      <td>So Blue</td>\n",
       "      <td>Dual Sim</td>\n",
       "      <td>1600 x 720 Pixels</td>\n",
       "      <td>Android 10</td>\n",
       "      <td>Octa Core</td>\n",
       "      <td>2 GHz</td>\n",
       "      <td>32 GB</td>\n",
       "      <td>3 GB</td>\n",
       "      <td>12MP + 2MP + 2MP</td>\n",
       "      <td>5MP Front Camera</td>\n",
       "      <td>4G VOLTE, 4G, 3G, 2G</td>\n",
       "      <td>Yes</td>\n",
       "      <td>5000 mAh</td>\n",
       "      <td>75 mm</td>\n",
       "      <td>164.4 mm</td>\n",
       "      <td>8.95 mm</td>\n",
       "      <td>195 g</td>\n",
       "      <td>16.56</td>\n",
       "    </tr>\n",
       "    <tr>\n",
       "      <td>2</td>\n",
       "      <td>Realme</td>\n",
       "      <td>9999</td>\n",
       "      <td>So Blue</td>\n",
       "      <td>Dual Sim</td>\n",
       "      <td>1600 x 720 Pixels</td>\n",
       "      <td>Android 10</td>\n",
       "      <td>Octa Core</td>\n",
       "      <td>2 GHz</td>\n",
       "      <td>64 GB</td>\n",
       "      <td>4 GB</td>\n",
       "      <td>12MP + 2MP + 2MP</td>\n",
       "      <td>5MP Front Camera</td>\n",
       "      <td>4G VOLTE, 4G, 3G, 2G</td>\n",
       "      <td>Yes</td>\n",
       "      <td>5000 mAh</td>\n",
       "      <td>75 mm</td>\n",
       "      <td>164.4 mm</td>\n",
       "      <td>8.95 mm</td>\n",
       "      <td>195 g</td>\n",
       "      <td>16.56</td>\n",
       "    </tr>\n",
       "    <tr>\n",
       "      <td>3</td>\n",
       "      <td>Realme</td>\n",
       "      <td>9999</td>\n",
       "      <td>So White</td>\n",
       "      <td>Dual Sim</td>\n",
       "      <td>1600 x 720 Pixels</td>\n",
       "      <td>Android 10</td>\n",
       "      <td>Octa Core</td>\n",
       "      <td>2 GHz</td>\n",
       "      <td>64 GB</td>\n",
       "      <td>4 GB</td>\n",
       "      <td>12MP + 2MP + 2MP</td>\n",
       "      <td>5MP Front Camera</td>\n",
       "      <td>4G VOLTE, 4G, 3G, 2G</td>\n",
       "      <td>Yes</td>\n",
       "      <td>5000 mAh</td>\n",
       "      <td>75 mm</td>\n",
       "      <td>164.4 mm</td>\n",
       "      <td>8.95 mm</td>\n",
       "      <td>195 g</td>\n",
       "      <td>16.56</td>\n",
       "    </tr>\n",
       "    <tr>\n",
       "      <td>4</td>\n",
       "      <td>Realme</td>\n",
       "      <td>11999</td>\n",
       "      <td>That Green</td>\n",
       "      <td>Dual Sim</td>\n",
       "      <td>1600 x 720 Pixels</td>\n",
       "      <td>Android 10</td>\n",
       "      <td>Octa Core</td>\n",
       "      <td>2 GHz</td>\n",
       "      <td>128 GB</td>\n",
       "      <td>4 GB</td>\n",
       "      <td>48MP + 8MP + 2MP + 2MP</td>\n",
       "      <td>16MP Front Camera</td>\n",
       "      <td>4G VOLTE, 4G, 3G, 2G</td>\n",
       "      <td>Yes</td>\n",
       "      <td>5000 mAh</td>\n",
       "      <td>75.4 mm</td>\n",
       "      <td>164.4 mm</td>\n",
       "      <td>9 mm</td>\n",
       "      <td>199 g</td>\n",
       "      <td>16.51</td>\n",
       "    </tr>\n",
       "  </tbody>\n",
       "</table>\n",
       "</div>"
      ],
      "text/plain": [
       "  mobile_name  mobile_price mobile_color  dual_sim         resolution  \\\n",
       "0      Realme          8999     So White  Dual Sim  1600 x 720 Pixels   \n",
       "1      Realme          8999      So Blue  Dual Sim  1600 x 720 Pixels   \n",
       "2      Realme          9999      So Blue  Dual Sim  1600 x 720 Pixels   \n",
       "3      Realme          9999     So White  Dual Sim  1600 x 720 Pixels   \n",
       "4      Realme         11999   That Green  Dual Sim  1600 x 720 Pixels   \n",
       "\n",
       "           os  num_cores mp_speed int_memory   ram                   p_cam  \\\n",
       "0  Android 10  Octa Core    2 GHz      32 GB  3 GB        12MP + 2MP + 2MP   \n",
       "1  Android 10  Octa Core    2 GHz      32 GB  3 GB        12MP + 2MP + 2MP   \n",
       "2  Android 10  Octa Core    2 GHz      64 GB  4 GB        12MP + 2MP + 2MP   \n",
       "3  Android 10  Octa Core    2 GHz      64 GB  4 GB        12MP + 2MP + 2MP   \n",
       "4  Android 10  Octa Core    2 GHz     128 GB  4 GB  48MP + 8MP + 2MP + 2MP   \n",
       "\n",
       "               f_cam               network bluetooth battery_power mob_width  \\\n",
       "0   5MP Front Camera  4G VOLTE, 4G, 3G, 2G       Yes      5000 mAh     75 mm   \n",
       "1   5MP Front Camera  4G VOLTE, 4G, 3G, 2G       Yes      5000 mAh     75 mm   \n",
       "2   5MP Front Camera  4G VOLTE, 4G, 3G, 2G       Yes      5000 mAh     75 mm   \n",
       "3   5MP Front Camera  4G VOLTE, 4G, 3G, 2G       Yes      5000 mAh     75 mm   \n",
       "4  16MP Front Camera  4G VOLTE, 4G, 3G, 2G       Yes      5000 mAh   75.4 mm   \n",
       "\n",
       "  mob_height mob_depth mob_weight  disp_size(cm)  \n",
       "0   164.4 mm   8.95 mm      195 g          16.56  \n",
       "1   164.4 mm   8.95 mm      195 g          16.56  \n",
       "2   164.4 mm   8.95 mm      195 g          16.56  \n",
       "3   164.4 mm   8.95 mm      195 g          16.56  \n",
       "4   164.4 mm      9 mm      199 g          16.51  "
      ]
     },
     "execution_count": 15,
     "metadata": {},
     "output_type": "execute_result"
    }
   ],
   "source": [
    "df.head()"
   ]
  },
  {
   "cell_type": "markdown",
   "metadata": {},
   "source": [
    "##### 3) mp_speeed, int memory and  ram"
   ]
  },
  {
   "cell_type": "code",
   "execution_count": 16,
   "metadata": {},
   "outputs": [
    {
     "name": "stdout",
     "output_type": "stream",
     "text": [
      "3\n",
      "32\n",
      "2.0\n"
     ]
    }
   ],
   "source": [
    "x = df['ram'][0]\n",
    "print(int(x.split()[0]))\n",
    "x = df['int_memory'][0]\n",
    "print(int(x.split()[0]))\n",
    "x = df['mp_speed'][0]\n",
    "print(float(x.split()[0]))"
   ]
  },
  {
   "cell_type": "code",
   "execution_count": 17,
   "metadata": {
    "scrolled": true
   },
   "outputs": [
    {
     "name": "stdout",
     "output_type": "stream",
     "text": [
      "['2 GHz' '2.3 GHz' '2.96 GHz' '1.95 GHz' '2.8 GHz' '2.05 GHz' '2.2 GHz'\n",
      " '2.1 GHz' '2.84 GHz' '2.5 GHz' '1.8 GHz' '1.4 GHz' '1.5 GHz' '1.3 GHz'\n",
      " '1.6 GHz' '2.39 GHz' '2.6 GHz' '2.649 GHz'] \n",
      "\n",
      "[2.    2.3   2.96  1.95  2.8   2.05  2.2   2.1   2.84  2.5   1.8   1.4\n",
      " 1.5   1.3   1.6   2.39  2.6   2.649]\n"
     ]
    }
   ],
   "source": [
    "print(df['mp_speed'].unique(),'\\n')\n",
    "df['mp_speed'] = df['mp_speed'].apply(lambda x: float(x.split()[0]))\n",
    "print(df['mp_speed'].unique())"
   ]
  },
  {
   "cell_type": "code",
   "execution_count": 18,
   "metadata": {},
   "outputs": [
    {
     "name": "stdout",
     "output_type": "stream",
     "text": [
      "['32 GB' '64 GB' '128 GB' '256 GB' '16 GB' '512 GB' '8 GB'] \n",
      "\n",
      "[ 32  64 128 256  16 512   8]\n"
     ]
    }
   ],
   "source": [
    "print(df['int_memory'].unique(),'\\n')\n",
    "df['int_memory'] = df['int_memory'].apply(lambda x: int(x.split()[0]))\n",
    "print(df['int_memory'].unique())"
   ]
  },
  {
   "cell_type": "code",
   "execution_count": 19,
   "metadata": {},
   "outputs": [
    {
     "name": "stdout",
     "output_type": "stream",
     "text": [
      "['3 GB' '4 GB' '6 GB' '8 GB' '12 GB' '2 GB' '1 GB'] \n",
      "\n",
      "[ 3  4  6  8 12  2  1]\n"
     ]
    }
   ],
   "source": [
    "print(df['ram'].unique(),'\\n')\n",
    "df['ram'] = df['ram'].apply(lambda x: int(x.split()[0]))\n",
    "print(df['ram'].unique())"
   ]
  },
  {
   "cell_type": "markdown",
   "metadata": {},
   "source": [
    "##### 4) mobile width height depth weight"
   ]
  },
  {
   "cell_type": "code",
   "execution_count": 20,
   "metadata": {
    "scrolled": true
   },
   "outputs": [
    {
     "name": "stdout",
     "output_type": "stream",
     "text": [
      "['75 mm' '75.4 mm' '74.2 mm' '75.7 mm' '74 mm' '75.16 mm' '74.24 mm'\n",
      " '74.8 mm' '75.8 mm' '73.7 mm' '75.6 mm' '75.2 mm' '75.41 mm' '74.3 mm'\n",
      " '76.68 mm' '71.85 mm' '75.21 mm' '75.49 mm' '77.26 mm' '76.4 mm'\n",
      " '75.35 mm' '73.6 mm' '9 mm' '8.35 mm' '76 mm' '70.1 mm' '70.4 mm'\n",
      " '71.5 mm' '75.58 mm' '76.2 mm' '76.77 mm' '75.23 mm' '75.19 mm'\n",
      " '75.09 mm' '76.46 mm' '77.33 mm' '76.47 mm' '75.04 mm' '74.17 mm'\n",
      " '74.71 mm' '74.7 mm' '75.08 mm' '77 mm' '75.03 mm' '75.93 mm' '72.8 mm'\n",
      " '75.24 mm' '75.74 mm' '72.9 mm' '159 mm' '75.3 mm' '72.1 mm' '69 mm'\n",
      " '152.4 mm' '76.8 mm' '76.88 mm' '75.25 mm' '72.85 mm' '82.38 mm'\n",
      " '76.6 mm' '75.5 mm' '73.3 mm' '73.4 mm' '76.1 mm' '77.2 mm' '73.1 mm'\n",
      " '77.35 mm' '74.6 mm' '154.5 mm' '73.8 mm'] \n",
      "\n",
      "['164.4 mm' '157 mm' '161 mm' '156.7 mm' '158.7 mm' '158.96 mm' '162.1 mm'\n",
      " '163.9 mm' '154.3 mm' '163.8 mm' '156.1 mm' '156.48 mm' '165.75 mm'\n",
      " '153.48 mm' '159.21 mm' '151.86 mm' '160.73 mm' '157.9 mm' '162.58 mm'\n",
      " '158.58 mm' '144 mm' '175 mm' '158.3 mm' '151 mm' '165.5 mm' '140.4 mm'\n",
      " '146.3 mm' '147.5 mm' '158.73 mm' '153 mm' '159.43 mm' '159.53 mm'\n",
      " '159.25 mm' '155.11 mm' '162.04 mm' '162.39 mm' '162.15 mm' '159.64 mm'\n",
      " '159.01 mm' '157.25 mm' '159 mm' '157.91 mm' '162 mm' '155.06 mm'\n",
      " '154.81 mm' '161.97 mm' '149.3 mm' '155.21 mm' '155.87 mm' '149.9 mm'\n",
      " '154.6 mm' '9 mm' '163.6 mm' '143.4 mm' '162.5 mm' '136.5 mm' '152.4 mm'\n",
      " '78.6 mm' '165 mm' '158 mm' '158.25 mm' '153.9 mm' '164 mm' '166.38 mm'\n",
      " '156 mm' '155.5 mm' '165.3 mm' '155.9 mm' '160.2 mm' '158.8 mm'\n",
      " '161.3 mm' '160 mm' '161.8 mm' '150.5 mm' '154.4 mm' '156.2 mm'\n",
      " '157.6 mm' '154.5 mm' '7.38 mm' '148.1 mm' '153.3 mm'] \n",
      "\n",
      "['8.95 mm' '9 mm' '8.9 mm' '8.7 mm' '8.5 mm' '8.55 mm' '9.65 mm' '9.6 mm'\n",
      " '9.4 mm' '9.3 mm' '8.6 mm' '8.3 mm' '8.8 mm' '8.475 mm' '8.1 mm' '7.7 mm'\n",
      " '8.26 mm' '7.3 mm' '8.96 mm' '8.05 mm' '92 mm' '75.3 mm' '8.4 mm'\n",
      " '8.35 mm' '9.55 mm' '8.47 mm' '8.92 mm' '8.13 mm' '8.68 mm' '8.28 mm'\n",
      " '9.11 mm' '8.85 mm' '8.89 mm' '8.54 mm' '8.21 mm' '9.8 mm' '7.9 mm'\n",
      " '7.98 mm' '7.77 mm' '7.89 mm' '7.8 mm' '7.5 mm' '75 mm' '7.6 mm'\n",
      " '8.65 mm' '7.95 mm' '8.79 mm' '9.1 mm' '8.2 mm' '9.5 mm' '8.67 mm'\n",
      " '7.4 mm' '7.99 mm' '7.38 mm' '76 mm'] \n",
      "\n",
      "['195 g' '199 g' '184 g' '174 g' '183 g' '207 g' '191 g' '166 g' '198 g'\n",
      " '182 g' '202 g' '175 g' '188 g' '209 g' '173.8 g' '186 g' '185 g' '168 g'\n",
      " '181 g' '145 g' '190 g' '165 g' '137 g' '146 g' '180 g' '154 g' '190.5 g'\n",
      " '189.6 g' '186.7 g' '163.5 g' '197 g' '201 g' '193 g' '186.5 g' '176 g'\n",
      " '179 g' '201.8 g' '156 g' '148 g' '150 g' '189.5 g' '139 g' '151 g'\n",
      " '160 g' '142 g' '143 g' '162.8 g' '187 g' '130 g' '178 g' '170 g' '194 g'\n",
      " '159 g' '155 g' '208 g' '172 g' '192 g' '215 g' '189 g' '169 g' '158 g'\n",
      " '153 g'] \n",
      "\n"
     ]
    }
   ],
   "source": [
    "print(df['mob_width'].unique(),'\\n')\n",
    "print(df['mob_height'].unique(),'\\n')\n",
    "print(df['mob_depth'].unique(),'\\n')\n",
    "print(df['mob_weight'].unique(),'\\n')"
   ]
  },
  {
   "cell_type": "code",
   "execution_count": 21,
   "metadata": {},
   "outputs": [
    {
     "name": "stdout",
     "output_type": "stream",
     "text": [
      "70 \n",
      "\n",
      "81 \n",
      "\n",
      "55 \n",
      "\n",
      "62 \n",
      "\n"
     ]
    }
   ],
   "source": [
    "print(df['mob_width'].nunique(),'\\n')\n",
    "print(df['mob_height'].nunique(),'\\n')\n",
    "print(df['mob_depth'].nunique(),'\\n')\n",
    "print(df['mob_weight'].nunique(),'\\n')"
   ]
  },
  {
   "cell_type": "code",
   "execution_count": 22,
   "metadata": {},
   "outputs": [],
   "source": [
    "df['mob_width'] = df['mob_width'].str.replace('\\smm','', regex = True)\n",
    "df['mob_height'] = df['mob_height'].str.replace('\\smm','', regex = True)\n",
    "df['mob_depth'] = df['mob_depth'].str.replace('\\smm','', regex = True)\n",
    "df['mob_weight'] = df['mob_weight'].str.replace('\\sg','', regex = True)"
   ]
  },
  {
   "cell_type": "code",
   "execution_count": 23,
   "metadata": {
    "scrolled": true
   },
   "outputs": [
    {
     "name": "stdout",
     "output_type": "stream",
     "text": [
      "['75' '75.4' '74.2' '75.7' '74' '75.16' '74.24' '74.8' '75.8' '73.7'\n",
      " '75.6' '75.2' '75.41' '74.3' '76.68' '71.85' '75.21' '75.49' '77.26'\n",
      " '76.4' '75.35' '73.6' '9' '8.35' '76' '70.1' '70.4' '71.5' '75.58' '76.2'\n",
      " '76.77' '75.23' '75.19' '75.09' '76.46' '77.33' '76.47' '75.04' '74.17'\n",
      " '74.71' '74.7' '75.08' '77' '75.03' '75.93' '72.8' '75.24' '75.74' '72.9'\n",
      " '159' '75.3' '72.1' '69' '152.4' '76.8' '76.88' '75.25' '72.85' '82.38'\n",
      " '76.6' '75.5' '73.3' '73.4' '76.1' '77.2' '73.1' '77.35' '74.6' '154.5'\n",
      " '73.8'] \n",
      "\n",
      "['164.4' '157' '161' '156.7' '158.7' '158.96' '162.1' '163.9' '154.3'\n",
      " '163.8' '156.1' '156.48' '165.75' '153.48' '159.21' '151.86' '160.73'\n",
      " '157.9' '162.58' '158.58' '144' '175' '158.3' '151' '165.5' '140.4'\n",
      " '146.3' '147.5' '158.73' '153' '159.43' '159.53' '159.25' '155.11'\n",
      " '162.04' '162.39' '162.15' '159.64' '159.01' '157.25' '159' '157.91'\n",
      " '162' '155.06' '154.81' '161.97' '149.3' '155.21' '155.87' '149.9'\n",
      " '154.6' '9' '163.6' '143.4' '162.5' '136.5' '152.4' '78.6' '165' '158'\n",
      " '158.25' '153.9' '164' '166.38' '156' '155.5' '165.3' '155.9' '160.2'\n",
      " '158.8' '161.3' '160' '161.8' '150.5' '154.4' '156.2' '157.6' '154.5'\n",
      " '7.38' '148.1' '153.3'] \n",
      "\n",
      "['8.95' '9' '8.9' '8.7' '8.5' '8.55' '9.65' '9.6' '9.4' '9.3' '8.6' '8.3'\n",
      " '8.8' '8.475' '8.1' '7.7' '8.26' '7.3' '8.96' '8.05' '92' '75.3' '8.4'\n",
      " '8.35' '9.55' '8.47' '8.92' '8.13' '8.68' '8.28' '9.11' '8.85' '8.89'\n",
      " '8.54' '8.21' '9.8' '7.9' '7.98' '7.77' '7.89' '7.8' '7.5' '75' '7.6'\n",
      " '8.65' '7.95' '8.79' '9.1' '8.2' '9.5' '8.67' '7.4' '7.99' '7.38' '76'] \n",
      "\n",
      "['195' '199' '184' '174' '183' '207' '191' '166' '198' '182' '202' '175'\n",
      " '188' '209' '173.8' '186' '185' '168' '181' '145' '190' '165' '137' '146'\n",
      " '180' '154' '190.5' '189.6' '186.7' '163.5' '197' '201' '193' '186.5'\n",
      " '176' '179' '201.8' '156' '148' '150' '189.5' '139' '151' '160' '142'\n",
      " '143' '162.8' '187' '130' '178' '170' '194' '159' '155' '208' '172' '192'\n",
      " '215' '189' '169' '158' '153'] \n",
      "\n"
     ]
    }
   ],
   "source": [
    "print(df['mob_width'].unique(),'\\n')\n",
    "print(df['mob_height'].unique(),'\\n')\n",
    "print(df['mob_depth'].unique(),'\\n')\n",
    "print(df['mob_weight'].unique(),'\\n')"
   ]
  },
  {
   "cell_type": "code",
   "execution_count": 24,
   "metadata": {},
   "outputs": [
    {
     "name": "stdout",
     "output_type": "stream",
     "text": [
      "70 \n",
      "\n",
      "81 \n",
      "\n",
      "55 \n",
      "\n",
      "62 \n",
      "\n"
     ]
    }
   ],
   "source": [
    "print(df['mob_width'].nunique(),'\\n')\n",
    "print(df['mob_height'].nunique(),'\\n')\n",
    "print(df['mob_depth'].nunique(),'\\n')\n",
    "print(df['mob_weight'].nunique(),'\\n')"
   ]
  },
  {
   "cell_type": "markdown",
   "metadata": {},
   "source": [
    "##### 5) bluetooth battery_power, dualsim"
   ]
  },
  {
   "cell_type": "code",
   "execution_count": 25,
   "metadata": {},
   "outputs": [
    {
     "name": "stdout",
     "output_type": "stream",
     "text": [
      "Yes    459\n",
      "Name: bluetooth, dtype: int64\n",
      "Dual Sim      458\n",
      "Single Sim      1\n",
      "Name: dual_sim, dtype: int64\n"
     ]
    }
   ],
   "source": [
    "print(df['bluetooth'].value_counts())\n",
    "print(df['dual_sim'].value_counts())"
   ]
  },
  {
   "cell_type": "raw",
   "metadata": {},
   "source": [
    "we can drop both columns as they mostly have single value which will not impact our price"
   ]
  },
  {
   "cell_type": "code",
   "execution_count": 26,
   "metadata": {},
   "outputs": [],
   "source": [
    "df.drop(['bluetooth','dual_sim'],axis = 1, inplace = True)"
   ]
  },
  {
   "cell_type": "code",
   "execution_count": 27,
   "metadata": {},
   "outputs": [
    {
     "name": "stdout",
     "output_type": "stream",
     "text": [
      "34\n"
     ]
    },
    {
     "data": {
      "text/plain": [
       "array(['5000 mAh', '4035 mAh', '4000 mAh', '3500 mAh', '4200 mAh',\n",
       "       '4300 mAh', '4230 mAh', '5020 mAh', '4030 mAh', '3400 mAh',\n",
       "       '3080 mAh', '3010 mAh', '4780 mAh', '3050 mAh', '4100 mAh',\n",
       "       '3000 mAh', '4500 mAh', '3700 mAh', '3260 mAh', '3360 mAh',\n",
       "       '3225 mAh', '2730 mAh', '6000 mAh', '2600 mAh', '2000 mAh',\n",
       "       '3600 mAh', '4350 mAh', '4025 mAh', '4065 mAh', '3730 mAh',\n",
       "       '3180 mAh', '4020 mAh', '3075 mAh', '3200 mAh'], dtype=object)"
      ]
     },
     "execution_count": 27,
     "metadata": {},
     "output_type": "execute_result"
    }
   ],
   "source": [
    "print(df['battery_power'].nunique())\n",
    "df['battery_power'].unique()"
   ]
  },
  {
   "cell_type": "code",
   "execution_count": 28,
   "metadata": {},
   "outputs": [
    {
     "name": "stdout",
     "output_type": "stream",
     "text": [
      "34\n"
     ]
    },
    {
     "data": {
      "text/plain": [
       "array(['5000', '4035', '4000', '3500', '4200', '4300', '4230', '5020',\n",
       "       '4030', '3400', '3080', '3010', '4780', '3050', '4100', '3000',\n",
       "       '4500', '3700', '3260', '3360', '3225', '2730', '6000', '2600',\n",
       "       '2000', '3600', '4350', '4025', '4065', '3730', '3180', '4020',\n",
       "       '3075', '3200'], dtype=object)"
      ]
     },
     "execution_count": 28,
     "metadata": {},
     "output_type": "execute_result"
    }
   ],
   "source": [
    "df['battery_power'] = df['battery_power'].str.replace('\\smAh','',regex = True)\n",
    "print(df['battery_power'].nunique())\n",
    "df['battery_power'].unique()"
   ]
  },
  {
   "cell_type": "markdown",
   "metadata": {},
   "source": [
    "##### 6) mobile_color,resolution,os"
   ]
  },
  {
   "cell_type": "code",
   "execution_count": 29,
   "metadata": {},
   "outputs": [
    {
     "name": "stdout",
     "output_type": "stream",
     "text": [
      "['So White' 'So Blue' 'That Green' 'That White' 'Crystal Green'\n",
      " 'Sparkling Blue' 'Lunar White' 'Neptune Blue' 'Black Sea' 'Pearl Blue'\n",
      " 'Pearl White' 'Rust Red' 'Moss Green' 'Frozen Blue' 'Comet White'\n",
      " 'Lightning Orange' 'Lightning Blue' 'Diamond Black' 'Diamond Blue'\n",
      " 'Diamond Ruby' 'Comet Blue' 'Diamond Sapphire' 'Crystal Red'\n",
      " 'Crystal Blue' 'Crystal Purple' 'Red Brick' 'Concrete' 'Pearl Green'\n",
      " 'That Blue' 'Glacier Blue' 'Arctic White' 'Dynamic Black' 'Diamond Red'\n",
      " 'Radiant Blue' 'Black' 'Sapphire Blue' 'Onyx Black' 'Flame Red'\n",
      " 'Aurora Blue' 'Carbon Black' 'More Than White' 'Space Black'\n",
      " 'Not just Blue' 'Kind of Grey' 'Nebula Red' 'Gold' 'Rose Gold' 'Red'\n",
      " 'Twilight Grey' 'Coral Green' 'Lake Blue' 'Metallic Grey' 'Emerald Green'\n",
      " 'Ruby Red' 'Interstellar Black' 'Sea Blue' 'Midnight Grey'\n",
      " 'Moonlight White' 'Sky White' 'Glacier White' 'Astro Moonlight White'\n",
      " 'Sunset Red' 'Blue/Lake Blue' 'Blue' 'Matte Black' 'Matte Gold'\n",
      " 'Elegant Blue' 'Prime Black' 'Grey' 'Dark Grey' 'Burgundy Red'\n",
      " 'Thunder Black' 'Mineral Blue' 'Fusion Blue' 'Phantom Purple' 'Agate Red'\n",
      " 'Mystic Black' 'Jazzy Blue' 'Dreamy White' 'Fusion Black' 'Ocean Blue'\n",
      " 'Iris Blue' 'Sonic Black' 'Sonic Blue' 'Magnetic Black' 'Mystic Silver'\n",
      " 'Piano Black' 'Glacier ice white' 'Midnight Ocean Black' 'Electric Blue'\n",
      " 'Skyline Blue' 'Topaz Blue' 'Mystic Purple' 'Glacier Ice White'\n",
      " 'Starry Night Black' 'Frozen Black' 'Starry Black' 'Energetic Blue'\n",
      " 'Nebula Purple' 'White' 'Midnight Blue' 'Raven Black' 'Prism Blue'\n",
      " 'Prism Black' 'Metallic gold' 'Violet' 'Ocean Wave' 'Charcoal Blue'\n",
      " 'Forest Green' 'Bordeaux Red' 'Tradew Gray' 'Milan Black' 'Ice Blue'\n",
      " 'Berlin Gray' 'Midnight Black' 'Mocha Brown' 'Aqua Blue'\n",
      " 'Sandstone Black' 'Blush Gold' 'Quetzal Cyan' 'Bronze Gold Black'\n",
      " 'Nebula Blue' 'Twilight Purple' 'Space Gray' 'Steel Blue'\n",
      " 'Graphite Black' 'Armoured Edition' 'Rosso Red' 'Matrix Purple'\n",
      " 'Atlantis Blue' 'Phoenix Red' 'Green and Greener' 'Out of the Blue'\n",
      " 'Two Shades of Black' 'Fantasy White' 'Mystery Black' 'Marine Green'\n",
      " 'Unicorn White' 'Blazing Blue' 'Twilight Black' 'Stream White'\n",
      " 'Deep Blue' 'Flowing Silver' 'Green' 'Space Purple' 'Lightening Black'\n",
      " 'Auroral Blue' 'Ocean Green' 'Luminous Black' 'Champagne' 'Vanilla Mint'\n",
      " 'Sunrise Red' 'Astral Blue' 'Marble Green' 'Glaring Gold' 'Twilight Blue'\n",
      " 'Starry Purple' 'Glaze Blue' 'Purple' 'Waterfall Grey' 'Radiant Mist'\n",
      " 'Fluorite Purple' 'Jewelry White' 'Stellar Purple' 'Jet Black']\n"
     ]
    }
   ],
   "source": [
    "print(df['mobile_color'].unique())"
   ]
  },
  {
   "cell_type": "code",
   "execution_count": 30,
   "metadata": {},
   "outputs": [
    {
     "data": {
      "text/html": [
       "<div>\n",
       "<style scoped>\n",
       "    .dataframe tbody tr th:only-of-type {\n",
       "        vertical-align: middle;\n",
       "    }\n",
       "\n",
       "    .dataframe tbody tr th {\n",
       "        vertical-align: top;\n",
       "    }\n",
       "\n",
       "    .dataframe thead th {\n",
       "        text-align: right;\n",
       "    }\n",
       "</style>\n",
       "<table border=\"1\" class=\"dataframe\">\n",
       "  <thead>\n",
       "    <tr style=\"text-align: right;\">\n",
       "      <th></th>\n",
       "      <th>dumm1</th>\n",
       "      <th>dummy2</th>\n",
       "      <th>mobile_color</th>\n",
       "    </tr>\n",
       "  </thead>\n",
       "  <tbody>\n",
       "    <tr>\n",
       "      <td>0</td>\n",
       "      <td>So</td>\n",
       "      <td></td>\n",
       "      <td>White</td>\n",
       "    </tr>\n",
       "    <tr>\n",
       "      <td>1</td>\n",
       "      <td>So</td>\n",
       "      <td></td>\n",
       "      <td>Blue</td>\n",
       "    </tr>\n",
       "    <tr>\n",
       "      <td>2</td>\n",
       "      <td>So</td>\n",
       "      <td></td>\n",
       "      <td>Blue</td>\n",
       "    </tr>\n",
       "    <tr>\n",
       "      <td>3</td>\n",
       "      <td>So</td>\n",
       "      <td></td>\n",
       "      <td>White</td>\n",
       "    </tr>\n",
       "    <tr>\n",
       "      <td>4</td>\n",
       "      <td>That</td>\n",
       "      <td></td>\n",
       "      <td>Green</td>\n",
       "    </tr>\n",
       "    <tr>\n",
       "      <td>...</td>\n",
       "      <td>...</td>\n",
       "      <td>...</td>\n",
       "      <td>...</td>\n",
       "    </tr>\n",
       "    <tr>\n",
       "      <td>454</td>\n",
       "      <td></td>\n",
       "      <td></td>\n",
       "      <td>Black</td>\n",
       "    </tr>\n",
       "    <tr>\n",
       "      <td>455</td>\n",
       "      <td></td>\n",
       "      <td></td>\n",
       "      <td>Red</td>\n",
       "    </tr>\n",
       "    <tr>\n",
       "      <td>456</td>\n",
       "      <td></td>\n",
       "      <td></td>\n",
       "      <td>Red</td>\n",
       "    </tr>\n",
       "    <tr>\n",
       "      <td>457</td>\n",
       "      <td>Marble</td>\n",
       "      <td></td>\n",
       "      <td>Green</td>\n",
       "    </tr>\n",
       "    <tr>\n",
       "      <td>458</td>\n",
       "      <td>Fluorite</td>\n",
       "      <td></td>\n",
       "      <td>Purple</td>\n",
       "    </tr>\n",
       "  </tbody>\n",
       "</table>\n",
       "<p>459 rows × 3 columns</p>\n",
       "</div>"
      ],
      "text/plain": [
       "        dumm1 dummy2 mobile_color\n",
       "0          So               White\n",
       "1          So                Blue\n",
       "2          So                Blue\n",
       "3          So               White\n",
       "4        That               Green\n",
       "..        ...    ...          ...\n",
       "454                         Black\n",
       "455                           Red\n",
       "456                           Red\n",
       "457    Marble               Green\n",
       "458  Fluorite              Purple\n",
       "\n",
       "[459 rows x 3 columns]"
      ]
     },
     "execution_count": 30,
     "metadata": {},
     "output_type": "execute_result"
    }
   ],
   "source": [
    "df[['dumm1','dummy2','mobile_color']] = df['mobile_color'].str.rpartition(' ')\n",
    "df[['dumm1','dummy2','mobile_color']] "
   ]
  },
  {
   "cell_type": "code",
   "execution_count": 31,
   "metadata": {},
   "outputs": [],
   "source": [
    "df.drop(['dumm1','dummy2',],axis = 1,inplace = True)"
   ]
  },
  {
   "cell_type": "code",
   "execution_count": 32,
   "metadata": {},
   "outputs": [
    {
     "data": {
      "text/plain": [
       "Blue         119\n",
       "Black        115\n",
       "Red           53\n",
       "White         40\n",
       "Gold          34\n",
       "Purple        24\n",
       "Green         21\n",
       "Grey          14\n",
       "Violet         5\n",
       "Gray           4\n",
       "Silver         3\n",
       "Greener        3\n",
       "Mint           3\n",
       "Sapphire       2\n",
       "Concrete       2\n",
       "Mist           2\n",
       "Wave           2\n",
       "Brick          2\n",
       "Cyan           2\n",
       "Edition        2\n",
       "Ruby           1\n",
       "white          1\n",
       "Sea            1\n",
       "Orange         1\n",
       "gold           1\n",
       "Champagne      1\n",
       "Brown          1\n",
       "Name: mobile_color, dtype: int64"
      ]
     },
     "execution_count": 32,
     "metadata": {},
     "output_type": "execute_result"
    }
   ],
   "source": [
    "df['mobile_color'].value_counts()"
   ]
  },
  {
   "cell_type": "code",
   "execution_count": 33,
   "metadata": {},
   "outputs": [],
   "source": [
    "df['mobile_color'] = df['mobile_color'].replace({'Greener':'Green','white':'White','gold':'Gold','Gray':'Grey'})"
   ]
  },
  {
   "cell_type": "code",
   "execution_count": 34,
   "metadata": {},
   "outputs": [
    {
     "data": {
      "text/plain": [
       "Blue         119\n",
       "Black        115\n",
       "Red           53\n",
       "White         41\n",
       "Gold          35\n",
       "Purple        24\n",
       "Green         24\n",
       "Grey          18\n",
       "Violet         5\n",
       "Silver         3\n",
       "Mint           3\n",
       "Sapphire       2\n",
       "Mist           2\n",
       "Concrete       2\n",
       "Wave           2\n",
       "Brick          2\n",
       "Cyan           2\n",
       "Edition        2\n",
       "Ruby           1\n",
       "Sea            1\n",
       "Champagne      1\n",
       "Orange         1\n",
       "Brown          1\n",
       "Name: mobile_color, dtype: int64"
      ]
     },
     "execution_count": 34,
     "metadata": {},
     "output_type": "execute_result"
    }
   ],
   "source": [
    "df['mobile_color'].value_counts()"
   ]
  },
  {
   "cell_type": "code",
   "execution_count": 35,
   "metadata": {},
   "outputs": [
    {
     "data": {
      "text/plain": [
       "array(['1600 x 720 Pixels', '2340 x 1080 pixels', '2400 x 1080 Pixels',\n",
       "       '1080 x 2340 Pixels', '1080 x 2400 Pixels', '720 x 1600 Pixels',\n",
       "       '1560 x 720 pixels', '2400 × 1080 Pixels', '1520 x 720 pixels',\n",
       "       '1520 x 720 Pixels', '2400 x 1080 pixel', '1560 x 720 Pixels',\n",
       "       '2160 x 1080 Pixels', '1440 x 720 pixels', '2280 x 1080 pixels',\n",
       "       '2160 x 1080 pixels', '2340 x 1080 Pixel', '1920 x 1080 Pixels',\n",
       "       '1520 x 720$$Pixels', '1520 x 720$$pixel', '2280 x 1080$$Pixels',\n",
       "       '1920 x 1080 pixels', '2400 x 1080 Pixel', '1280 x 720 pixels',\n",
       "       '2400 x 1080$$pixel', '1280 x 720 Pixels', '720 x 1544 pixels',\n",
       "       '720 x 1544 Pixels', '2340 x 1080 Pixels', '2316 x 1080 pixels',\n",
       "       '2280 x 1080 Pixels', '1440 x 720 Pixels', '1440 x 720 Pixel',\n",
       "       '1520 x 720$$ pixels', '1520 x 720$pixels', '2340 x 1080$$pixel',\n",
       "       '2340 x 1080$$Pixel', '960 x 540 Pixels', '540 x 960 Pixels',\n",
       "       '1080 x 2160 pixels', '1500 x 720 pixels', '720 x 1440 Pixels',\n",
       "       '720*1440 Pixels', '1080 x 1920 Pixels', '720 x 1520 pixels',\n",
       "       '1080 x 2340 pixels', '720 x 1560 pixels', '720 x 1280'],\n",
       "      dtype=object)"
      ]
     },
     "execution_count": 35,
     "metadata": {},
     "output_type": "execute_result"
    }
   ],
   "source": [
    "df['resolution'].unique()"
   ]
  },
  {
   "cell_type": "code",
   "execution_count": 36,
   "metadata": {},
   "outputs": [],
   "source": [
    "df['resolution'] = df['resolution'].replace('\\s?[pP]ixel.*','',regex =True).replace('\\s?[X*x]\\s?','X',regex = True).replace(\n",
    "    '\\$','',regex = True)"
   ]
  },
  {
   "cell_type": "code",
   "execution_count": 37,
   "metadata": {
    "scrolled": false
   },
   "outputs": [
    {
     "data": {
      "text/plain": [
       "array(['1600X720', '2340X1080', '2400X1080', '1080X2340', '1080X2400',\n",
       "       '720X1600', '1560X720', '2400 × 1080', '1520X720', '2160X1080',\n",
       "       '1440X720', '2280X1080', '1920X1080', '1280X720', '720X1544',\n",
       "       '2316X1080', '960X540', '540X960', '1080X2160', '1500X720',\n",
       "       '720X1440', '1080X1920', '720X1520', '720X1560', '720X1280'],\n",
       "      dtype=object)"
      ]
     },
     "execution_count": 37,
     "metadata": {},
     "output_type": "execute_result"
    }
   ],
   "source": [
    "df['resolution'].unique()"
   ]
  },
  {
   "cell_type": "code",
   "execution_count": 38,
   "metadata": {},
   "outputs": [],
   "source": [
    "df['resolution'] = df['resolution'].replace('2400 × 1080','2400X1080')"
   ]
  },
  {
   "cell_type": "code",
   "execution_count": 39,
   "metadata": {
    "scrolled": false
   },
   "outputs": [
    {
     "data": {
      "text/plain": [
       "array(['1600X720', '2340X1080', '2400X1080', '1080X2340', '1080X2400',\n",
       "       '720X1600', '1560X720', '1520X720', '2160X1080', '1440X720',\n",
       "       '2280X1080', '1920X1080', '1280X720', '720X1544', '2316X1080',\n",
       "       '960X540', '540X960', '1080X2160', '1500X720', '720X1440',\n",
       "       '1080X1920', '720X1520', '720X1560', '720X1280'], dtype=object)"
      ]
     },
     "execution_count": 39,
     "metadata": {},
     "output_type": "execute_result"
    }
   ],
   "source": [
    "df['resolution'].unique()"
   ]
  },
  {
   "cell_type": "code",
   "execution_count": 40,
   "metadata": {},
   "outputs": [
    {
     "data": {
      "text/html": [
       "<div>\n",
       "<style scoped>\n",
       "    .dataframe tbody tr th:only-of-type {\n",
       "        vertical-align: middle;\n",
       "    }\n",
       "\n",
       "    .dataframe tbody tr th {\n",
       "        vertical-align: top;\n",
       "    }\n",
       "\n",
       "    .dataframe thead th {\n",
       "        text-align: right;\n",
       "    }\n",
       "</style>\n",
       "<table border=\"1\" class=\"dataframe\">\n",
       "  <thead>\n",
       "    <tr style=\"text-align: right;\">\n",
       "      <th></th>\n",
       "      <th>res1</th>\n",
       "      <th>X</th>\n",
       "      <th>res2</th>\n",
       "    </tr>\n",
       "  </thead>\n",
       "  <tbody>\n",
       "    <tr>\n",
       "      <td>0</td>\n",
       "      <td>1600</td>\n",
       "      <td>X</td>\n",
       "      <td>720</td>\n",
       "    </tr>\n",
       "    <tr>\n",
       "      <td>1</td>\n",
       "      <td>1600</td>\n",
       "      <td>X</td>\n",
       "      <td>720</td>\n",
       "    </tr>\n",
       "    <tr>\n",
       "      <td>2</td>\n",
       "      <td>1600</td>\n",
       "      <td>X</td>\n",
       "      <td>720</td>\n",
       "    </tr>\n",
       "    <tr>\n",
       "      <td>3</td>\n",
       "      <td>1600</td>\n",
       "      <td>X</td>\n",
       "      <td>720</td>\n",
       "    </tr>\n",
       "    <tr>\n",
       "      <td>4</td>\n",
       "      <td>1600</td>\n",
       "      <td>X</td>\n",
       "      <td>720</td>\n",
       "    </tr>\n",
       "    <tr>\n",
       "      <td>...</td>\n",
       "      <td>...</td>\n",
       "      <td>...</td>\n",
       "      <td>...</td>\n",
       "    </tr>\n",
       "    <tr>\n",
       "      <td>454</td>\n",
       "      <td>1440</td>\n",
       "      <td>X</td>\n",
       "      <td>720</td>\n",
       "    </tr>\n",
       "    <tr>\n",
       "      <td>455</td>\n",
       "      <td>1440</td>\n",
       "      <td>X</td>\n",
       "      <td>720</td>\n",
       "    </tr>\n",
       "    <tr>\n",
       "      <td>456</td>\n",
       "      <td>2280</td>\n",
       "      <td>X</td>\n",
       "      <td>1080</td>\n",
       "    </tr>\n",
       "    <tr>\n",
       "      <td>457</td>\n",
       "      <td>1080</td>\n",
       "      <td>X</td>\n",
       "      <td>2340</td>\n",
       "    </tr>\n",
       "    <tr>\n",
       "      <td>458</td>\n",
       "      <td>1080</td>\n",
       "      <td>X</td>\n",
       "      <td>2340</td>\n",
       "    </tr>\n",
       "  </tbody>\n",
       "</table>\n",
       "<p>459 rows × 3 columns</p>\n",
       "</div>"
      ],
      "text/plain": [
       "     res1  X  res2\n",
       "0    1600  X   720\n",
       "1    1600  X   720\n",
       "2    1600  X   720\n",
       "3    1600  X   720\n",
       "4    1600  X   720\n",
       "..    ... ..   ...\n",
       "454  1440  X   720\n",
       "455  1440  X   720\n",
       "456  2280  X  1080\n",
       "457  1080  X  2340\n",
       "458  1080  X  2340\n",
       "\n",
       "[459 rows x 3 columns]"
      ]
     },
     "execution_count": 40,
     "metadata": {},
     "output_type": "execute_result"
    }
   ],
   "source": [
    "df[['res1','X','res2']] = df['resolution'].str.partition('X')\n",
    "df[['res1','X','res2']]"
   ]
  },
  {
   "cell_type": "code",
   "execution_count": 41,
   "metadata": {},
   "outputs": [],
   "source": [
    "df.drop('X',axis =1, inplace = True)"
   ]
  },
  {
   "cell_type": "code",
   "execution_count": 42,
   "metadata": {},
   "outputs": [
    {
     "name": "stdout",
     "output_type": "stream",
     "text": [
      "['1600' '2340' '2400' '1080' '720' '1560' '1520' '2160' '1440' '2280'\n",
      " '1920' '1280' '2316' '960' '540' '1500']\n",
      "['720' '1080' '2340' '2400' '1600' '1544' '540' '960' '2160' '1440' '1920'\n",
      " '1520' '1560' '1280']\n"
     ]
    }
   ],
   "source": [
    "print(df['res1'].unique())\n",
    "print(df['res2'].unique())"
   ]
  },
  {
   "cell_type": "code",
   "execution_count": 43,
   "metadata": {},
   "outputs": [],
   "source": [
    "df['res1'] = df['res1'].astype(int)\n",
    "df['res2'] = df['res2'].astype(int)"
   ]
  },
  {
   "cell_type": "code",
   "execution_count": 44,
   "metadata": {},
   "outputs": [
    {
     "data": {
      "text/plain": [
       "array([1152000, 2527200, 2592000, 1123200, 1094400, 2332800, 1036800,\n",
       "       2462400, 2073600,  921600, 1111680, 2501280,  518400, 1080000],\n",
       "      dtype=int64)"
      ]
     },
     "execution_count": 44,
     "metadata": {},
     "output_type": "execute_result"
    }
   ],
   "source": [
    "df['resolution'] = df['res1']*df['res2']\n",
    "df['resolution'].unique()"
   ]
  },
  {
   "cell_type": "code",
   "execution_count": 45,
   "metadata": {},
   "outputs": [],
   "source": [
    "df.drop(['res1','res2'],axis = 1,inplace = True)"
   ]
  },
  {
   "cell_type": "code",
   "execution_count": null,
   "metadata": {},
   "outputs": [],
   "source": []
  },
  {
   "cell_type": "code",
   "execution_count": 46,
   "metadata": {},
   "outputs": [
    {
     "data": {
      "text/plain": [
       "array(['Android 10', 'Android Pie 9.0', 'Android Pie 9',\n",
       "       'Android Oreo 8.1', 'Android Pie 10', 'Android Nougat 7.1.1',\n",
       "       'Android Oreo 8.0', 'Android Nougat 7.1.2', 'Android KitKat 4.4.2',\n",
       "       'Android Marshmallow 6.0.1', 'Android Nougat 7.1',\n",
       "       'Android Marshmallow 6', 'Android Nougat 7',\n",
       "       'Android Lollipop 5.4.1', 'Android Oreo 8.1.0', 'Android Oreo 8',\n",
       "       'Android Lollipop 5.1', 'Android Lollipop 5.1.1'], dtype=object)"
      ]
     },
     "execution_count": 46,
     "metadata": {},
     "output_type": "execute_result"
    }
   ],
   "source": [
    "df['os'].unique()"
   ]
  },
  {
   "cell_type": "code",
   "execution_count": 47,
   "metadata": {},
   "outputs": [],
   "source": [
    "df['os'] = df['os'].str.replace(r'^Android\\s[a-zA-Z]*\\s?',r'',regex = True)"
   ]
  },
  {
   "cell_type": "code",
   "execution_count": 48,
   "metadata": {},
   "outputs": [
    {
     "data": {
      "text/plain": [
       "array(['10', '9.0', '9', '8.1', '7.1.1', '8.0', '7.1.2', '4.4.2', '6.0.1',\n",
       "       '7.1', '6', '7', '5.4.1', '8.1.0', '8', '5.1', '5.1.1'],\n",
       "      dtype=object)"
      ]
     },
     "execution_count": 48,
     "metadata": {},
     "output_type": "execute_result"
    }
   ],
   "source": [
    "df['os'].unique()"
   ]
  },
  {
   "cell_type": "code",
   "execution_count": 49,
   "metadata": {},
   "outputs": [
    {
     "data": {
      "text/html": [
       "<div>\n",
       "<style scoped>\n",
       "    .dataframe tbody tr th:only-of-type {\n",
       "        vertical-align: middle;\n",
       "    }\n",
       "\n",
       "    .dataframe tbody tr th {\n",
       "        vertical-align: top;\n",
       "    }\n",
       "\n",
       "    .dataframe thead th {\n",
       "        text-align: right;\n",
       "    }\n",
       "</style>\n",
       "<table border=\"1\" class=\"dataframe\">\n",
       "  <thead>\n",
       "    <tr style=\"text-align: right;\">\n",
       "      <th></th>\n",
       "      <th>os</th>\n",
       "      <th>dummy1</th>\n",
       "      <th>dummy2</th>\n",
       "    </tr>\n",
       "  </thead>\n",
       "  <tbody>\n",
       "    <tr>\n",
       "      <td>0</td>\n",
       "      <td>10</td>\n",
       "      <td></td>\n",
       "      <td></td>\n",
       "    </tr>\n",
       "    <tr>\n",
       "      <td>1</td>\n",
       "      <td>10</td>\n",
       "      <td></td>\n",
       "      <td></td>\n",
       "    </tr>\n",
       "    <tr>\n",
       "      <td>2</td>\n",
       "      <td>10</td>\n",
       "      <td></td>\n",
       "      <td></td>\n",
       "    </tr>\n",
       "    <tr>\n",
       "      <td>3</td>\n",
       "      <td>10</td>\n",
       "      <td></td>\n",
       "      <td></td>\n",
       "    </tr>\n",
       "    <tr>\n",
       "      <td>4</td>\n",
       "      <td>10</td>\n",
       "      <td></td>\n",
       "      <td></td>\n",
       "    </tr>\n",
       "    <tr>\n",
       "      <td>...</td>\n",
       "      <td>...</td>\n",
       "      <td>...</td>\n",
       "      <td>...</td>\n",
       "    </tr>\n",
       "    <tr>\n",
       "      <td>454</td>\n",
       "      <td>7</td>\n",
       "      <td>.</td>\n",
       "      <td>1</td>\n",
       "    </tr>\n",
       "    <tr>\n",
       "      <td>455</td>\n",
       "      <td>7</td>\n",
       "      <td>.</td>\n",
       "      <td>1</td>\n",
       "    </tr>\n",
       "    <tr>\n",
       "      <td>456</td>\n",
       "      <td>8</td>\n",
       "      <td>.</td>\n",
       "      <td>1.0</td>\n",
       "    </tr>\n",
       "    <tr>\n",
       "      <td>457</td>\n",
       "      <td>9</td>\n",
       "      <td>.</td>\n",
       "      <td>0</td>\n",
       "    </tr>\n",
       "    <tr>\n",
       "      <td>458</td>\n",
       "      <td>9</td>\n",
       "      <td>.</td>\n",
       "      <td>0</td>\n",
       "    </tr>\n",
       "  </tbody>\n",
       "</table>\n",
       "<p>459 rows × 3 columns</p>\n",
       "</div>"
      ],
      "text/plain": [
       "     os dummy1 dummy2\n",
       "0    10              \n",
       "1    10              \n",
       "2    10              \n",
       "3    10              \n",
       "4    10              \n",
       "..   ..    ...    ...\n",
       "454   7      .      1\n",
       "455   7      .      1\n",
       "456   8      .    1.0\n",
       "457   9      .      0\n",
       "458   9      .      0\n",
       "\n",
       "[459 rows x 3 columns]"
      ]
     },
     "execution_count": 49,
     "metadata": {},
     "output_type": "execute_result"
    }
   ],
   "source": [
    "df[['os','dummy1','dummy2']] = df['os'].str.partition('.')\n",
    "df[['os','dummy1','dummy2']]"
   ]
  },
  {
   "cell_type": "code",
   "execution_count": 50,
   "metadata": {},
   "outputs": [],
   "source": [
    "df.drop(['dummy1','dummy2'],axis = 1,inplace = True)"
   ]
  },
  {
   "cell_type": "code",
   "execution_count": 51,
   "metadata": {},
   "outputs": [
    {
     "data": {
      "text/plain": [
       "9     208\n",
       "8     122\n",
       "10     84\n",
       "7      34\n",
       "5       5\n",
       "6       5\n",
       "4       1\n",
       "Name: os, dtype: int64"
      ]
     },
     "execution_count": 51,
     "metadata": {},
     "output_type": "execute_result"
    }
   ],
   "source": [
    "df['os'].value_counts()"
   ]
  },
  {
   "cell_type": "markdown",
   "metadata": {},
   "source": [
    "##### 8) P_cam,f_cam,network,num_cores"
   ]
  },
  {
   "cell_type": "code",
   "execution_count": 52,
   "metadata": {},
   "outputs": [
    {
     "data": {
      "text/plain": [
       "array(['12MP + 2MP + 2MP', '48MP + 8MP + 2MP + 2MP',\n",
       "       '48MP + 8MP + 2MP + 2MP Quad Camera', '64MP + 13MP + 8MP + 2MP',\n",
       "       '16MP + 2MP', '64MP + 8MP + 2MP + 2MP Quad Camera',\n",
       "       '64MP + 12MP + 8MP + 2MP', '12MP + 2MP', '64MP + 8MP + 2MP + 2MP',\n",
       "       '13MP + 2MP', '64MP + 8MP + 8MP + 2MP', '48MP + 13MP + 8MP',\n",
       "       '48MP + 8MP + 5MP + 2MP', '48MP + 8MP + 2MP', '48MP + 5MP',\n",
       "       '12MP Rear Camera', '12MP + 5MP', '20MP + 12MP',\n",
       "       '108MP Rear Camera', '13MP Rear Camera', '48MP + 8MP',\n",
       "       '64MP + 8MP + 5MP + 2MP', '8MP Rear Camera', '13MP + 2MP + 8MP',\n",
       "       '13MP + 8MP + 2MP', '13MP + 8MP + 2MP + 2MP', '16MP + 2MP + 8MP',\n",
       "       '16MP + 8MP + 2MP', '48MP + 5MP + 8MP',\n",
       "       '48 Million Quad Pixel Sensor (12 Million Effective Pixel) + 8MP + 5MP, AI Triple Rear Camera',\n",
       "       '48MP + 13MP + 8MP + 2MP', '12MP + 5MP + 8MP', '16MP Rear Camera',\n",
       "       '16MP + 5MP', '48MP + 8MP + 5MP', '64MP + 8MP + 5MP + 5MP',\n",
       "       '48MP + 12MP + 5MP', '5MP Rear Camera',\n",
       "       '48 MP + 2 MP + 2 MP + Low Light Sensor',\n",
       "       '13 MP + 2 MP + 2 MP + Low Light Sensor',\n",
       "       '48MP + 2MP + Low Light Sensor', '16MP + 2MP + Low Light Sensor',\n",
       "       '12MP + 13MP', '13MP + 2MP Depth Sensor + 8MP Wide Angle sensor',\n",
       "       '16MP + 5MP + 2MP + Low Light Sensor', '12MP + 8MP + 2MP + 2MP',\n",
       "       '48MP + 8MP + 13MP + 2MP', '16MP + 20MP', '12MP + 20MP'],\n",
       "      dtype=object)"
      ]
     },
     "execution_count": 52,
     "metadata": {},
     "output_type": "execute_result"
    }
   ],
   "source": [
    "df['p_cam'].unique()"
   ]
  },
  {
   "cell_type": "raw",
   "metadata": {},
   "source": [
    "we will divide data into two columns where top cam and number of cams will be our main focus"
   ]
  },
  {
   "cell_type": "code",
   "execution_count": 53,
   "metadata": {},
   "outputs": [],
   "source": [
    "df['p_cam_max'] = [x[0:2].replace('M','') for x in df['p_cam']]\n",
    "df['p_cam_count'] = [x.count('MP') for x in df['p_cam']]"
   ]
  },
  {
   "cell_type": "code",
   "execution_count": 54,
   "metadata": {},
   "outputs": [],
   "source": [
    "df['f_cam_max'] = [x[0:2].replace('M','') for x in df['p_cam']]\n",
    "df['f_cam_count'] = [x.count('MP') for x in df['p_cam']]"
   ]
  },
  {
   "cell_type": "code",
   "execution_count": 55,
   "metadata": {},
   "outputs": [],
   "source": [
    "df.drop(['p_cam','f_cam'],axis = 1, inplace = True)"
   ]
  },
  {
   "cell_type": "code",
   "execution_count": 56,
   "metadata": {},
   "outputs": [
    {
     "data": {
      "text/plain": [
       "array(['4G VOLTE, 4G, 3G, 2G', '3G, 4G VOLTE, 2G', '3G, 4G VOLTE, 4G, 2G',\n",
       "       '3G, 4G, 2G', '4G, 2G, 3G', '5G, 4G VOLTE, 4G, 3G, 2G',\n",
       "       '4G VOLTE, 3G, 2G', '4G VOLTE, 3G', '4G VOLTE, 4G, 2G, 3G',\n",
       "       '4G VOLTE, 5G', '3G, 4G VOLTE, 4G', '3G', '4G VOLTE',\n",
       "       '3G, 4G VOLTE', '2G', '4G, 3G, 2G', '3G, 4G', '4G VOLTE, 4G'],\n",
       "      dtype=object)"
      ]
     },
     "execution_count": 56,
     "metadata": {},
     "output_type": "execute_result"
    }
   ],
   "source": [
    "df['network'].unique()"
   ]
  },
  {
   "cell_type": "code",
   "execution_count": 57,
   "metadata": {},
   "outputs": [],
   "source": [
    "df['network'] = df['network'].str.replace(' ','')"
   ]
  },
  {
   "cell_type": "code",
   "execution_count": 58,
   "metadata": {
    "scrolled": true
   },
   "outputs": [
    {
     "data": {
      "text/plain": [
       "array(['4GVOLTE,4G,3G,2G', '3G,4GVOLTE,2G', '3G,4GVOLTE,4G,2G',\n",
       "       '3G,4G,2G', '4G,2G,3G', '5G,4GVOLTE,4G,3G,2G', '4GVOLTE,3G,2G',\n",
       "       '4GVOLTE,3G', '4GVOLTE,4G,2G,3G', '4GVOLTE,5G', '3G,4GVOLTE,4G',\n",
       "       '3G', '4GVOLTE', '3G,4GVOLTE', '2G', '4G,3G,2G', '3G,4G',\n",
       "       '4GVOLTE,4G'], dtype=object)"
      ]
     },
     "execution_count": 58,
     "metadata": {},
     "output_type": "execute_result"
    }
   ],
   "source": [
    "df['network'].unique()"
   ]
  },
  {
   "cell_type": "code",
   "execution_count": 59,
   "metadata": {},
   "outputs": [
    {
     "data": {
      "text/plain": [
       "['2G', '3G', '4G', '4GVOLTE']"
      ]
     },
     "execution_count": 59,
     "metadata": {},
     "output_type": "execute_result"
    }
   ],
   "source": [
    "sorted(df['network'][0].split(','))"
   ]
  },
  {
   "cell_type": "code",
   "execution_count": 60,
   "metadata": {
    "scrolled": true
   },
   "outputs": [],
   "source": [
    "df['network'] = df['network'].apply(lambda x: sorted(x.split(',')))\n",
    "# df['network'].unique()"
   ]
  },
  {
   "cell_type": "code",
   "execution_count": 61,
   "metadata": {},
   "outputs": [
    {
     "data": {
      "text/plain": [
       "[2G, 3G, 4G, 4GVOLTE]        238\n",
       "[2G, 3G, 4GVOLTE]             99\n",
       "[2G, 3G, 4G]                  68\n",
       "[3G, 4GVOLTE]                 18\n",
       "[3G, 4G, 4GVOLTE]             13\n",
       "[4GVOLTE]                      8\n",
       "[4GVOLTE, 5G]                  4\n",
       "[2G, 3G, 4G, 4GVOLTE, 5G]      3\n",
       "[4G, 4GVOLTE]                  3\n",
       "[2G]                           2\n",
       "[3G, 4G]                       2\n",
       "[3G]                           1\n",
       "Name: network, dtype: int64"
      ]
     },
     "execution_count": 61,
     "metadata": {},
     "output_type": "execute_result"
    }
   ],
   "source": [
    "df['network'].value_counts()"
   ]
  },
  {
   "cell_type": "code",
   "execution_count": 62,
   "metadata": {},
   "outputs": [],
   "source": [
    "from sklearn.preprocessing import MultiLabelBinarizer\n",
    "\n",
    "mlb=MultiLabelBinarizer()\n",
    "dg=pd.DataFrame(mlb.fit_transform(df['network']),columns=mlb.classes_,index=df.index)"
   ]
  },
  {
   "cell_type": "code",
   "execution_count": 63,
   "metadata": {},
   "outputs": [
    {
     "data": {
      "text/html": [
       "<div>\n",
       "<style scoped>\n",
       "    .dataframe tbody tr th:only-of-type {\n",
       "        vertical-align: middle;\n",
       "    }\n",
       "\n",
       "    .dataframe tbody tr th {\n",
       "        vertical-align: top;\n",
       "    }\n",
       "\n",
       "    .dataframe thead th {\n",
       "        text-align: right;\n",
       "    }\n",
       "</style>\n",
       "<table border=\"1\" class=\"dataframe\">\n",
       "  <thead>\n",
       "    <tr style=\"text-align: right;\">\n",
       "      <th></th>\n",
       "      <th>2G</th>\n",
       "      <th>3G</th>\n",
       "      <th>4G</th>\n",
       "      <th>4GVOLTE</th>\n",
       "      <th>5G</th>\n",
       "    </tr>\n",
       "  </thead>\n",
       "  <tbody>\n",
       "    <tr>\n",
       "      <td>0</td>\n",
       "      <td>1</td>\n",
       "      <td>1</td>\n",
       "      <td>1</td>\n",
       "      <td>1</td>\n",
       "      <td>0</td>\n",
       "    </tr>\n",
       "    <tr>\n",
       "      <td>1</td>\n",
       "      <td>1</td>\n",
       "      <td>1</td>\n",
       "      <td>1</td>\n",
       "      <td>1</td>\n",
       "      <td>0</td>\n",
       "    </tr>\n",
       "    <tr>\n",
       "      <td>2</td>\n",
       "      <td>1</td>\n",
       "      <td>1</td>\n",
       "      <td>1</td>\n",
       "      <td>1</td>\n",
       "      <td>0</td>\n",
       "    </tr>\n",
       "    <tr>\n",
       "      <td>3</td>\n",
       "      <td>1</td>\n",
       "      <td>1</td>\n",
       "      <td>1</td>\n",
       "      <td>1</td>\n",
       "      <td>0</td>\n",
       "    </tr>\n",
       "    <tr>\n",
       "      <td>4</td>\n",
       "      <td>1</td>\n",
       "      <td>1</td>\n",
       "      <td>1</td>\n",
       "      <td>1</td>\n",
       "      <td>0</td>\n",
       "    </tr>\n",
       "  </tbody>\n",
       "</table>\n",
       "</div>"
      ],
      "text/plain": [
       "   2G  3G  4G  4GVOLTE  5G\n",
       "0   1   1   1        1   0\n",
       "1   1   1   1        1   0\n",
       "2   1   1   1        1   0\n",
       "3   1   1   1        1   0\n",
       "4   1   1   1        1   0"
      ]
     },
     "execution_count": 63,
     "metadata": {},
     "output_type": "execute_result"
    }
   ],
   "source": [
    "dg.head()"
   ]
  },
  {
   "cell_type": "code",
   "execution_count": 64,
   "metadata": {},
   "outputs": [],
   "source": [
    "df=pd.merge(df,dg,left_index=True,right_index=True)"
   ]
  },
  {
   "cell_type": "code",
   "execution_count": 65,
   "metadata": {},
   "outputs": [],
   "source": [
    "df.drop('network',axis = 1,inplace = True)"
   ]
  },
  {
   "cell_type": "code",
   "execution_count": 66,
   "metadata": {},
   "outputs": [
    {
     "data": {
      "text/plain": [
       "array(['Octa Core', 'Quad Core', 'Single Core'], dtype=object)"
      ]
     },
     "execution_count": 66,
     "metadata": {},
     "output_type": "execute_result"
    }
   ],
   "source": [
    "df['num_cores'].unique()"
   ]
  },
  {
   "cell_type": "code",
   "execution_count": 67,
   "metadata": {},
   "outputs": [
    {
     "data": {
      "text/plain": [
       "array([8, 4, 1], dtype=int64)"
      ]
     },
     "execution_count": 67,
     "metadata": {},
     "output_type": "execute_result"
    }
   ],
   "source": [
    "df['num_cores'] = df['num_cores'].map({'Octa Core':8,'Quad Core':4,'Single Core':1})\n",
    "df['num_cores'].unique()"
   ]
  },
  {
   "cell_type": "code",
   "execution_count": 68,
   "metadata": {
    "scrolled": true
   },
   "outputs": [],
   "source": [
    "my_int_col = ['os','battery_power','p_cam_max','f_cam_max',]\n",
    "my_float_col= ['mob_width','mob_height','mob_depth','mob_weight']\n",
    "df[my_int_col] = df[my_int_col].astype(int)\n",
    "df[my_float_col] = df[my_float_col].astype(float)"
   ]
  },
  {
   "cell_type": "code",
   "execution_count": 69,
   "metadata": {},
   "outputs": [
    {
     "data": {
      "text/html": [
       "<div>\n",
       "<style scoped>\n",
       "    .dataframe tbody tr th:only-of-type {\n",
       "        vertical-align: middle;\n",
       "    }\n",
       "\n",
       "    .dataframe tbody tr th {\n",
       "        vertical-align: top;\n",
       "    }\n",
       "\n",
       "    .dataframe thead th {\n",
       "        text-align: right;\n",
       "    }\n",
       "</style>\n",
       "<table border=\"1\" class=\"dataframe\">\n",
       "  <thead>\n",
       "    <tr style=\"text-align: right;\">\n",
       "      <th></th>\n",
       "      <th>mobile_name</th>\n",
       "      <th>mobile_price</th>\n",
       "      <th>mobile_color</th>\n",
       "      <th>resolution</th>\n",
       "      <th>os</th>\n",
       "      <th>num_cores</th>\n",
       "      <th>mp_speed</th>\n",
       "      <th>int_memory</th>\n",
       "      <th>ram</th>\n",
       "      <th>battery_power</th>\n",
       "      <th>...</th>\n",
       "      <th>disp_size(cm)</th>\n",
       "      <th>p_cam_max</th>\n",
       "      <th>p_cam_count</th>\n",
       "      <th>f_cam_max</th>\n",
       "      <th>f_cam_count</th>\n",
       "      <th>2G</th>\n",
       "      <th>3G</th>\n",
       "      <th>4G</th>\n",
       "      <th>4GVOLTE</th>\n",
       "      <th>5G</th>\n",
       "    </tr>\n",
       "  </thead>\n",
       "  <tbody>\n",
       "    <tr>\n",
       "      <td>0</td>\n",
       "      <td>Realme</td>\n",
       "      <td>8999</td>\n",
       "      <td>White</td>\n",
       "      <td>1152000</td>\n",
       "      <td>10</td>\n",
       "      <td>8</td>\n",
       "      <td>2.0</td>\n",
       "      <td>32</td>\n",
       "      <td>3</td>\n",
       "      <td>5000</td>\n",
       "      <td>...</td>\n",
       "      <td>16.56</td>\n",
       "      <td>12</td>\n",
       "      <td>3</td>\n",
       "      <td>12</td>\n",
       "      <td>3</td>\n",
       "      <td>1</td>\n",
       "      <td>1</td>\n",
       "      <td>1</td>\n",
       "      <td>1</td>\n",
       "      <td>0</td>\n",
       "    </tr>\n",
       "    <tr>\n",
       "      <td>1</td>\n",
       "      <td>Realme</td>\n",
       "      <td>8999</td>\n",
       "      <td>Blue</td>\n",
       "      <td>1152000</td>\n",
       "      <td>10</td>\n",
       "      <td>8</td>\n",
       "      <td>2.0</td>\n",
       "      <td>32</td>\n",
       "      <td>3</td>\n",
       "      <td>5000</td>\n",
       "      <td>...</td>\n",
       "      <td>16.56</td>\n",
       "      <td>12</td>\n",
       "      <td>3</td>\n",
       "      <td>12</td>\n",
       "      <td>3</td>\n",
       "      <td>1</td>\n",
       "      <td>1</td>\n",
       "      <td>1</td>\n",
       "      <td>1</td>\n",
       "      <td>0</td>\n",
       "    </tr>\n",
       "    <tr>\n",
       "      <td>2</td>\n",
       "      <td>Realme</td>\n",
       "      <td>9999</td>\n",
       "      <td>Blue</td>\n",
       "      <td>1152000</td>\n",
       "      <td>10</td>\n",
       "      <td>8</td>\n",
       "      <td>2.0</td>\n",
       "      <td>64</td>\n",
       "      <td>4</td>\n",
       "      <td>5000</td>\n",
       "      <td>...</td>\n",
       "      <td>16.56</td>\n",
       "      <td>12</td>\n",
       "      <td>3</td>\n",
       "      <td>12</td>\n",
       "      <td>3</td>\n",
       "      <td>1</td>\n",
       "      <td>1</td>\n",
       "      <td>1</td>\n",
       "      <td>1</td>\n",
       "      <td>0</td>\n",
       "    </tr>\n",
       "    <tr>\n",
       "      <td>3</td>\n",
       "      <td>Realme</td>\n",
       "      <td>9999</td>\n",
       "      <td>White</td>\n",
       "      <td>1152000</td>\n",
       "      <td>10</td>\n",
       "      <td>8</td>\n",
       "      <td>2.0</td>\n",
       "      <td>64</td>\n",
       "      <td>4</td>\n",
       "      <td>5000</td>\n",
       "      <td>...</td>\n",
       "      <td>16.56</td>\n",
       "      <td>12</td>\n",
       "      <td>3</td>\n",
       "      <td>12</td>\n",
       "      <td>3</td>\n",
       "      <td>1</td>\n",
       "      <td>1</td>\n",
       "      <td>1</td>\n",
       "      <td>1</td>\n",
       "      <td>0</td>\n",
       "    </tr>\n",
       "    <tr>\n",
       "      <td>4</td>\n",
       "      <td>Realme</td>\n",
       "      <td>11999</td>\n",
       "      <td>Green</td>\n",
       "      <td>1152000</td>\n",
       "      <td>10</td>\n",
       "      <td>8</td>\n",
       "      <td>2.0</td>\n",
       "      <td>128</td>\n",
       "      <td>4</td>\n",
       "      <td>5000</td>\n",
       "      <td>...</td>\n",
       "      <td>16.51</td>\n",
       "      <td>48</td>\n",
       "      <td>4</td>\n",
       "      <td>48</td>\n",
       "      <td>4</td>\n",
       "      <td>1</td>\n",
       "      <td>1</td>\n",
       "      <td>1</td>\n",
       "      <td>1</td>\n",
       "      <td>0</td>\n",
       "    </tr>\n",
       "  </tbody>\n",
       "</table>\n",
       "<p>5 rows × 24 columns</p>\n",
       "</div>"
      ],
      "text/plain": [
       "  mobile_name  mobile_price mobile_color  resolution  os  num_cores  mp_speed  \\\n",
       "0      Realme          8999        White     1152000  10          8       2.0   \n",
       "1      Realme          8999         Blue     1152000  10          8       2.0   \n",
       "2      Realme          9999         Blue     1152000  10          8       2.0   \n",
       "3      Realme          9999        White     1152000  10          8       2.0   \n",
       "4      Realme         11999        Green     1152000  10          8       2.0   \n",
       "\n",
       "   int_memory  ram  battery_power  ...  disp_size(cm)  p_cam_max  p_cam_count  \\\n",
       "0          32    3           5000  ...          16.56         12            3   \n",
       "1          32    3           5000  ...          16.56         12            3   \n",
       "2          64    4           5000  ...          16.56         12            3   \n",
       "3          64    4           5000  ...          16.56         12            3   \n",
       "4         128    4           5000  ...          16.51         48            4   \n",
       "\n",
       "   f_cam_max  f_cam_count  2G  3G  4G  4GVOLTE  5G  \n",
       "0         12            3   1   1   1        1   0  \n",
       "1         12            3   1   1   1        1   0  \n",
       "2         12            3   1   1   1        1   0  \n",
       "3         12            3   1   1   1        1   0  \n",
       "4         48            4   1   1   1        1   0  \n",
       "\n",
       "[5 rows x 24 columns]"
      ]
     },
     "execution_count": 69,
     "metadata": {},
     "output_type": "execute_result"
    }
   ],
   "source": [
    "df.head()"
   ]
  },
  {
   "cell_type": "markdown",
   "metadata": {},
   "source": [
    "### Data Visulaization"
   ]
  },
  {
   "cell_type": "code",
   "execution_count": 70,
   "metadata": {},
   "outputs": [
    {
     "name": "stdout",
     "output_type": "stream",
     "text": [
      "<class 'pandas.core.frame.DataFrame'>\n",
      "RangeIndex: 459 entries, 0 to 458\n",
      "Data columns (total 24 columns):\n",
      "mobile_name      459 non-null object\n",
      "mobile_price     459 non-null int64\n",
      "mobile_color     459 non-null object\n",
      "resolution       459 non-null int32\n",
      "os               459 non-null int32\n",
      "num_cores        459 non-null int64\n",
      "mp_speed         459 non-null float64\n",
      "int_memory       459 non-null int64\n",
      "ram              459 non-null int64\n",
      "battery_power    459 non-null int32\n",
      "mob_width        459 non-null float64\n",
      "mob_height       459 non-null float64\n",
      "mob_depth        459 non-null float64\n",
      "mob_weight       459 non-null float64\n",
      "disp_size(cm)    459 non-null float64\n",
      "p_cam_max        459 non-null int32\n",
      "p_cam_count      459 non-null int64\n",
      "f_cam_max        459 non-null int32\n",
      "f_cam_count      459 non-null int64\n",
      "2G               459 non-null int32\n",
      "3G               459 non-null int32\n",
      "4G               459 non-null int32\n",
      "4GVOLTE          459 non-null int32\n",
      "5G               459 non-null int32\n",
      "dtypes: float64(6), int32(10), int64(6), object(2)\n",
      "memory usage: 68.3+ KB\n"
     ]
    }
   ],
   "source": [
    "df.info()"
   ]
  },
  {
   "cell_type": "code",
   "execution_count": 71,
   "metadata": {},
   "outputs": [
    {
     "data": {
      "text/html": [
       "<div>\n",
       "<style scoped>\n",
       "    .dataframe tbody tr th:only-of-type {\n",
       "        vertical-align: middle;\n",
       "    }\n",
       "\n",
       "    .dataframe tbody tr th {\n",
       "        vertical-align: top;\n",
       "    }\n",
       "\n",
       "    .dataframe thead th {\n",
       "        text-align: right;\n",
       "    }\n",
       "</style>\n",
       "<table border=\"1\" class=\"dataframe\">\n",
       "  <thead>\n",
       "    <tr style=\"text-align: right;\">\n",
       "      <th></th>\n",
       "      <th>mobile_price</th>\n",
       "      <th>resolution</th>\n",
       "      <th>os</th>\n",
       "      <th>num_cores</th>\n",
       "      <th>mp_speed</th>\n",
       "      <th>int_memory</th>\n",
       "      <th>ram</th>\n",
       "      <th>battery_power</th>\n",
       "      <th>mob_width</th>\n",
       "      <th>mob_height</th>\n",
       "      <th>...</th>\n",
       "      <th>disp_size(cm)</th>\n",
       "      <th>p_cam_max</th>\n",
       "      <th>p_cam_count</th>\n",
       "      <th>f_cam_max</th>\n",
       "      <th>f_cam_count</th>\n",
       "      <th>2G</th>\n",
       "      <th>3G</th>\n",
       "      <th>4G</th>\n",
       "      <th>4GVOLTE</th>\n",
       "      <th>5G</th>\n",
       "    </tr>\n",
       "  </thead>\n",
       "  <tbody>\n",
       "    <tr>\n",
       "      <td>count</td>\n",
       "      <td>459.000000</td>\n",
       "      <td>4.590000e+02</td>\n",
       "      <td>459.000000</td>\n",
       "      <td>459.000000</td>\n",
       "      <td>459.000000</td>\n",
       "      <td>459.000000</td>\n",
       "      <td>459.000000</td>\n",
       "      <td>459.000000</td>\n",
       "      <td>459.000000</td>\n",
       "      <td>459.000000</td>\n",
       "      <td>...</td>\n",
       "      <td>459.000000</td>\n",
       "      <td>459.000000</td>\n",
       "      <td>459.000000</td>\n",
       "      <td>459.000000</td>\n",
       "      <td>459.000000</td>\n",
       "      <td>459.000000</td>\n",
       "      <td>459.000000</td>\n",
       "      <td>459.000000</td>\n",
       "      <td>459.000000</td>\n",
       "      <td>459.000000</td>\n",
       "    </tr>\n",
       "    <tr>\n",
       "      <td>mean</td>\n",
       "      <td>16643.448802</td>\n",
       "      <td>1.867733e+06</td>\n",
       "      <td>8.681917</td>\n",
       "      <td>7.862745</td>\n",
       "      <td>2.118296</td>\n",
       "      <td>87.093682</td>\n",
       "      <td>4.877996</td>\n",
       "      <td>4161.383442</td>\n",
       "      <td>74.228170</td>\n",
       "      <td>157.731874</td>\n",
       "      <td>...</td>\n",
       "      <td>15.907647</td>\n",
       "      <td>28.978214</td>\n",
       "      <td>2.533769</td>\n",
       "      <td>28.978214</td>\n",
       "      <td>2.533769</td>\n",
       "      <td>0.893246</td>\n",
       "      <td>0.962963</td>\n",
       "      <td>0.712418</td>\n",
       "      <td>0.840959</td>\n",
       "      <td>0.015251</td>\n",
       "    </tr>\n",
       "    <tr>\n",
       "      <td>std</td>\n",
       "      <td>8701.098364</td>\n",
       "      <td>7.096156e+05</td>\n",
       "      <td>0.986326</td>\n",
       "      <td>0.759730</td>\n",
       "      <td>0.350997</td>\n",
       "      <td>64.919281</td>\n",
       "      <td>2.082977</td>\n",
       "      <td>615.902516</td>\n",
       "      <td>13.106075</td>\n",
       "      <td>12.219824</td>\n",
       "      <td>...</td>\n",
       "      <td>0.815102</td>\n",
       "      <td>19.959007</td>\n",
       "      <td>1.055477</td>\n",
       "      <td>19.959007</td>\n",
       "      <td>1.055477</td>\n",
       "      <td>0.309137</td>\n",
       "      <td>0.189059</td>\n",
       "      <td>0.453129</td>\n",
       "      <td>0.366114</td>\n",
       "      <td>0.122682</td>\n",
       "    </tr>\n",
       "    <tr>\n",
       "      <td>min</td>\n",
       "      <td>6000.000000</td>\n",
       "      <td>5.184000e+05</td>\n",
       "      <td>4.000000</td>\n",
       "      <td>1.000000</td>\n",
       "      <td>1.300000</td>\n",
       "      <td>8.000000</td>\n",
       "      <td>1.000000</td>\n",
       "      <td>2000.000000</td>\n",
       "      <td>8.350000</td>\n",
       "      <td>7.380000</td>\n",
       "      <td>...</td>\n",
       "      <td>11.940000</td>\n",
       "      <td>5.000000</td>\n",
       "      <td>1.000000</td>\n",
       "      <td>5.000000</td>\n",
       "      <td>1.000000</td>\n",
       "      <td>0.000000</td>\n",
       "      <td>0.000000</td>\n",
       "      <td>0.000000</td>\n",
       "      <td>0.000000</td>\n",
       "      <td>0.000000</td>\n",
       "    </tr>\n",
       "    <tr>\n",
       "      <td>25%</td>\n",
       "      <td>10999.000000</td>\n",
       "      <td>1.094400e+06</td>\n",
       "      <td>8.000000</td>\n",
       "      <td>8.000000</td>\n",
       "      <td>2.000000</td>\n",
       "      <td>32.000000</td>\n",
       "      <td>4.000000</td>\n",
       "      <td>4000.000000</td>\n",
       "      <td>75.000000</td>\n",
       "      <td>155.900000</td>\n",
       "      <td>...</td>\n",
       "      <td>15.700000</td>\n",
       "      <td>13.000000</td>\n",
       "      <td>2.000000</td>\n",
       "      <td>13.000000</td>\n",
       "      <td>2.000000</td>\n",
       "      <td>1.000000</td>\n",
       "      <td>1.000000</td>\n",
       "      <td>0.000000</td>\n",
       "      <td>1.000000</td>\n",
       "      <td>0.000000</td>\n",
       "    </tr>\n",
       "    <tr>\n",
       "      <td>50%</td>\n",
       "      <td>14495.000000</td>\n",
       "      <td>2.332800e+06</td>\n",
       "      <td>9.000000</td>\n",
       "      <td>8.000000</td>\n",
       "      <td>2.000000</td>\n",
       "      <td>64.000000</td>\n",
       "      <td>4.000000</td>\n",
       "      <td>4030.000000</td>\n",
       "      <td>75.350000</td>\n",
       "      <td>158.700000</td>\n",
       "      <td>...</td>\n",
       "      <td>16.000000</td>\n",
       "      <td>16.000000</td>\n",
       "      <td>2.000000</td>\n",
       "      <td>16.000000</td>\n",
       "      <td>2.000000</td>\n",
       "      <td>1.000000</td>\n",
       "      <td>1.000000</td>\n",
       "      <td>1.000000</td>\n",
       "      <td>1.000000</td>\n",
       "      <td>0.000000</td>\n",
       "    </tr>\n",
       "    <tr>\n",
       "      <td>75%</td>\n",
       "      <td>18990.000000</td>\n",
       "      <td>2.527200e+06</td>\n",
       "      <td>9.000000</td>\n",
       "      <td>8.000000</td>\n",
       "      <td>2.300000</td>\n",
       "      <td>128.000000</td>\n",
       "      <td>6.000000</td>\n",
       "      <td>4500.000000</td>\n",
       "      <td>75.800000</td>\n",
       "      <td>162.000000</td>\n",
       "      <td>...</td>\n",
       "      <td>16.510000</td>\n",
       "      <td>48.000000</td>\n",
       "      <td>4.000000</td>\n",
       "      <td>48.000000</td>\n",
       "      <td>4.000000</td>\n",
       "      <td>1.000000</td>\n",
       "      <td>1.000000</td>\n",
       "      <td>1.000000</td>\n",
       "      <td>1.000000</td>\n",
       "      <td>0.000000</td>\n",
       "    </tr>\n",
       "    <tr>\n",
       "      <td>max</td>\n",
       "      <td>60990.000000</td>\n",
       "      <td>2.592000e+06</td>\n",
       "      <td>10.000000</td>\n",
       "      <td>8.000000</td>\n",
       "      <td>2.960000</td>\n",
       "      <td>512.000000</td>\n",
       "      <td>12.000000</td>\n",
       "      <td>6000.000000</td>\n",
       "      <td>159.000000</td>\n",
       "      <td>175.000000</td>\n",
       "      <td>...</td>\n",
       "      <td>17.020000</td>\n",
       "      <td>64.000000</td>\n",
       "      <td>4.000000</td>\n",
       "      <td>64.000000</td>\n",
       "      <td>4.000000</td>\n",
       "      <td>1.000000</td>\n",
       "      <td>1.000000</td>\n",
       "      <td>1.000000</td>\n",
       "      <td>1.000000</td>\n",
       "      <td>1.000000</td>\n",
       "    </tr>\n",
       "  </tbody>\n",
       "</table>\n",
       "<p>8 rows × 22 columns</p>\n",
       "</div>"
      ],
      "text/plain": [
       "       mobile_price    resolution          os   num_cores    mp_speed  \\\n",
       "count    459.000000  4.590000e+02  459.000000  459.000000  459.000000   \n",
       "mean   16643.448802  1.867733e+06    8.681917    7.862745    2.118296   \n",
       "std     8701.098364  7.096156e+05    0.986326    0.759730    0.350997   \n",
       "min     6000.000000  5.184000e+05    4.000000    1.000000    1.300000   \n",
       "25%    10999.000000  1.094400e+06    8.000000    8.000000    2.000000   \n",
       "50%    14495.000000  2.332800e+06    9.000000    8.000000    2.000000   \n",
       "75%    18990.000000  2.527200e+06    9.000000    8.000000    2.300000   \n",
       "max    60990.000000  2.592000e+06   10.000000    8.000000    2.960000   \n",
       "\n",
       "       int_memory         ram  battery_power   mob_width  mob_height  ...  \\\n",
       "count  459.000000  459.000000     459.000000  459.000000  459.000000  ...   \n",
       "mean    87.093682    4.877996    4161.383442   74.228170  157.731874  ...   \n",
       "std     64.919281    2.082977     615.902516   13.106075   12.219824  ...   \n",
       "min      8.000000    1.000000    2000.000000    8.350000    7.380000  ...   \n",
       "25%     32.000000    4.000000    4000.000000   75.000000  155.900000  ...   \n",
       "50%     64.000000    4.000000    4030.000000   75.350000  158.700000  ...   \n",
       "75%    128.000000    6.000000    4500.000000   75.800000  162.000000  ...   \n",
       "max    512.000000   12.000000    6000.000000  159.000000  175.000000  ...   \n",
       "\n",
       "       disp_size(cm)   p_cam_max  p_cam_count   f_cam_max  f_cam_count  \\\n",
       "count     459.000000  459.000000   459.000000  459.000000   459.000000   \n",
       "mean       15.907647   28.978214     2.533769   28.978214     2.533769   \n",
       "std         0.815102   19.959007     1.055477   19.959007     1.055477   \n",
       "min        11.940000    5.000000     1.000000    5.000000     1.000000   \n",
       "25%        15.700000   13.000000     2.000000   13.000000     2.000000   \n",
       "50%        16.000000   16.000000     2.000000   16.000000     2.000000   \n",
       "75%        16.510000   48.000000     4.000000   48.000000     4.000000   \n",
       "max        17.020000   64.000000     4.000000   64.000000     4.000000   \n",
       "\n",
       "               2G          3G          4G     4GVOLTE          5G  \n",
       "count  459.000000  459.000000  459.000000  459.000000  459.000000  \n",
       "mean     0.893246    0.962963    0.712418    0.840959    0.015251  \n",
       "std      0.309137    0.189059    0.453129    0.366114    0.122682  \n",
       "min      0.000000    0.000000    0.000000    0.000000    0.000000  \n",
       "25%      1.000000    1.000000    0.000000    1.000000    0.000000  \n",
       "50%      1.000000    1.000000    1.000000    1.000000    0.000000  \n",
       "75%      1.000000    1.000000    1.000000    1.000000    0.000000  \n",
       "max      1.000000    1.000000    1.000000    1.000000    1.000000  \n",
       "\n",
       "[8 rows x 22 columns]"
      ]
     },
     "execution_count": 71,
     "metadata": {},
     "output_type": "execute_result"
    }
   ],
   "source": [
    "df.describe()"
   ]
  },
  {
   "cell_type": "markdown",
   "metadata": {},
   "source": [
    "##### top  10 variables correlation with mobile_price visiualizing with heatmap"
   ]
  },
  {
   "cell_type": "code",
   "execution_count": 72,
   "metadata": {},
   "outputs": [
    {
     "data": {
      "text/plain": [
       "(10.0, 0.0)"
      ]
     },
     "execution_count": 72,
     "metadata": {},
     "output_type": "execute_result"
    },
    {
     "data": {
      "image/png": "[encoded data removed]",
      "text/plain": [
       "<Figure size 720x576 with 2 Axes>"
      ]
     },
     "metadata": {
      "needs_background": "light"
     },
     "output_type": "display_data"
    }
   ],
   "source": [
    "my_corr_list = df.corr().nlargest(10,'mobile_price').index.tolist()\n",
    "x =df[my_corr_list].corr()\n",
    "plt.figure(figsize = (10,8))\n",
    "axes = sns.heatmap(x,annot = True)\n",
    "b,t = axes.get_ylim()\n",
    "axes.set_ylim(b+0.5,t-0.5)"
   ]
  },
  {
   "cell_type": "raw",
   "metadata": {},
   "source": [
    "we can see price has high correlation with ram and internal memory which is indeed true"
   ]
  },
  {
   "cell_type": "code",
   "execution_count": 73,
   "metadata": {},
   "outputs": [
    {
     "name": "stdout",
     "output_type": "stream",
     "text": [
      "<class 'pandas.core.frame.DataFrame'>\n",
      "RangeIndex: 459 entries, 0 to 458\n",
      "Data columns (total 24 columns):\n",
      "mobile_name      459 non-null object\n",
      "mobile_price     459 non-null int64\n",
      "mobile_color     459 non-null object\n",
      "resolution       459 non-null int32\n",
      "os               459 non-null int32\n",
      "num_cores        459 non-null int64\n",
      "mp_speed         459 non-null float64\n",
      "int_memory       459 non-null int64\n",
      "ram              459 non-null int64\n",
      "battery_power    459 non-null int32\n",
      "mob_width        459 non-null float64\n",
      "mob_height       459 non-null float64\n",
      "mob_depth        459 non-null float64\n",
      "mob_weight       459 non-null float64\n",
      "disp_size(cm)    459 non-null float64\n",
      "p_cam_max        459 non-null int32\n",
      "p_cam_count      459 non-null int64\n",
      "f_cam_max        459 non-null int32\n",
      "f_cam_count      459 non-null int64\n",
      "2G               459 non-null int32\n",
      "3G               459 non-null int32\n",
      "4G               459 non-null int32\n",
      "4GVOLTE          459 non-null int32\n",
      "5G               459 non-null int32\n",
      "dtypes: float64(6), int32(10), int64(6), object(2)\n",
      "memory usage: 68.3+ KB\n"
     ]
    }
   ],
   "source": [
    "df.info()"
   ]
  },
  {
   "cell_type": "code",
   "execution_count": 74,
   "metadata": {},
   "outputs": [
    {
     "data": {
      "image/png": "[encoded data removed]",
      "text/plain": [
       "<Figure size 720x720 with 9 Axes>"
      ]
     },
     "metadata": {
      "needs_background": "light"
     },
     "output_type": "display_data"
    }
   ],
   "source": [
    "my_col = ['battery_power','mp_speed','num_cores','p_cam_max','f_cam_max','ram','int_memory','os','resolution']\n",
    "fig,axes = plt.subplots(3,3,figsize = (10,10))\n",
    "for i in range(9):\n",
    "    if i<3:\n",
    "        sns.regplot(x = my_col[i],y = 'mobile_price',data = df,ax = axes[0,i])\n",
    "    elif 3<=i<6:\n",
    "        sns.regplot(x = my_col[i],y = 'mobile_price',data = df,ax = axes[1,i-3])\n",
    "    else:\n",
    "        sns.regplot(x = my_col[i],y = 'mobile_price',data = df,ax = axes[2,i-6])\n",
    "plt.tight_layout()"
   ]
  },
  {
   "cell_type": "code",
   "execution_count": 75,
   "metadata": {},
   "outputs": [
    {
     "data": {
      "image/png": "[encoded data removed]",
      "text/plain": [
       "<Figure size 576x432 with 1 Axes>"
      ]
     },
     "metadata": {
      "needs_background": "light"
     },
     "output_type": "display_data"
    },
    {
     "data": {
      "image/png": "[encoded data removed]",
      "text/plain": [
       "<Figure size 576x432 with 1 Axes>"
      ]
     },
     "metadata": {
      "needs_background": "light"
     },
     "output_type": "display_data"
    },
    {
     "data": {
      "image/png": "[encoded data removed]",
      "text/plain": [
       "<Figure size 576x432 with 1 Axes>"
      ]
     },
     "metadata": {
      "needs_background": "light"
     },
     "output_type": "display_data"
    },
    {
     "data": {
      "image/png": "[encoded data removed]",
      "text/plain": [
       "<Figure size 576x432 with 1 Axes>"
      ]
     },
     "metadata": {
      "needs_background": "light"
     },
     "output_type": "display_data"
    }
   ],
   "source": [
    "my_col = ['mobile_name','mobile_color','os','num_cores']\n",
    "for i in my_col:\n",
    "    plt.figure(figsize = (8,6))\n",
    "    sns.countplot(y = df[i])"
   ]
  },
  {
   "cell_type": "raw",
   "metadata": {},
   "source": [
    "1) Most mobile data is from Vivo followed by realmi and Oppo\n",
    "2) Most mobile phones are blue in color followed by black\n",
    "3 Most phones have android os 9 and octa core"
   ]
  },
  {
   "cell_type": "markdown",
   "metadata": {},
   "source": [
    "##### Lets check skewness of mobile price"
   ]
  },
  {
   "cell_type": "code",
   "execution_count": 76,
   "metadata": {},
   "outputs": [
    {
     "data": {
      "text/plain": [
       "<matplotlib.axes._subplots.AxesSubplot at 0x17dfeb6d748>"
      ]
     },
     "execution_count": 76,
     "metadata": {},
     "output_type": "execute_result"
    },
    {
     "data": {
      "image/png": "[encoded data removed]",
      "text/plain": [
       "<Figure size 432x288 with 1 Axes>"
      ]
     },
     "metadata": {
      "needs_background": "light"
     },
     "output_type": "display_data"
    }
   ],
   "source": [
    "sns.distplot(df['mobile_price'])"
   ]
  },
  {
   "cell_type": "code",
   "execution_count": 77,
   "metadata": {},
   "outputs": [
    {
     "name": "stdout",
     "output_type": "stream",
     "text": [
      "skewness:-  2.1329993750949363\n",
      "kurtosis:-  6.101636047679868\n"
     ]
    }
   ],
   "source": [
    "print('skewness:- ',df['mobile_price'].skew())\n",
    "print('kurtosis:- ',df['mobile_price'].kurt())"
   ]
  },
  {
   "cell_type": "code",
   "execution_count": 78,
   "metadata": {
    "scrolled": true
   },
   "outputs": [
    {
     "data": {
      "text/html": [
       "<div>\n",
       "<style scoped>\n",
       "    .dataframe tbody tr th:only-of-type {\n",
       "        vertical-align: middle;\n",
       "    }\n",
       "\n",
       "    .dataframe tbody tr th {\n",
       "        vertical-align: top;\n",
       "    }\n",
       "\n",
       "    .dataframe thead th {\n",
       "        text-align: right;\n",
       "    }\n",
       "</style>\n",
       "<table border=\"1\" class=\"dataframe\">\n",
       "  <thead>\n",
       "    <tr style=\"text-align: right;\">\n",
       "      <th></th>\n",
       "      <th>mobile_name</th>\n",
       "      <th>mobile_price</th>\n",
       "      <th>mobile_color</th>\n",
       "      <th>resolution</th>\n",
       "      <th>os</th>\n",
       "      <th>num_cores</th>\n",
       "      <th>mp_speed</th>\n",
       "      <th>int_memory</th>\n",
       "      <th>ram</th>\n",
       "      <th>battery_power</th>\n",
       "      <th>mob_width</th>\n",
       "      <th>mob_height</th>\n",
       "      <th>mob_depth</th>\n",
       "      <th>mob_weight</th>\n",
       "      <th>disp_size(cm)</th>\n",
       "      <th>p_cam_max</th>\n",
       "      <th>p_cam_count</th>\n",
       "      <th>f_cam_max</th>\n",
       "      <th>f_cam_count</th>\n",
       "      <th>2G</th>\n",
       "      <th>3G</th>\n",
       "      <th>4G</th>\n",
       "      <th>4GVOLTE</th>\n",
       "      <th>5G</th>\n",
       "    </tr>\n",
       "  </thead>\n",
       "  <tbody>\n",
       "    <tr>\n",
       "      <td>0</td>\n",
       "      <td>Realme</td>\n",
       "      <td>8999</td>\n",
       "      <td>White</td>\n",
       "      <td>1152000</td>\n",
       "      <td>10</td>\n",
       "      <td>8</td>\n",
       "      <td>2.0</td>\n",
       "      <td>32</td>\n",
       "      <td>3</td>\n",
       "      <td>5000</td>\n",
       "      <td>75.0</td>\n",
       "      <td>164.4</td>\n",
       "      <td>8.95</td>\n",
       "      <td>195.0</td>\n",
       "      <td>16.56</td>\n",
       "      <td>12</td>\n",
       "      <td>3</td>\n",
       "      <td>12</td>\n",
       "      <td>3</td>\n",
       "      <td>1</td>\n",
       "      <td>1</td>\n",
       "      <td>1</td>\n",
       "      <td>1</td>\n",
       "      <td>0</td>\n",
       "    </tr>\n",
       "    <tr>\n",
       "      <td>1</td>\n",
       "      <td>Realme</td>\n",
       "      <td>8999</td>\n",
       "      <td>Blue</td>\n",
       "      <td>1152000</td>\n",
       "      <td>10</td>\n",
       "      <td>8</td>\n",
       "      <td>2.0</td>\n",
       "      <td>32</td>\n",
       "      <td>3</td>\n",
       "      <td>5000</td>\n",
       "      <td>75.0</td>\n",
       "      <td>164.4</td>\n",
       "      <td>8.95</td>\n",
       "      <td>195.0</td>\n",
       "      <td>16.56</td>\n",
       "      <td>12</td>\n",
       "      <td>3</td>\n",
       "      <td>12</td>\n",
       "      <td>3</td>\n",
       "      <td>1</td>\n",
       "      <td>1</td>\n",
       "      <td>1</td>\n",
       "      <td>1</td>\n",
       "      <td>0</td>\n",
       "    </tr>\n",
       "    <tr>\n",
       "      <td>2</td>\n",
       "      <td>Realme</td>\n",
       "      <td>9999</td>\n",
       "      <td>Blue</td>\n",
       "      <td>1152000</td>\n",
       "      <td>10</td>\n",
       "      <td>8</td>\n",
       "      <td>2.0</td>\n",
       "      <td>64</td>\n",
       "      <td>4</td>\n",
       "      <td>5000</td>\n",
       "      <td>75.0</td>\n",
       "      <td>164.4</td>\n",
       "      <td>8.95</td>\n",
       "      <td>195.0</td>\n",
       "      <td>16.56</td>\n",
       "      <td>12</td>\n",
       "      <td>3</td>\n",
       "      <td>12</td>\n",
       "      <td>3</td>\n",
       "      <td>1</td>\n",
       "      <td>1</td>\n",
       "      <td>1</td>\n",
       "      <td>1</td>\n",
       "      <td>0</td>\n",
       "    </tr>\n",
       "    <tr>\n",
       "      <td>3</td>\n",
       "      <td>Realme</td>\n",
       "      <td>9999</td>\n",
       "      <td>White</td>\n",
       "      <td>1152000</td>\n",
       "      <td>10</td>\n",
       "      <td>8</td>\n",
       "      <td>2.0</td>\n",
       "      <td>64</td>\n",
       "      <td>4</td>\n",
       "      <td>5000</td>\n",
       "      <td>75.0</td>\n",
       "      <td>164.4</td>\n",
       "      <td>8.95</td>\n",
       "      <td>195.0</td>\n",
       "      <td>16.56</td>\n",
       "      <td>12</td>\n",
       "      <td>3</td>\n",
       "      <td>12</td>\n",
       "      <td>3</td>\n",
       "      <td>1</td>\n",
       "      <td>1</td>\n",
       "      <td>1</td>\n",
       "      <td>1</td>\n",
       "      <td>0</td>\n",
       "    </tr>\n",
       "    <tr>\n",
       "      <td>4</td>\n",
       "      <td>Realme</td>\n",
       "      <td>11999</td>\n",
       "      <td>Green</td>\n",
       "      <td>1152000</td>\n",
       "      <td>10</td>\n",
       "      <td>8</td>\n",
       "      <td>2.0</td>\n",
       "      <td>128</td>\n",
       "      <td>4</td>\n",
       "      <td>5000</td>\n",
       "      <td>75.4</td>\n",
       "      <td>164.4</td>\n",
       "      <td>9.00</td>\n",
       "      <td>199.0</td>\n",
       "      <td>16.51</td>\n",
       "      <td>48</td>\n",
       "      <td>4</td>\n",
       "      <td>48</td>\n",
       "      <td>4</td>\n",
       "      <td>1</td>\n",
       "      <td>1</td>\n",
       "      <td>1</td>\n",
       "      <td>1</td>\n",
       "      <td>0</td>\n",
       "    </tr>\n",
       "  </tbody>\n",
       "</table>\n",
       "</div>"
      ],
      "text/plain": [
       "  mobile_name  mobile_price mobile_color  resolution  os  num_cores  mp_speed  \\\n",
       "0      Realme          8999        White     1152000  10          8       2.0   \n",
       "1      Realme          8999         Blue     1152000  10          8       2.0   \n",
       "2      Realme          9999         Blue     1152000  10          8       2.0   \n",
       "3      Realme          9999        White     1152000  10          8       2.0   \n",
       "4      Realme         11999        Green     1152000  10          8       2.0   \n",
       "\n",
       "   int_memory  ram  battery_power  mob_width  mob_height  mob_depth  \\\n",
       "0          32    3           5000       75.0       164.4       8.95   \n",
       "1          32    3           5000       75.0       164.4       8.95   \n",
       "2          64    4           5000       75.0       164.4       8.95   \n",
       "3          64    4           5000       75.0       164.4       8.95   \n",
       "4         128    4           5000       75.4       164.4       9.00   \n",
       "\n",
       "   mob_weight  disp_size(cm)  p_cam_max  p_cam_count  f_cam_max  f_cam_count  \\\n",
       "0       195.0          16.56         12            3         12            3   \n",
       "1       195.0          16.56         12            3         12            3   \n",
       "2       195.0          16.56         12            3         12            3   \n",
       "3       195.0          16.56         12            3         12            3   \n",
       "4       199.0          16.51         48            4         48            4   \n",
       "\n",
       "   2G  3G  4G  4GVOLTE  5G  \n",
       "0   1   1   1        1   0  \n",
       "1   1   1   1        1   0  \n",
       "2   1   1   1        1   0  \n",
       "3   1   1   1        1   0  \n",
       "4   1   1   1        1   0  "
      ]
     },
     "execution_count": 78,
     "metadata": {},
     "output_type": "execute_result"
    }
   ],
   "source": [
    "pd.set_option('display.max_columns',None)\n",
    "df.head()"
   ]
  },
  {
   "cell_type": "code",
   "execution_count": 79,
   "metadata": {},
   "outputs": [
    {
     "data": {
      "text/html": [
       "<div>\n",
       "<style scoped>\n",
       "    .dataframe tbody tr th:only-of-type {\n",
       "        vertical-align: middle;\n",
       "    }\n",
       "\n",
       "    .dataframe tbody tr th {\n",
       "        vertical-align: top;\n",
       "    }\n",
       "\n",
       "    .dataframe thead th {\n",
       "        text-align: right;\n",
       "    }\n",
       "</style>\n",
       "<table border=\"1\" class=\"dataframe\">\n",
       "  <thead>\n",
       "    <tr style=\"text-align: right;\">\n",
       "      <th></th>\n",
       "      <th>mobile_name</th>\n",
       "      <th>mobile_price</th>\n",
       "      <th>mobile_color</th>\n",
       "      <th>dual_sim</th>\n",
       "      <th>disp_size</th>\n",
       "      <th>resolution</th>\n",
       "      <th>os</th>\n",
       "      <th>num_cores</th>\n",
       "      <th>mp_speed</th>\n",
       "      <th>int_memory</th>\n",
       "      <th>ram</th>\n",
       "      <th>p_cam</th>\n",
       "      <th>f_cam</th>\n",
       "      <th>network</th>\n",
       "      <th>bluetooth</th>\n",
       "      <th>battery_power</th>\n",
       "      <th>mob_width</th>\n",
       "      <th>mob_height</th>\n",
       "      <th>mob_depth</th>\n",
       "      <th>mob_weight</th>\n",
       "    </tr>\n",
       "  </thead>\n",
       "  <tbody>\n",
       "    <tr>\n",
       "      <td>0</td>\n",
       "      <td>Realme Narzo 10A (So White, 32 GB)</td>\n",
       "      <td>₹8,999</td>\n",
       "      <td>So White</td>\n",
       "      <td>Dual Sim</td>\n",
       "      <td>16.56 cm (6.52 inch)</td>\n",
       "      <td>1600 x 720 Pixels</td>\n",
       "      <td>Android 10</td>\n",
       "      <td>Octa Core</td>\n",
       "      <td>2 GHz</td>\n",
       "      <td>32 GB</td>\n",
       "      <td>3 GB</td>\n",
       "      <td>12MP + 2MP + 2MP</td>\n",
       "      <td>5MP Front Camera</td>\n",
       "      <td>4G VOLTE, 4G, 3G, 2G</td>\n",
       "      <td>Yes</td>\n",
       "      <td>5000 mAh</td>\n",
       "      <td>75 mm</td>\n",
       "      <td>164.4 mm</td>\n",
       "      <td>8.95 mm</td>\n",
       "      <td>195 g</td>\n",
       "    </tr>\n",
       "    <tr>\n",
       "      <td>1</td>\n",
       "      <td>Realme Narzo 10A (So Blue, 32 GB)</td>\n",
       "      <td>₹8,999</td>\n",
       "      <td>So Blue</td>\n",
       "      <td>Dual Sim</td>\n",
       "      <td>16.56 cm (6.52 inch)</td>\n",
       "      <td>1600 x 720 Pixels</td>\n",
       "      <td>Android 10</td>\n",
       "      <td>Octa Core</td>\n",
       "      <td>2 GHz</td>\n",
       "      <td>32 GB</td>\n",
       "      <td>3 GB</td>\n",
       "      <td>12MP + 2MP + 2MP</td>\n",
       "      <td>5MP Front Camera</td>\n",
       "      <td>4G VOLTE, 4G, 3G, 2G</td>\n",
       "      <td>Yes</td>\n",
       "      <td>5000 mAh</td>\n",
       "      <td>75 mm</td>\n",
       "      <td>164.4 mm</td>\n",
       "      <td>8.95 mm</td>\n",
       "      <td>195 g</td>\n",
       "    </tr>\n",
       "    <tr>\n",
       "      <td>2</td>\n",
       "      <td>Realme Narzo 10A (So Blue, 64 GB)</td>\n",
       "      <td>₹9,999</td>\n",
       "      <td>So Blue</td>\n",
       "      <td>Dual Sim</td>\n",
       "      <td>16.56 cm (6.52 inch)</td>\n",
       "      <td>1600 x 720 Pixels</td>\n",
       "      <td>Android 10</td>\n",
       "      <td>Octa Core</td>\n",
       "      <td>2 GHz</td>\n",
       "      <td>64 GB</td>\n",
       "      <td>4 GB</td>\n",
       "      <td>12MP + 2MP + 2MP</td>\n",
       "      <td>5MP Front Camera</td>\n",
       "      <td>4G VOLTE, 4G, 3G, 2G</td>\n",
       "      <td>Yes</td>\n",
       "      <td>5000 mAh</td>\n",
       "      <td>75 mm</td>\n",
       "      <td>164.4 mm</td>\n",
       "      <td>8.95 mm</td>\n",
       "      <td>195 g</td>\n",
       "    </tr>\n",
       "    <tr>\n",
       "      <td>3</td>\n",
       "      <td>Realme Narzo 10A (So White, 64 GB)</td>\n",
       "      <td>₹9,999</td>\n",
       "      <td>So White</td>\n",
       "      <td>Dual Sim</td>\n",
       "      <td>16.56 cm (6.52 inch)</td>\n",
       "      <td>1600 x 720 Pixels</td>\n",
       "      <td>Android 10</td>\n",
       "      <td>Octa Core</td>\n",
       "      <td>2 GHz</td>\n",
       "      <td>64 GB</td>\n",
       "      <td>4 GB</td>\n",
       "      <td>12MP + 2MP + 2MP</td>\n",
       "      <td>5MP Front Camera</td>\n",
       "      <td>4G VOLTE, 4G, 3G, 2G</td>\n",
       "      <td>Yes</td>\n",
       "      <td>5000 mAh</td>\n",
       "      <td>75 mm</td>\n",
       "      <td>164.4 mm</td>\n",
       "      <td>8.95 mm</td>\n",
       "      <td>195 g</td>\n",
       "    </tr>\n",
       "    <tr>\n",
       "      <td>4</td>\n",
       "      <td>Realme Narzo 10 (That Green, 128 GB)</td>\n",
       "      <td>₹11,999</td>\n",
       "      <td>That Green</td>\n",
       "      <td>Dual Sim</td>\n",
       "      <td>16.51 cm (6.5 inch)</td>\n",
       "      <td>1600 x 720 Pixels</td>\n",
       "      <td>Android 10</td>\n",
       "      <td>Octa Core</td>\n",
       "      <td>2 GHz</td>\n",
       "      <td>128 GB</td>\n",
       "      <td>4 GB</td>\n",
       "      <td>48MP + 8MP + 2MP + 2MP</td>\n",
       "      <td>16MP Front Camera</td>\n",
       "      <td>4G VOLTE, 4G, 3G, 2G</td>\n",
       "      <td>Yes</td>\n",
       "      <td>5000 mAh</td>\n",
       "      <td>75.4 mm</td>\n",
       "      <td>164.4 mm</td>\n",
       "      <td>9 mm</td>\n",
       "      <td>199 g</td>\n",
       "    </tr>\n",
       "  </tbody>\n",
       "</table>\n",
       "</div>"
      ],
      "text/plain": [
       "                            mobile_name mobile_price mobile_color  dual_sim  \\\n",
       "0    Realme Narzo 10A (So White, 32 GB)       ₹8,999     So White  Dual Sim   \n",
       "1     Realme Narzo 10A (So Blue, 32 GB)       ₹8,999      So Blue  Dual Sim   \n",
       "2     Realme Narzo 10A (So Blue, 64 GB)       ₹9,999      So Blue  Dual Sim   \n",
       "3    Realme Narzo 10A (So White, 64 GB)       ₹9,999     So White  Dual Sim   \n",
       "4  Realme Narzo 10 (That Green, 128 GB)      ₹11,999   That Green  Dual Sim   \n",
       "\n",
       "              disp_size         resolution          os  num_cores mp_speed  \\\n",
       "0  16.56 cm (6.52 inch)  1600 x 720 Pixels  Android 10  Octa Core    2 GHz   \n",
       "1  16.56 cm (6.52 inch)  1600 x 720 Pixels  Android 10  Octa Core    2 GHz   \n",
       "2  16.56 cm (6.52 inch)  1600 x 720 Pixels  Android 10  Octa Core    2 GHz   \n",
       "3  16.56 cm (6.52 inch)  1600 x 720 Pixels  Android 10  Octa Core    2 GHz   \n",
       "4   16.51 cm (6.5 inch)  1600 x 720 Pixels  Android 10  Octa Core    2 GHz   \n",
       "\n",
       "  int_memory   ram                   p_cam              f_cam  \\\n",
       "0      32 GB  3 GB        12MP + 2MP + 2MP   5MP Front Camera   \n",
       "1      32 GB  3 GB        12MP + 2MP + 2MP   5MP Front Camera   \n",
       "2      64 GB  4 GB        12MP + 2MP + 2MP   5MP Front Camera   \n",
       "3      64 GB  4 GB        12MP + 2MP + 2MP   5MP Front Camera   \n",
       "4     128 GB  4 GB  48MP + 8MP + 2MP + 2MP  16MP Front Camera   \n",
       "\n",
       "                network bluetooth battery_power mob_width mob_height  \\\n",
       "0  4G VOLTE, 4G, 3G, 2G       Yes      5000 mAh     75 mm   164.4 mm   \n",
       "1  4G VOLTE, 4G, 3G, 2G       Yes      5000 mAh     75 mm   164.4 mm   \n",
       "2  4G VOLTE, 4G, 3G, 2G       Yes      5000 mAh     75 mm   164.4 mm   \n",
       "3  4G VOLTE, 4G, 3G, 2G       Yes      5000 mAh     75 mm   164.4 mm   \n",
       "4  4G VOLTE, 4G, 3G, 2G       Yes      5000 mAh   75.4 mm   164.4 mm   \n",
       "\n",
       "  mob_depth mob_weight  \n",
       "0   8.95 mm      195 g  \n",
       "1   8.95 mm      195 g  \n",
       "2   8.95 mm      195 g  \n",
       "3   8.95 mm      195 g  \n",
       "4      9 mm      199 g  "
      ]
     },
     "execution_count": 79,
     "metadata": {},
     "output_type": "execute_result"
    }
   ],
   "source": [
    "ref_df.head()"
   ]
  },
  {
   "cell_type": "code",
   "execution_count": null,
   "metadata": {},
   "outputs": [],
   "source": []
  },
  {
   "cell_type": "code",
   "execution_count": null,
   "metadata": {},
   "outputs": [],
   "source": []
  },
  {
   "cell_type": "markdown",
   "metadata": {},
   "source": [
    "### Data Preprocessing"
   ]
  },
  {
   "cell_type": "code",
   "execution_count": 80,
   "metadata": {
    "scrolled": false
   },
   "outputs": [
    {
     "data": {
      "text/plain": [
       "mobile_name      0\n",
       "mobile_price     0\n",
       "mobile_color     0\n",
       "resolution       0\n",
       "os               0\n",
       "num_cores        0\n",
       "mp_speed         0\n",
       "int_memory       0\n",
       "ram              0\n",
       "battery_power    0\n",
       "mob_width        0\n",
       "mob_height       0\n",
       "mob_depth        0\n",
       "mob_weight       0\n",
       "disp_size(cm)    0\n",
       "p_cam_max        0\n",
       "p_cam_count      0\n",
       "f_cam_max        0\n",
       "f_cam_count      0\n",
       "2G               0\n",
       "3G               0\n",
       "4G               0\n",
       "4GVOLTE          0\n",
       "5G               0\n",
       "dtype: int64"
      ]
     },
     "execution_count": 80,
     "metadata": {},
     "output_type": "execute_result"
    }
   ],
   "source": [
    "df.isnull().sum()"
   ]
  },
  {
   "cell_type": "raw",
   "metadata": {},
   "source": [
    "No Imputation required"
   ]
  },
  {
   "cell_type": "markdown",
   "metadata": {},
   "source": [
    "##### Encoding"
   ]
  },
  {
   "cell_type": "code",
   "execution_count": 81,
   "metadata": {},
   "outputs": [
    {
     "data": {
      "text/plain": [
       "mobile_name       object\n",
       "mobile_price       int64\n",
       "mobile_color      object\n",
       "resolution         int32\n",
       "os                 int32\n",
       "num_cores          int64\n",
       "mp_speed         float64\n",
       "int_memory         int64\n",
       "ram                int64\n",
       "battery_power      int32\n",
       "mob_width        float64\n",
       "mob_height       float64\n",
       "mob_depth        float64\n",
       "mob_weight       float64\n",
       "disp_size(cm)    float64\n",
       "p_cam_max          int32\n",
       "p_cam_count        int64\n",
       "f_cam_max          int32\n",
       "f_cam_count        int64\n",
       "2G                 int32\n",
       "3G                 int32\n",
       "4G                 int32\n",
       "4GVOLTE            int32\n",
       "5G                 int32\n",
       "dtype: object"
      ]
     },
     "execution_count": 81,
     "metadata": {},
     "output_type": "execute_result"
    }
   ],
   "source": [
    "df.dtypes"
   ]
  },
  {
   "cell_type": "raw",
   "metadata": {},
   "source": [
    "mobile_name and mobile_color needs one hot encoding"
   ]
  },
  {
   "cell_type": "code",
   "execution_count": 82,
   "metadata": {},
   "outputs": [
    {
     "data": {
      "text/html": [
       "<div>\n",
       "<style scoped>\n",
       "    .dataframe tbody tr th:only-of-type {\n",
       "        vertical-align: middle;\n",
       "    }\n",
       "\n",
       "    .dataframe tbody tr th {\n",
       "        vertical-align: top;\n",
       "    }\n",
       "\n",
       "    .dataframe thead th {\n",
       "        text-align: right;\n",
       "    }\n",
       "</style>\n",
       "<table border=\"1\" class=\"dataframe\">\n",
       "  <thead>\n",
       "    <tr style=\"text-align: right;\">\n",
       "      <th></th>\n",
       "      <th>mobile_name_Infinix</th>\n",
       "      <th>mobile_name_Mi</th>\n",
       "      <th>mobile_name_OPPO</th>\n",
       "      <th>mobile_name_POCO</th>\n",
       "      <th>mobile_name_Realme</th>\n",
       "      <th>mobile_name_Redmi</th>\n",
       "      <th>mobile_name_Samsung</th>\n",
       "      <th>mobile_name_Vivo</th>\n",
       "      <th>mobile_color_Black</th>\n",
       "      <th>mobile_color_Blue</th>\n",
       "      <th>mobile_color_Brick</th>\n",
       "      <th>mobile_color_Brown</th>\n",
       "      <th>mobile_color_Champagne</th>\n",
       "      <th>mobile_color_Concrete</th>\n",
       "      <th>mobile_color_Cyan</th>\n",
       "      <th>mobile_color_Edition</th>\n",
       "      <th>mobile_color_Gold</th>\n",
       "      <th>mobile_color_Green</th>\n",
       "      <th>mobile_color_Grey</th>\n",
       "      <th>mobile_color_Mint</th>\n",
       "      <th>mobile_color_Mist</th>\n",
       "      <th>mobile_color_Orange</th>\n",
       "      <th>mobile_color_Purple</th>\n",
       "      <th>mobile_color_Red</th>\n",
       "      <th>mobile_color_Ruby</th>\n",
       "      <th>mobile_color_Sapphire</th>\n",
       "      <th>mobile_color_Sea</th>\n",
       "      <th>mobile_color_Silver</th>\n",
       "      <th>mobile_color_Violet</th>\n",
       "      <th>mobile_color_Wave</th>\n",
       "      <th>mobile_color_White</th>\n",
       "    </tr>\n",
       "  </thead>\n",
       "  <tbody>\n",
       "    <tr>\n",
       "      <td>0</td>\n",
       "      <td>0</td>\n",
       "      <td>0</td>\n",
       "      <td>0</td>\n",
       "      <td>0</td>\n",
       "      <td>1</td>\n",
       "      <td>0</td>\n",
       "      <td>0</td>\n",
       "      <td>0</td>\n",
       "      <td>0</td>\n",
       "      <td>0</td>\n",
       "      <td>0</td>\n",
       "      <td>0</td>\n",
       "      <td>0</td>\n",
       "      <td>0</td>\n",
       "      <td>0</td>\n",
       "      <td>0</td>\n",
       "      <td>0</td>\n",
       "      <td>0</td>\n",
       "      <td>0</td>\n",
       "      <td>0</td>\n",
       "      <td>0</td>\n",
       "      <td>0</td>\n",
       "      <td>0</td>\n",
       "      <td>0</td>\n",
       "      <td>0</td>\n",
       "      <td>0</td>\n",
       "      <td>0</td>\n",
       "      <td>0</td>\n",
       "      <td>0</td>\n",
       "      <td>0</td>\n",
       "      <td>1</td>\n",
       "    </tr>\n",
       "    <tr>\n",
       "      <td>1</td>\n",
       "      <td>0</td>\n",
       "      <td>0</td>\n",
       "      <td>0</td>\n",
       "      <td>0</td>\n",
       "      <td>1</td>\n",
       "      <td>0</td>\n",
       "      <td>0</td>\n",
       "      <td>0</td>\n",
       "      <td>0</td>\n",
       "      <td>1</td>\n",
       "      <td>0</td>\n",
       "      <td>0</td>\n",
       "      <td>0</td>\n",
       "      <td>0</td>\n",
       "      <td>0</td>\n",
       "      <td>0</td>\n",
       "      <td>0</td>\n",
       "      <td>0</td>\n",
       "      <td>0</td>\n",
       "      <td>0</td>\n",
       "      <td>0</td>\n",
       "      <td>0</td>\n",
       "      <td>0</td>\n",
       "      <td>0</td>\n",
       "      <td>0</td>\n",
       "      <td>0</td>\n",
       "      <td>0</td>\n",
       "      <td>0</td>\n",
       "      <td>0</td>\n",
       "      <td>0</td>\n",
       "      <td>0</td>\n",
       "    </tr>\n",
       "    <tr>\n",
       "      <td>2</td>\n",
       "      <td>0</td>\n",
       "      <td>0</td>\n",
       "      <td>0</td>\n",
       "      <td>0</td>\n",
       "      <td>1</td>\n",
       "      <td>0</td>\n",
       "      <td>0</td>\n",
       "      <td>0</td>\n",
       "      <td>0</td>\n",
       "      <td>1</td>\n",
       "      <td>0</td>\n",
       "      <td>0</td>\n",
       "      <td>0</td>\n",
       "      <td>0</td>\n",
       "      <td>0</td>\n",
       "      <td>0</td>\n",
       "      <td>0</td>\n",
       "      <td>0</td>\n",
       "      <td>0</td>\n",
       "      <td>0</td>\n",
       "      <td>0</td>\n",
       "      <td>0</td>\n",
       "      <td>0</td>\n",
       "      <td>0</td>\n",
       "      <td>0</td>\n",
       "      <td>0</td>\n",
       "      <td>0</td>\n",
       "      <td>0</td>\n",
       "      <td>0</td>\n",
       "      <td>0</td>\n",
       "      <td>0</td>\n",
       "    </tr>\n",
       "    <tr>\n",
       "      <td>3</td>\n",
       "      <td>0</td>\n",
       "      <td>0</td>\n",
       "      <td>0</td>\n",
       "      <td>0</td>\n",
       "      <td>1</td>\n",
       "      <td>0</td>\n",
       "      <td>0</td>\n",
       "      <td>0</td>\n",
       "      <td>0</td>\n",
       "      <td>0</td>\n",
       "      <td>0</td>\n",
       "      <td>0</td>\n",
       "      <td>0</td>\n",
       "      <td>0</td>\n",
       "      <td>0</td>\n",
       "      <td>0</td>\n",
       "      <td>0</td>\n",
       "      <td>0</td>\n",
       "      <td>0</td>\n",
       "      <td>0</td>\n",
       "      <td>0</td>\n",
       "      <td>0</td>\n",
       "      <td>0</td>\n",
       "      <td>0</td>\n",
       "      <td>0</td>\n",
       "      <td>0</td>\n",
       "      <td>0</td>\n",
       "      <td>0</td>\n",
       "      <td>0</td>\n",
       "      <td>0</td>\n",
       "      <td>1</td>\n",
       "    </tr>\n",
       "    <tr>\n",
       "      <td>4</td>\n",
       "      <td>0</td>\n",
       "      <td>0</td>\n",
       "      <td>0</td>\n",
       "      <td>0</td>\n",
       "      <td>1</td>\n",
       "      <td>0</td>\n",
       "      <td>0</td>\n",
       "      <td>0</td>\n",
       "      <td>0</td>\n",
       "      <td>0</td>\n",
       "      <td>0</td>\n",
       "      <td>0</td>\n",
       "      <td>0</td>\n",
       "      <td>0</td>\n",
       "      <td>0</td>\n",
       "      <td>0</td>\n",
       "      <td>0</td>\n",
       "      <td>1</td>\n",
       "      <td>0</td>\n",
       "      <td>0</td>\n",
       "      <td>0</td>\n",
       "      <td>0</td>\n",
       "      <td>0</td>\n",
       "      <td>0</td>\n",
       "      <td>0</td>\n",
       "      <td>0</td>\n",
       "      <td>0</td>\n",
       "      <td>0</td>\n",
       "      <td>0</td>\n",
       "      <td>0</td>\n",
       "      <td>0</td>\n",
       "    </tr>\n",
       "  </tbody>\n",
       "</table>\n",
       "</div>"
      ],
      "text/plain": [
       "   mobile_name_Infinix  mobile_name_Mi  mobile_name_OPPO  mobile_name_POCO  \\\n",
       "0                    0               0                 0                 0   \n",
       "1                    0               0                 0                 0   \n",
       "2                    0               0                 0                 0   \n",
       "3                    0               0                 0                 0   \n",
       "4                    0               0                 0                 0   \n",
       "\n",
       "   mobile_name_Realme  mobile_name_Redmi  mobile_name_Samsung  \\\n",
       "0                   1                  0                    0   \n",
       "1                   1                  0                    0   \n",
       "2                   1                  0                    0   \n",
       "3                   1                  0                    0   \n",
       "4                   1                  0                    0   \n",
       "\n",
       "   mobile_name_Vivo  mobile_color_Black  mobile_color_Blue  \\\n",
       "0                 0                   0                  0   \n",
       "1                 0                   0                  1   \n",
       "2                 0                   0                  1   \n",
       "3                 0                   0                  0   \n",
       "4                 0                   0                  0   \n",
       "\n",
       "   mobile_color_Brick  mobile_color_Brown  mobile_color_Champagne  \\\n",
       "0                   0                   0                       0   \n",
       "1                   0                   0                       0   \n",
       "2                   0                   0                       0   \n",
       "3                   0                   0                       0   \n",
       "4                   0                   0                       0   \n",
       "\n",
       "   mobile_color_Concrete  mobile_color_Cyan  mobile_color_Edition  \\\n",
       "0                      0                  0                     0   \n",
       "1                      0                  0                     0   \n",
       "2                      0                  0                     0   \n",
       "3                      0                  0                     0   \n",
       "4                      0                  0                     0   \n",
       "\n",
       "   mobile_color_Gold  mobile_color_Green  mobile_color_Grey  \\\n",
       "0                  0                   0                  0   \n",
       "1                  0                   0                  0   \n",
       "2                  0                   0                  0   \n",
       "3                  0                   0                  0   \n",
       "4                  0                   1                  0   \n",
       "\n",
       "   mobile_color_Mint  mobile_color_Mist  mobile_color_Orange  \\\n",
       "0                  0                  0                    0   \n",
       "1                  0                  0                    0   \n",
       "2                  0                  0                    0   \n",
       "3                  0                  0                    0   \n",
       "4                  0                  0                    0   \n",
       "\n",
       "   mobile_color_Purple  mobile_color_Red  mobile_color_Ruby  \\\n",
       "0                    0                 0                  0   \n",
       "1                    0                 0                  0   \n",
       "2                    0                 0                  0   \n",
       "3                    0                 0                  0   \n",
       "4                    0                 0                  0   \n",
       "\n",
       "   mobile_color_Sapphire  mobile_color_Sea  mobile_color_Silver  \\\n",
       "0                      0                 0                    0   \n",
       "1                      0                 0                    0   \n",
       "2                      0                 0                    0   \n",
       "3                      0                 0                    0   \n",
       "4                      0                 0                    0   \n",
       "\n",
       "   mobile_color_Violet  mobile_color_Wave  mobile_color_White  \n",
       "0                    0                  0                   1  \n",
       "1                    0                  0                   0  \n",
       "2                    0                  0                   0  \n",
       "3                    0                  0                   1  \n",
       "4                    0                  0                   0  "
      ]
     },
     "execution_count": 82,
     "metadata": {},
     "output_type": "execute_result"
    }
   ],
   "source": [
    "data_ohe = pd.get_dummies(df[['mobile_name','mobile_color']])\n",
    "data_ohe.head()"
   ]
  },
  {
   "cell_type": "code",
   "execution_count": 83,
   "metadata": {},
   "outputs": [
    {
     "data": {
      "text/plain": [
       "(459, 31)"
      ]
     },
     "execution_count": 83,
     "metadata": {},
     "output_type": "execute_result"
    }
   ],
   "source": [
    "data_ohe.shape"
   ]
  },
  {
   "cell_type": "code",
   "execution_count": 84,
   "metadata": {},
   "outputs": [
    {
     "data": {
      "text/plain": [
       "(459, 24)"
      ]
     },
     "execution_count": 84,
     "metadata": {},
     "output_type": "execute_result"
    }
   ],
   "source": [
    "df.shape"
   ]
  },
  {
   "cell_type": "code",
   "execution_count": 85,
   "metadata": {},
   "outputs": [
    {
     "data": {
      "text/html": [
       "<div>\n",
       "<style scoped>\n",
       "    .dataframe tbody tr th:only-of-type {\n",
       "        vertical-align: middle;\n",
       "    }\n",
       "\n",
       "    .dataframe tbody tr th {\n",
       "        vertical-align: top;\n",
       "    }\n",
       "\n",
       "    .dataframe thead th {\n",
       "        text-align: right;\n",
       "    }\n",
       "</style>\n",
       "<table border=\"1\" class=\"dataframe\">\n",
       "  <thead>\n",
       "    <tr style=\"text-align: right;\">\n",
       "      <th></th>\n",
       "      <th>mobile_name</th>\n",
       "      <th>mobile_price</th>\n",
       "      <th>mobile_color</th>\n",
       "      <th>resolution</th>\n",
       "      <th>os</th>\n",
       "      <th>num_cores</th>\n",
       "      <th>mp_speed</th>\n",
       "      <th>int_memory</th>\n",
       "      <th>ram</th>\n",
       "      <th>battery_power</th>\n",
       "      <th>mob_width</th>\n",
       "      <th>mob_height</th>\n",
       "      <th>mob_depth</th>\n",
       "      <th>mob_weight</th>\n",
       "      <th>disp_size(cm)</th>\n",
       "      <th>p_cam_max</th>\n",
       "      <th>p_cam_count</th>\n",
       "      <th>f_cam_max</th>\n",
       "      <th>f_cam_count</th>\n",
       "      <th>2G</th>\n",
       "      <th>3G</th>\n",
       "      <th>4G</th>\n",
       "      <th>4GVOLTE</th>\n",
       "      <th>5G</th>\n",
       "      <th>mobile_name_Infinix</th>\n",
       "      <th>mobile_name_Mi</th>\n",
       "      <th>mobile_name_OPPO</th>\n",
       "      <th>mobile_name_POCO</th>\n",
       "      <th>mobile_name_Realme</th>\n",
       "      <th>mobile_name_Redmi</th>\n",
       "      <th>mobile_name_Samsung</th>\n",
       "      <th>mobile_name_Vivo</th>\n",
       "      <th>mobile_color_Black</th>\n",
       "      <th>mobile_color_Blue</th>\n",
       "      <th>mobile_color_Brick</th>\n",
       "      <th>mobile_color_Brown</th>\n",
       "      <th>mobile_color_Champagne</th>\n",
       "      <th>mobile_color_Concrete</th>\n",
       "      <th>mobile_color_Cyan</th>\n",
       "      <th>mobile_color_Edition</th>\n",
       "      <th>mobile_color_Gold</th>\n",
       "      <th>mobile_color_Green</th>\n",
       "      <th>mobile_color_Grey</th>\n",
       "      <th>mobile_color_Mint</th>\n",
       "      <th>mobile_color_Mist</th>\n",
       "      <th>mobile_color_Orange</th>\n",
       "      <th>mobile_color_Purple</th>\n",
       "      <th>mobile_color_Red</th>\n",
       "      <th>mobile_color_Ruby</th>\n",
       "      <th>mobile_color_Sapphire</th>\n",
       "      <th>mobile_color_Sea</th>\n",
       "      <th>mobile_color_Silver</th>\n",
       "      <th>mobile_color_Violet</th>\n",
       "      <th>mobile_color_Wave</th>\n",
       "      <th>mobile_color_White</th>\n",
       "    </tr>\n",
       "  </thead>\n",
       "  <tbody>\n",
       "    <tr>\n",
       "      <td>0</td>\n",
       "      <td>Realme</td>\n",
       "      <td>8999</td>\n",
       "      <td>White</td>\n",
       "      <td>1152000</td>\n",
       "      <td>10</td>\n",
       "      <td>8</td>\n",
       "      <td>2.0</td>\n",
       "      <td>32</td>\n",
       "      <td>3</td>\n",
       "      <td>5000</td>\n",
       "      <td>75.0</td>\n",
       "      <td>164.4</td>\n",
       "      <td>8.95</td>\n",
       "      <td>195.0</td>\n",
       "      <td>16.56</td>\n",
       "      <td>12</td>\n",
       "      <td>3</td>\n",
       "      <td>12</td>\n",
       "      <td>3</td>\n",
       "      <td>1</td>\n",
       "      <td>1</td>\n",
       "      <td>1</td>\n",
       "      <td>1</td>\n",
       "      <td>0</td>\n",
       "      <td>0</td>\n",
       "      <td>0</td>\n",
       "      <td>0</td>\n",
       "      <td>0</td>\n",
       "      <td>1</td>\n",
       "      <td>0</td>\n",
       "      <td>0</td>\n",
       "      <td>0</td>\n",
       "      <td>0</td>\n",
       "      <td>0</td>\n",
       "      <td>0</td>\n",
       "      <td>0</td>\n",
       "      <td>0</td>\n",
       "      <td>0</td>\n",
       "      <td>0</td>\n",
       "      <td>0</td>\n",
       "      <td>0</td>\n",
       "      <td>0</td>\n",
       "      <td>0</td>\n",
       "      <td>0</td>\n",
       "      <td>0</td>\n",
       "      <td>0</td>\n",
       "      <td>0</td>\n",
       "      <td>0</td>\n",
       "      <td>0</td>\n",
       "      <td>0</td>\n",
       "      <td>0</td>\n",
       "      <td>0</td>\n",
       "      <td>0</td>\n",
       "      <td>0</td>\n",
       "      <td>1</td>\n",
       "    </tr>\n",
       "    <tr>\n",
       "      <td>1</td>\n",
       "      <td>Realme</td>\n",
       "      <td>8999</td>\n",
       "      <td>Blue</td>\n",
       "      <td>1152000</td>\n",
       "      <td>10</td>\n",
       "      <td>8</td>\n",
       "      <td>2.0</td>\n",
       "      <td>32</td>\n",
       "      <td>3</td>\n",
       "      <td>5000</td>\n",
       "      <td>75.0</td>\n",
       "      <td>164.4</td>\n",
       "      <td>8.95</td>\n",
       "      <td>195.0</td>\n",
       "      <td>16.56</td>\n",
       "      <td>12</td>\n",
       "      <td>3</td>\n",
       "      <td>12</td>\n",
       "      <td>3</td>\n",
       "      <td>1</td>\n",
       "      <td>1</td>\n",
       "      <td>1</td>\n",
       "      <td>1</td>\n",
       "      <td>0</td>\n",
       "      <td>0</td>\n",
       "      <td>0</td>\n",
       "      <td>0</td>\n",
       "      <td>0</td>\n",
       "      <td>1</td>\n",
       "      <td>0</td>\n",
       "      <td>0</td>\n",
       "      <td>0</td>\n",
       "      <td>0</td>\n",
       "      <td>1</td>\n",
       "      <td>0</td>\n",
       "      <td>0</td>\n",
       "      <td>0</td>\n",
       "      <td>0</td>\n",
       "      <td>0</td>\n",
       "      <td>0</td>\n",
       "      <td>0</td>\n",
       "      <td>0</td>\n",
       "      <td>0</td>\n",
       "      <td>0</td>\n",
       "      <td>0</td>\n",
       "      <td>0</td>\n",
       "      <td>0</td>\n",
       "      <td>0</td>\n",
       "      <td>0</td>\n",
       "      <td>0</td>\n",
       "      <td>0</td>\n",
       "      <td>0</td>\n",
       "      <td>0</td>\n",
       "      <td>0</td>\n",
       "      <td>0</td>\n",
       "    </tr>\n",
       "    <tr>\n",
       "      <td>2</td>\n",
       "      <td>Realme</td>\n",
       "      <td>9999</td>\n",
       "      <td>Blue</td>\n",
       "      <td>1152000</td>\n",
       "      <td>10</td>\n",
       "      <td>8</td>\n",
       "      <td>2.0</td>\n",
       "      <td>64</td>\n",
       "      <td>4</td>\n",
       "      <td>5000</td>\n",
       "      <td>75.0</td>\n",
       "      <td>164.4</td>\n",
       "      <td>8.95</td>\n",
       "      <td>195.0</td>\n",
       "      <td>16.56</td>\n",
       "      <td>12</td>\n",
       "      <td>3</td>\n",
       "      <td>12</td>\n",
       "      <td>3</td>\n",
       "      <td>1</td>\n",
       "      <td>1</td>\n",
       "      <td>1</td>\n",
       "      <td>1</td>\n",
       "      <td>0</td>\n",
       "      <td>0</td>\n",
       "      <td>0</td>\n",
       "      <td>0</td>\n",
       "      <td>0</td>\n",
       "      <td>1</td>\n",
       "      <td>0</td>\n",
       "      <td>0</td>\n",
       "      <td>0</td>\n",
       "      <td>0</td>\n",
       "      <td>1</td>\n",
       "      <td>0</td>\n",
       "      <td>0</td>\n",
       "      <td>0</td>\n",
       "      <td>0</td>\n",
       "      <td>0</td>\n",
       "      <td>0</td>\n",
       "      <td>0</td>\n",
       "      <td>0</td>\n",
       "      <td>0</td>\n",
       "      <td>0</td>\n",
       "      <td>0</td>\n",
       "      <td>0</td>\n",
       "      <td>0</td>\n",
       "      <td>0</td>\n",
       "      <td>0</td>\n",
       "      <td>0</td>\n",
       "      <td>0</td>\n",
       "      <td>0</td>\n",
       "      <td>0</td>\n",
       "      <td>0</td>\n",
       "      <td>0</td>\n",
       "    </tr>\n",
       "    <tr>\n",
       "      <td>3</td>\n",
       "      <td>Realme</td>\n",
       "      <td>9999</td>\n",
       "      <td>White</td>\n",
       "      <td>1152000</td>\n",
       "      <td>10</td>\n",
       "      <td>8</td>\n",
       "      <td>2.0</td>\n",
       "      <td>64</td>\n",
       "      <td>4</td>\n",
       "      <td>5000</td>\n",
       "      <td>75.0</td>\n",
       "      <td>164.4</td>\n",
       "      <td>8.95</td>\n",
       "      <td>195.0</td>\n",
       "      <td>16.56</td>\n",
       "      <td>12</td>\n",
       "      <td>3</td>\n",
       "      <td>12</td>\n",
       "      <td>3</td>\n",
       "      <td>1</td>\n",
       "      <td>1</td>\n",
       "      <td>1</td>\n",
       "      <td>1</td>\n",
       "      <td>0</td>\n",
       "      <td>0</td>\n",
       "      <td>0</td>\n",
       "      <td>0</td>\n",
       "      <td>0</td>\n",
       "      <td>1</td>\n",
       "      <td>0</td>\n",
       "      <td>0</td>\n",
       "      <td>0</td>\n",
       "      <td>0</td>\n",
       "      <td>0</td>\n",
       "      <td>0</td>\n",
       "      <td>0</td>\n",
       "      <td>0</td>\n",
       "      <td>0</td>\n",
       "      <td>0</td>\n",
       "      <td>0</td>\n",
       "      <td>0</td>\n",
       "      <td>0</td>\n",
       "      <td>0</td>\n",
       "      <td>0</td>\n",
       "      <td>0</td>\n",
       "      <td>0</td>\n",
       "      <td>0</td>\n",
       "      <td>0</td>\n",
       "      <td>0</td>\n",
       "      <td>0</td>\n",
       "      <td>0</td>\n",
       "      <td>0</td>\n",
       "      <td>0</td>\n",
       "      <td>0</td>\n",
       "      <td>1</td>\n",
       "    </tr>\n",
       "    <tr>\n",
       "      <td>4</td>\n",
       "      <td>Realme</td>\n",
       "      <td>11999</td>\n",
       "      <td>Green</td>\n",
       "      <td>1152000</td>\n",
       "      <td>10</td>\n",
       "      <td>8</td>\n",
       "      <td>2.0</td>\n",
       "      <td>128</td>\n",
       "      <td>4</td>\n",
       "      <td>5000</td>\n",
       "      <td>75.4</td>\n",
       "      <td>164.4</td>\n",
       "      <td>9.00</td>\n",
       "      <td>199.0</td>\n",
       "      <td>16.51</td>\n",
       "      <td>48</td>\n",
       "      <td>4</td>\n",
       "      <td>48</td>\n",
       "      <td>4</td>\n",
       "      <td>1</td>\n",
       "      <td>1</td>\n",
       "      <td>1</td>\n",
       "      <td>1</td>\n",
       "      <td>0</td>\n",
       "      <td>0</td>\n",
       "      <td>0</td>\n",
       "      <td>0</td>\n",
       "      <td>0</td>\n",
       "      <td>1</td>\n",
       "      <td>0</td>\n",
       "      <td>0</td>\n",
       "      <td>0</td>\n",
       "      <td>0</td>\n",
       "      <td>0</td>\n",
       "      <td>0</td>\n",
       "      <td>0</td>\n",
       "      <td>0</td>\n",
       "      <td>0</td>\n",
       "      <td>0</td>\n",
       "      <td>0</td>\n",
       "      <td>0</td>\n",
       "      <td>1</td>\n",
       "      <td>0</td>\n",
       "      <td>0</td>\n",
       "      <td>0</td>\n",
       "      <td>0</td>\n",
       "      <td>0</td>\n",
       "      <td>0</td>\n",
       "      <td>0</td>\n",
       "      <td>0</td>\n",
       "      <td>0</td>\n",
       "      <td>0</td>\n",
       "      <td>0</td>\n",
       "      <td>0</td>\n",
       "      <td>0</td>\n",
       "    </tr>\n",
       "  </tbody>\n",
       "</table>\n",
       "</div>"
      ],
      "text/plain": [
       "  mobile_name  mobile_price mobile_color  resolution  os  num_cores  mp_speed  \\\n",
       "0      Realme          8999        White     1152000  10          8       2.0   \n",
       "1      Realme          8999         Blue     1152000  10          8       2.0   \n",
       "2      Realme          9999         Blue     1152000  10          8       2.0   \n",
       "3      Realme          9999        White     1152000  10          8       2.0   \n",
       "4      Realme         11999        Green     1152000  10          8       2.0   \n",
       "\n",
       "   int_memory  ram  battery_power  mob_width  mob_height  mob_depth  \\\n",
       "0          32    3           5000       75.0       164.4       8.95   \n",
       "1          32    3           5000       75.0       164.4       8.95   \n",
       "2          64    4           5000       75.0       164.4       8.95   \n",
       "3          64    4           5000       75.0       164.4       8.95   \n",
       "4         128    4           5000       75.4       164.4       9.00   \n",
       "\n",
       "   mob_weight  disp_size(cm)  p_cam_max  p_cam_count  f_cam_max  f_cam_count  \\\n",
       "0       195.0          16.56         12            3         12            3   \n",
       "1       195.0          16.56         12            3         12            3   \n",
       "2       195.0          16.56         12            3         12            3   \n",
       "3       195.0          16.56         12            3         12            3   \n",
       "4       199.0          16.51         48            4         48            4   \n",
       "\n",
       "   2G  3G  4G  4GVOLTE  5G  mobile_name_Infinix  mobile_name_Mi  \\\n",
       "0   1   1   1        1   0                    0               0   \n",
       "1   1   1   1        1   0                    0               0   \n",
       "2   1   1   1        1   0                    0               0   \n",
       "3   1   1   1        1   0                    0               0   \n",
       "4   1   1   1        1   0                    0               0   \n",
       "\n",
       "   mobile_name_OPPO  mobile_name_POCO  mobile_name_Realme  mobile_name_Redmi  \\\n",
       "0                 0                 0                   1                  0   \n",
       "1                 0                 0                   1                  0   \n",
       "2                 0                 0                   1                  0   \n",
       "3                 0                 0                   1                  0   \n",
       "4                 0                 0                   1                  0   \n",
       "\n",
       "   mobile_name_Samsung  mobile_name_Vivo  mobile_color_Black  \\\n",
       "0                    0                 0                   0   \n",
       "1                    0                 0                   0   \n",
       "2                    0                 0                   0   \n",
       "3                    0                 0                   0   \n",
       "4                    0                 0                   0   \n",
       "\n",
       "   mobile_color_Blue  mobile_color_Brick  mobile_color_Brown  \\\n",
       "0                  0                   0                   0   \n",
       "1                  1                   0                   0   \n",
       "2                  1                   0                   0   \n",
       "3                  0                   0                   0   \n",
       "4                  0                   0                   0   \n",
       "\n",
       "   mobile_color_Champagne  mobile_color_Concrete  mobile_color_Cyan  \\\n",
       "0                       0                      0                  0   \n",
       "1                       0                      0                  0   \n",
       "2                       0                      0                  0   \n",
       "3                       0                      0                  0   \n",
       "4                       0                      0                  0   \n",
       "\n",
       "   mobile_color_Edition  mobile_color_Gold  mobile_color_Green  \\\n",
       "0                     0                  0                   0   \n",
       "1                     0                  0                   0   \n",
       "2                     0                  0                   0   \n",
       "3                     0                  0                   0   \n",
       "4                     0                  0                   1   \n",
       "\n",
       "   mobile_color_Grey  mobile_color_Mint  mobile_color_Mist  \\\n",
       "0                  0                  0                  0   \n",
       "1                  0                  0                  0   \n",
       "2                  0                  0                  0   \n",
       "3                  0                  0                  0   \n",
       "4                  0                  0                  0   \n",
       "\n",
       "   mobile_color_Orange  mobile_color_Purple  mobile_color_Red  \\\n",
       "0                    0                    0                 0   \n",
       "1                    0                    0                 0   \n",
       "2                    0                    0                 0   \n",
       "3                    0                    0                 0   \n",
       "4                    0                    0                 0   \n",
       "\n",
       "   mobile_color_Ruby  mobile_color_Sapphire  mobile_color_Sea  \\\n",
       "0                  0                      0                 0   \n",
       "1                  0                      0                 0   \n",
       "2                  0                      0                 0   \n",
       "3                  0                      0                 0   \n",
       "4                  0                      0                 0   \n",
       "\n",
       "   mobile_color_Silver  mobile_color_Violet  mobile_color_Wave  \\\n",
       "0                    0                    0                  0   \n",
       "1                    0                    0                  0   \n",
       "2                    0                    0                  0   \n",
       "3                    0                    0                  0   \n",
       "4                    0                    0                  0   \n",
       "\n",
       "   mobile_color_White  \n",
       "0                   1  \n",
       "1                   0  \n",
       "2                   0  \n",
       "3                   1  \n",
       "4                   0  "
      ]
     },
     "execution_count": 85,
     "metadata": {},
     "output_type": "execute_result"
    }
   ],
   "source": [
    "df = pd.concat([df,data_ohe],axis = 1)\n",
    "df.head()"
   ]
  },
  {
   "cell_type": "code",
   "execution_count": 86,
   "metadata": {},
   "outputs": [],
   "source": [
    "df.drop(['mobile_name','mobile_color'],axis =1,inplace = True)"
   ]
  },
  {
   "cell_type": "code",
   "execution_count": 87,
   "metadata": {},
   "outputs": [
    {
     "data": {
      "text/plain": [
       "(459, 53)"
      ]
     },
     "execution_count": 87,
     "metadata": {},
     "output_type": "execute_result"
    }
   ],
   "source": [
    "df.shape"
   ]
  },
  {
   "cell_type": "markdown",
   "metadata": {},
   "source": [
    "##### Xand y"
   ]
  },
  {
   "cell_type": "code",
   "execution_count": 88,
   "metadata": {},
   "outputs": [],
   "source": [
    "X = df.drop('mobile_price',1)\n",
    "y = df['mobile_price']"
   ]
  },
  {
   "cell_type": "code",
   "execution_count": 89,
   "metadata": {},
   "outputs": [
    {
     "data": {
      "text/html": [
       "<div>\n",
       "<style scoped>\n",
       "    .dataframe tbody tr th:only-of-type {\n",
       "        vertical-align: middle;\n",
       "    }\n",
       "\n",
       "    .dataframe tbody tr th {\n",
       "        vertical-align: top;\n",
       "    }\n",
       "\n",
       "    .dataframe thead th {\n",
       "        text-align: right;\n",
       "    }\n",
       "</style>\n",
       "<table border=\"1\" class=\"dataframe\">\n",
       "  <thead>\n",
       "    <tr style=\"text-align: right;\">\n",
       "      <th></th>\n",
       "      <th>resolution</th>\n",
       "      <th>os</th>\n",
       "      <th>num_cores</th>\n",
       "      <th>mp_speed</th>\n",
       "      <th>int_memory</th>\n",
       "      <th>ram</th>\n",
       "      <th>battery_power</th>\n",
       "      <th>mob_width</th>\n",
       "      <th>mob_height</th>\n",
       "      <th>mob_depth</th>\n",
       "      <th>mob_weight</th>\n",
       "      <th>disp_size(cm)</th>\n",
       "      <th>p_cam_max</th>\n",
       "      <th>p_cam_count</th>\n",
       "      <th>f_cam_max</th>\n",
       "      <th>f_cam_count</th>\n",
       "      <th>2G</th>\n",
       "      <th>3G</th>\n",
       "      <th>4G</th>\n",
       "      <th>4GVOLTE</th>\n",
       "      <th>5G</th>\n",
       "      <th>mobile_name_Infinix</th>\n",
       "      <th>mobile_name_Mi</th>\n",
       "      <th>mobile_name_OPPO</th>\n",
       "      <th>mobile_name_POCO</th>\n",
       "      <th>mobile_name_Realme</th>\n",
       "      <th>mobile_name_Redmi</th>\n",
       "      <th>mobile_name_Samsung</th>\n",
       "      <th>mobile_name_Vivo</th>\n",
       "      <th>mobile_color_Black</th>\n",
       "      <th>mobile_color_Blue</th>\n",
       "      <th>mobile_color_Brick</th>\n",
       "      <th>mobile_color_Brown</th>\n",
       "      <th>mobile_color_Champagne</th>\n",
       "      <th>mobile_color_Concrete</th>\n",
       "      <th>mobile_color_Cyan</th>\n",
       "      <th>mobile_color_Edition</th>\n",
       "      <th>mobile_color_Gold</th>\n",
       "      <th>mobile_color_Green</th>\n",
       "      <th>mobile_color_Grey</th>\n",
       "      <th>mobile_color_Mint</th>\n",
       "      <th>mobile_color_Mist</th>\n",
       "      <th>mobile_color_Orange</th>\n",
       "      <th>mobile_color_Purple</th>\n",
       "      <th>mobile_color_Red</th>\n",
       "      <th>mobile_color_Ruby</th>\n",
       "      <th>mobile_color_Sapphire</th>\n",
       "      <th>mobile_color_Sea</th>\n",
       "      <th>mobile_color_Silver</th>\n",
       "      <th>mobile_color_Violet</th>\n",
       "      <th>mobile_color_Wave</th>\n",
       "      <th>mobile_color_White</th>\n",
       "    </tr>\n",
       "  </thead>\n",
       "  <tbody>\n",
       "    <tr>\n",
       "      <td>0</td>\n",
       "      <td>1152000</td>\n",
       "      <td>10</td>\n",
       "      <td>8</td>\n",
       "      <td>2.0</td>\n",
       "      <td>32</td>\n",
       "      <td>3</td>\n",
       "      <td>5000</td>\n",
       "      <td>75.0</td>\n",
       "      <td>164.4</td>\n",
       "      <td>8.95</td>\n",
       "      <td>195.0</td>\n",
       "      <td>16.56</td>\n",
       "      <td>12</td>\n",
       "      <td>3</td>\n",
       "      <td>12</td>\n",
       "      <td>3</td>\n",
       "      <td>1</td>\n",
       "      <td>1</td>\n",
       "      <td>1</td>\n",
       "      <td>1</td>\n",
       "      <td>0</td>\n",
       "      <td>0</td>\n",
       "      <td>0</td>\n",
       "      <td>0</td>\n",
       "      <td>0</td>\n",
       "      <td>1</td>\n",
       "      <td>0</td>\n",
       "      <td>0</td>\n",
       "      <td>0</td>\n",
       "      <td>0</td>\n",
       "      <td>0</td>\n",
       "      <td>0</td>\n",
       "      <td>0</td>\n",
       "      <td>0</td>\n",
       "      <td>0</td>\n",
       "      <td>0</td>\n",
       "      <td>0</td>\n",
       "      <td>0</td>\n",
       "      <td>0</td>\n",
       "      <td>0</td>\n",
       "      <td>0</td>\n",
       "      <td>0</td>\n",
       "      <td>0</td>\n",
       "      <td>0</td>\n",
       "      <td>0</td>\n",
       "      <td>0</td>\n",
       "      <td>0</td>\n",
       "      <td>0</td>\n",
       "      <td>0</td>\n",
       "      <td>0</td>\n",
       "      <td>0</td>\n",
       "      <td>1</td>\n",
       "    </tr>\n",
       "    <tr>\n",
       "      <td>1</td>\n",
       "      <td>1152000</td>\n",
       "      <td>10</td>\n",
       "      <td>8</td>\n",
       "      <td>2.0</td>\n",
       "      <td>32</td>\n",
       "      <td>3</td>\n",
       "      <td>5000</td>\n",
       "      <td>75.0</td>\n",
       "      <td>164.4</td>\n",
       "      <td>8.95</td>\n",
       "      <td>195.0</td>\n",
       "      <td>16.56</td>\n",
       "      <td>12</td>\n",
       "      <td>3</td>\n",
       "      <td>12</td>\n",
       "      <td>3</td>\n",
       "      <td>1</td>\n",
       "      <td>1</td>\n",
       "      <td>1</td>\n",
       "      <td>1</td>\n",
       "      <td>0</td>\n",
       "      <td>0</td>\n",
       "      <td>0</td>\n",
       "      <td>0</td>\n",
       "      <td>0</td>\n",
       "      <td>1</td>\n",
       "      <td>0</td>\n",
       "      <td>0</td>\n",
       "      <td>0</td>\n",
       "      <td>0</td>\n",
       "      <td>1</td>\n",
       "      <td>0</td>\n",
       "      <td>0</td>\n",
       "      <td>0</td>\n",
       "      <td>0</td>\n",
       "      <td>0</td>\n",
       "      <td>0</td>\n",
       "      <td>0</td>\n",
       "      <td>0</td>\n",
       "      <td>0</td>\n",
       "      <td>0</td>\n",
       "      <td>0</td>\n",
       "      <td>0</td>\n",
       "      <td>0</td>\n",
       "      <td>0</td>\n",
       "      <td>0</td>\n",
       "      <td>0</td>\n",
       "      <td>0</td>\n",
       "      <td>0</td>\n",
       "      <td>0</td>\n",
       "      <td>0</td>\n",
       "      <td>0</td>\n",
       "    </tr>\n",
       "    <tr>\n",
       "      <td>2</td>\n",
       "      <td>1152000</td>\n",
       "      <td>10</td>\n",
       "      <td>8</td>\n",
       "      <td>2.0</td>\n",
       "      <td>64</td>\n",
       "      <td>4</td>\n",
       "      <td>5000</td>\n",
       "      <td>75.0</td>\n",
       "      <td>164.4</td>\n",
       "      <td>8.95</td>\n",
       "      <td>195.0</td>\n",
       "      <td>16.56</td>\n",
       "      <td>12</td>\n",
       "      <td>3</td>\n",
       "      <td>12</td>\n",
       "      <td>3</td>\n",
       "      <td>1</td>\n",
       "      <td>1</td>\n",
       "      <td>1</td>\n",
       "      <td>1</td>\n",
       "      <td>0</td>\n",
       "      <td>0</td>\n",
       "      <td>0</td>\n",
       "      <td>0</td>\n",
       "      <td>0</td>\n",
       "      <td>1</td>\n",
       "      <td>0</td>\n",
       "      <td>0</td>\n",
       "      <td>0</td>\n",
       "      <td>0</td>\n",
       "      <td>1</td>\n",
       "      <td>0</td>\n",
       "      <td>0</td>\n",
       "      <td>0</td>\n",
       "      <td>0</td>\n",
       "      <td>0</td>\n",
       "      <td>0</td>\n",
       "      <td>0</td>\n",
       "      <td>0</td>\n",
       "      <td>0</td>\n",
       "      <td>0</td>\n",
       "      <td>0</td>\n",
       "      <td>0</td>\n",
       "      <td>0</td>\n",
       "      <td>0</td>\n",
       "      <td>0</td>\n",
       "      <td>0</td>\n",
       "      <td>0</td>\n",
       "      <td>0</td>\n",
       "      <td>0</td>\n",
       "      <td>0</td>\n",
       "      <td>0</td>\n",
       "    </tr>\n",
       "    <tr>\n",
       "      <td>3</td>\n",
       "      <td>1152000</td>\n",
       "      <td>10</td>\n",
       "      <td>8</td>\n",
       "      <td>2.0</td>\n",
       "      <td>64</td>\n",
       "      <td>4</td>\n",
       "      <td>5000</td>\n",
       "      <td>75.0</td>\n",
       "      <td>164.4</td>\n",
       "      <td>8.95</td>\n",
       "      <td>195.0</td>\n",
       "      <td>16.56</td>\n",
       "      <td>12</td>\n",
       "      <td>3</td>\n",
       "      <td>12</td>\n",
       "      <td>3</td>\n",
       "      <td>1</td>\n",
       "      <td>1</td>\n",
       "      <td>1</td>\n",
       "      <td>1</td>\n",
       "      <td>0</td>\n",
       "      <td>0</td>\n",
       "      <td>0</td>\n",
       "      <td>0</td>\n",
       "      <td>0</td>\n",
       "      <td>1</td>\n",
       "      <td>0</td>\n",
       "      <td>0</td>\n",
       "      <td>0</td>\n",
       "      <td>0</td>\n",
       "      <td>0</td>\n",
       "      <td>0</td>\n",
       "      <td>0</td>\n",
       "      <td>0</td>\n",
       "      <td>0</td>\n",
       "      <td>0</td>\n",
       "      <td>0</td>\n",
       "      <td>0</td>\n",
       "      <td>0</td>\n",
       "      <td>0</td>\n",
       "      <td>0</td>\n",
       "      <td>0</td>\n",
       "      <td>0</td>\n",
       "      <td>0</td>\n",
       "      <td>0</td>\n",
       "      <td>0</td>\n",
       "      <td>0</td>\n",
       "      <td>0</td>\n",
       "      <td>0</td>\n",
       "      <td>0</td>\n",
       "      <td>0</td>\n",
       "      <td>1</td>\n",
       "    </tr>\n",
       "    <tr>\n",
       "      <td>4</td>\n",
       "      <td>1152000</td>\n",
       "      <td>10</td>\n",
       "      <td>8</td>\n",
       "      <td>2.0</td>\n",
       "      <td>128</td>\n",
       "      <td>4</td>\n",
       "      <td>5000</td>\n",
       "      <td>75.4</td>\n",
       "      <td>164.4</td>\n",
       "      <td>9.00</td>\n",
       "      <td>199.0</td>\n",
       "      <td>16.51</td>\n",
       "      <td>48</td>\n",
       "      <td>4</td>\n",
       "      <td>48</td>\n",
       "      <td>4</td>\n",
       "      <td>1</td>\n",
       "      <td>1</td>\n",
       "      <td>1</td>\n",
       "      <td>1</td>\n",
       "      <td>0</td>\n",
       "      <td>0</td>\n",
       "      <td>0</td>\n",
       "      <td>0</td>\n",
       "      <td>0</td>\n",
       "      <td>1</td>\n",
       "      <td>0</td>\n",
       "      <td>0</td>\n",
       "      <td>0</td>\n",
       "      <td>0</td>\n",
       "      <td>0</td>\n",
       "      <td>0</td>\n",
       "      <td>0</td>\n",
       "      <td>0</td>\n",
       "      <td>0</td>\n",
       "      <td>0</td>\n",
       "      <td>0</td>\n",
       "      <td>0</td>\n",
       "      <td>1</td>\n",
       "      <td>0</td>\n",
       "      <td>0</td>\n",
       "      <td>0</td>\n",
       "      <td>0</td>\n",
       "      <td>0</td>\n",
       "      <td>0</td>\n",
       "      <td>0</td>\n",
       "      <td>0</td>\n",
       "      <td>0</td>\n",
       "      <td>0</td>\n",
       "      <td>0</td>\n",
       "      <td>0</td>\n",
       "      <td>0</td>\n",
       "    </tr>\n",
       "  </tbody>\n",
       "</table>\n",
       "</div>"
      ],
      "text/plain": [
       "   resolution  os  num_cores  mp_speed  int_memory  ram  battery_power  \\\n",
       "0     1152000  10          8       2.0          32    3           5000   \n",
       "1     1152000  10          8       2.0          32    3           5000   \n",
       "2     1152000  10          8       2.0          64    4           5000   \n",
       "3     1152000  10          8       2.0          64    4           5000   \n",
       "4     1152000  10          8       2.0         128    4           5000   \n",
       "\n",
       "   mob_width  mob_height  mob_depth  mob_weight  disp_size(cm)  p_cam_max  \\\n",
       "0       75.0       164.4       8.95       195.0          16.56         12   \n",
       "1       75.0       164.4       8.95       195.0          16.56         12   \n",
       "2       75.0       164.4       8.95       195.0          16.56         12   \n",
       "3       75.0       164.4       8.95       195.0          16.56         12   \n",
       "4       75.4       164.4       9.00       199.0          16.51         48   \n",
       "\n",
       "   p_cam_count  f_cam_max  f_cam_count  2G  3G  4G  4GVOLTE  5G  \\\n",
       "0            3         12            3   1   1   1        1   0   \n",
       "1            3         12            3   1   1   1        1   0   \n",
       "2            3         12            3   1   1   1        1   0   \n",
       "3            3         12            3   1   1   1        1   0   \n",
       "4            4         48            4   1   1   1        1   0   \n",
       "\n",
       "   mobile_name_Infinix  mobile_name_Mi  mobile_name_OPPO  mobile_name_POCO  \\\n",
       "0                    0               0                 0                 0   \n",
       "1                    0               0                 0                 0   \n",
       "2                    0               0                 0                 0   \n",
       "3                    0               0                 0                 0   \n",
       "4                    0               0                 0                 0   \n",
       "\n",
       "   mobile_name_Realme  mobile_name_Redmi  mobile_name_Samsung  \\\n",
       "0                   1                  0                    0   \n",
       "1                   1                  0                    0   \n",
       "2                   1                  0                    0   \n",
       "3                   1                  0                    0   \n",
       "4                   1                  0                    0   \n",
       "\n",
       "   mobile_name_Vivo  mobile_color_Black  mobile_color_Blue  \\\n",
       "0                 0                   0                  0   \n",
       "1                 0                   0                  1   \n",
       "2                 0                   0                  1   \n",
       "3                 0                   0                  0   \n",
       "4                 0                   0                  0   \n",
       "\n",
       "   mobile_color_Brick  mobile_color_Brown  mobile_color_Champagne  \\\n",
       "0                   0                   0                       0   \n",
       "1                   0                   0                       0   \n",
       "2                   0                   0                       0   \n",
       "3                   0                   0                       0   \n",
       "4                   0                   0                       0   \n",
       "\n",
       "   mobile_color_Concrete  mobile_color_Cyan  mobile_color_Edition  \\\n",
       "0                      0                  0                     0   \n",
       "1                      0                  0                     0   \n",
       "2                      0                  0                     0   \n",
       "3                      0                  0                     0   \n",
       "4                      0                  0                     0   \n",
       "\n",
       "   mobile_color_Gold  mobile_color_Green  mobile_color_Grey  \\\n",
       "0                  0                   0                  0   \n",
       "1                  0                   0                  0   \n",
       "2                  0                   0                  0   \n",
       "3                  0                   0                  0   \n",
       "4                  0                   1                  0   \n",
       "\n",
       "   mobile_color_Mint  mobile_color_Mist  mobile_color_Orange  \\\n",
       "0                  0                  0                    0   \n",
       "1                  0                  0                    0   \n",
       "2                  0                  0                    0   \n",
       "3                  0                  0                    0   \n",
       "4                  0                  0                    0   \n",
       "\n",
       "   mobile_color_Purple  mobile_color_Red  mobile_color_Ruby  \\\n",
       "0                    0                 0                  0   \n",
       "1                    0                 0                  0   \n",
       "2                    0                 0                  0   \n",
       "3                    0                 0                  0   \n",
       "4                    0                 0                  0   \n",
       "\n",
       "   mobile_color_Sapphire  mobile_color_Sea  mobile_color_Silver  \\\n",
       "0                      0                 0                    0   \n",
       "1                      0                 0                    0   \n",
       "2                      0                 0                    0   \n",
       "3                      0                 0                    0   \n",
       "4                      0                 0                    0   \n",
       "\n",
       "   mobile_color_Violet  mobile_color_Wave  mobile_color_White  \n",
       "0                    0                  0                   1  \n",
       "1                    0                  0                   0  \n",
       "2                    0                  0                   0  \n",
       "3                    0                  0                   1  \n",
       "4                    0                  0                   0  "
      ]
     },
     "execution_count": 89,
     "metadata": {},
     "output_type": "execute_result"
    }
   ],
   "source": [
    "X.head()"
   ]
  },
  {
   "cell_type": "code",
   "execution_count": 90,
   "metadata": {},
   "outputs": [
    {
     "data": {
      "text/plain": [
       "0     8999\n",
       "1     8999\n",
       "2     9999\n",
       "3     9999\n",
       "4    11999\n",
       "Name: mobile_price, dtype: int64"
      ]
     },
     "execution_count": 90,
     "metadata": {},
     "output_type": "execute_result"
    }
   ],
   "source": [
    "y.head()"
   ]
  },
  {
   "cell_type": "markdown",
   "metadata": {},
   "source": [
    "##### Feature Scaling"
   ]
  },
  {
   "cell_type": "code",
   "execution_count": 91,
   "metadata": {},
   "outputs": [
    {
     "data": {
      "text/plain": [
       "RobustScaler(copy=True, quantile_range=(25.0, 75.0), with_centering=True,\n",
       "             with_scaling=True)"
      ]
     },
     "execution_count": 91,
     "metadata": {},
     "output_type": "execute_result"
    }
   ],
   "source": [
    "from sklearn.preprocessing import RobustScaler\n",
    "rs = RobustScaler()\n",
    "rs"
   ]
  },
  {
   "cell_type": "code",
   "execution_count": 92,
   "metadata": {},
   "outputs": [
    {
     "data": {
      "text/html": [
       "<div>\n",
       "<style scoped>\n",
       "    .dataframe tbody tr th:only-of-type {\n",
       "        vertical-align: middle;\n",
       "    }\n",
       "\n",
       "    .dataframe tbody tr th {\n",
       "        vertical-align: top;\n",
       "    }\n",
       "\n",
       "    .dataframe thead th {\n",
       "        text-align: right;\n",
       "    }\n",
       "</style>\n",
       "<table border=\"1\" class=\"dataframe\">\n",
       "  <thead>\n",
       "    <tr style=\"text-align: right;\">\n",
       "      <th></th>\n",
       "      <th>resolution</th>\n",
       "      <th>os</th>\n",
       "      <th>num_cores</th>\n",
       "      <th>mp_speed</th>\n",
       "      <th>int_memory</th>\n",
       "      <th>ram</th>\n",
       "      <th>battery_power</th>\n",
       "      <th>mob_width</th>\n",
       "      <th>mob_height</th>\n",
       "      <th>mob_depth</th>\n",
       "      <th>mob_weight</th>\n",
       "      <th>disp_size(cm)</th>\n",
       "      <th>p_cam_max</th>\n",
       "      <th>p_cam_count</th>\n",
       "      <th>f_cam_max</th>\n",
       "      <th>f_cam_count</th>\n",
       "      <th>2G</th>\n",
       "      <th>3G</th>\n",
       "      <th>4G</th>\n",
       "      <th>4GVOLTE</th>\n",
       "      <th>5G</th>\n",
       "      <th>mobile_name_Infinix</th>\n",
       "      <th>mobile_name_Mi</th>\n",
       "      <th>mobile_name_OPPO</th>\n",
       "      <th>mobile_name_POCO</th>\n",
       "      <th>mobile_name_Realme</th>\n",
       "      <th>mobile_name_Redmi</th>\n",
       "      <th>mobile_name_Samsung</th>\n",
       "      <th>mobile_name_Vivo</th>\n",
       "      <th>mobile_color_Black</th>\n",
       "      <th>mobile_color_Blue</th>\n",
       "      <th>mobile_color_Brick</th>\n",
       "      <th>mobile_color_Brown</th>\n",
       "      <th>mobile_color_Champagne</th>\n",
       "      <th>mobile_color_Concrete</th>\n",
       "      <th>mobile_color_Cyan</th>\n",
       "      <th>mobile_color_Edition</th>\n",
       "      <th>mobile_color_Gold</th>\n",
       "      <th>mobile_color_Green</th>\n",
       "      <th>mobile_color_Grey</th>\n",
       "      <th>mobile_color_Mint</th>\n",
       "      <th>mobile_color_Mist</th>\n",
       "      <th>mobile_color_Orange</th>\n",
       "      <th>mobile_color_Purple</th>\n",
       "      <th>mobile_color_Red</th>\n",
       "      <th>mobile_color_Ruby</th>\n",
       "      <th>mobile_color_Sapphire</th>\n",
       "      <th>mobile_color_Sea</th>\n",
       "      <th>mobile_color_Silver</th>\n",
       "      <th>mobile_color_Violet</th>\n",
       "      <th>mobile_color_Wave</th>\n",
       "      <th>mobile_color_White</th>\n",
       "    </tr>\n",
       "  </thead>\n",
       "  <tbody>\n",
       "    <tr>\n",
       "      <td>0</td>\n",
       "      <td>-0.824121</td>\n",
       "      <td>10</td>\n",
       "      <td>8</td>\n",
       "      <td>2.0</td>\n",
       "      <td>32</td>\n",
       "      <td>3</td>\n",
       "      <td>1.94</td>\n",
       "      <td>75.0</td>\n",
       "      <td>164.4</td>\n",
       "      <td>8.95</td>\n",
       "      <td>195.0</td>\n",
       "      <td>16.56</td>\n",
       "      <td>12</td>\n",
       "      <td>3</td>\n",
       "      <td>12</td>\n",
       "      <td>3</td>\n",
       "      <td>1</td>\n",
       "      <td>1</td>\n",
       "      <td>1</td>\n",
       "      <td>1</td>\n",
       "      <td>0</td>\n",
       "      <td>0</td>\n",
       "      <td>0</td>\n",
       "      <td>0</td>\n",
       "      <td>0</td>\n",
       "      <td>1</td>\n",
       "      <td>0</td>\n",
       "      <td>0</td>\n",
       "      <td>0</td>\n",
       "      <td>0</td>\n",
       "      <td>0</td>\n",
       "      <td>0</td>\n",
       "      <td>0</td>\n",
       "      <td>0</td>\n",
       "      <td>0</td>\n",
       "      <td>0</td>\n",
       "      <td>0</td>\n",
       "      <td>0</td>\n",
       "      <td>0</td>\n",
       "      <td>0</td>\n",
       "      <td>0</td>\n",
       "      <td>0</td>\n",
       "      <td>0</td>\n",
       "      <td>0</td>\n",
       "      <td>0</td>\n",
       "      <td>0</td>\n",
       "      <td>0</td>\n",
       "      <td>0</td>\n",
       "      <td>0</td>\n",
       "      <td>0</td>\n",
       "      <td>0</td>\n",
       "      <td>1</td>\n",
       "    </tr>\n",
       "    <tr>\n",
       "      <td>1</td>\n",
       "      <td>-0.824121</td>\n",
       "      <td>10</td>\n",
       "      <td>8</td>\n",
       "      <td>2.0</td>\n",
       "      <td>32</td>\n",
       "      <td>3</td>\n",
       "      <td>1.94</td>\n",
       "      <td>75.0</td>\n",
       "      <td>164.4</td>\n",
       "      <td>8.95</td>\n",
       "      <td>195.0</td>\n",
       "      <td>16.56</td>\n",
       "      <td>12</td>\n",
       "      <td>3</td>\n",
       "      <td>12</td>\n",
       "      <td>3</td>\n",
       "      <td>1</td>\n",
       "      <td>1</td>\n",
       "      <td>1</td>\n",
       "      <td>1</td>\n",
       "      <td>0</td>\n",
       "      <td>0</td>\n",
       "      <td>0</td>\n",
       "      <td>0</td>\n",
       "      <td>0</td>\n",
       "      <td>1</td>\n",
       "      <td>0</td>\n",
       "      <td>0</td>\n",
       "      <td>0</td>\n",
       "      <td>0</td>\n",
       "      <td>1</td>\n",
       "      <td>0</td>\n",
       "      <td>0</td>\n",
       "      <td>0</td>\n",
       "      <td>0</td>\n",
       "      <td>0</td>\n",
       "      <td>0</td>\n",
       "      <td>0</td>\n",
       "      <td>0</td>\n",
       "      <td>0</td>\n",
       "      <td>0</td>\n",
       "      <td>0</td>\n",
       "      <td>0</td>\n",
       "      <td>0</td>\n",
       "      <td>0</td>\n",
       "      <td>0</td>\n",
       "      <td>0</td>\n",
       "      <td>0</td>\n",
       "      <td>0</td>\n",
       "      <td>0</td>\n",
       "      <td>0</td>\n",
       "      <td>0</td>\n",
       "    </tr>\n",
       "    <tr>\n",
       "      <td>2</td>\n",
       "      <td>-0.824121</td>\n",
       "      <td>10</td>\n",
       "      <td>8</td>\n",
       "      <td>2.0</td>\n",
       "      <td>64</td>\n",
       "      <td>4</td>\n",
       "      <td>1.94</td>\n",
       "      <td>75.0</td>\n",
       "      <td>164.4</td>\n",
       "      <td>8.95</td>\n",
       "      <td>195.0</td>\n",
       "      <td>16.56</td>\n",
       "      <td>12</td>\n",
       "      <td>3</td>\n",
       "      <td>12</td>\n",
       "      <td>3</td>\n",
       "      <td>1</td>\n",
       "      <td>1</td>\n",
       "      <td>1</td>\n",
       "      <td>1</td>\n",
       "      <td>0</td>\n",
       "      <td>0</td>\n",
       "      <td>0</td>\n",
       "      <td>0</td>\n",
       "      <td>0</td>\n",
       "      <td>1</td>\n",
       "      <td>0</td>\n",
       "      <td>0</td>\n",
       "      <td>0</td>\n",
       "      <td>0</td>\n",
       "      <td>1</td>\n",
       "      <td>0</td>\n",
       "      <td>0</td>\n",
       "      <td>0</td>\n",
       "      <td>0</td>\n",
       "      <td>0</td>\n",
       "      <td>0</td>\n",
       "      <td>0</td>\n",
       "      <td>0</td>\n",
       "      <td>0</td>\n",
       "      <td>0</td>\n",
       "      <td>0</td>\n",
       "      <td>0</td>\n",
       "      <td>0</td>\n",
       "      <td>0</td>\n",
       "      <td>0</td>\n",
       "      <td>0</td>\n",
       "      <td>0</td>\n",
       "      <td>0</td>\n",
       "      <td>0</td>\n",
       "      <td>0</td>\n",
       "      <td>0</td>\n",
       "    </tr>\n",
       "    <tr>\n",
       "      <td>3</td>\n",
       "      <td>-0.824121</td>\n",
       "      <td>10</td>\n",
       "      <td>8</td>\n",
       "      <td>2.0</td>\n",
       "      <td>64</td>\n",
       "      <td>4</td>\n",
       "      <td>1.94</td>\n",
       "      <td>75.0</td>\n",
       "      <td>164.4</td>\n",
       "      <td>8.95</td>\n",
       "      <td>195.0</td>\n",
       "      <td>16.56</td>\n",
       "      <td>12</td>\n",
       "      <td>3</td>\n",
       "      <td>12</td>\n",
       "      <td>3</td>\n",
       "      <td>1</td>\n",
       "      <td>1</td>\n",
       "      <td>1</td>\n",
       "      <td>1</td>\n",
       "      <td>0</td>\n",
       "      <td>0</td>\n",
       "      <td>0</td>\n",
       "      <td>0</td>\n",
       "      <td>0</td>\n",
       "      <td>1</td>\n",
       "      <td>0</td>\n",
       "      <td>0</td>\n",
       "      <td>0</td>\n",
       "      <td>0</td>\n",
       "      <td>0</td>\n",
       "      <td>0</td>\n",
       "      <td>0</td>\n",
       "      <td>0</td>\n",
       "      <td>0</td>\n",
       "      <td>0</td>\n",
       "      <td>0</td>\n",
       "      <td>0</td>\n",
       "      <td>0</td>\n",
       "      <td>0</td>\n",
       "      <td>0</td>\n",
       "      <td>0</td>\n",
       "      <td>0</td>\n",
       "      <td>0</td>\n",
       "      <td>0</td>\n",
       "      <td>0</td>\n",
       "      <td>0</td>\n",
       "      <td>0</td>\n",
       "      <td>0</td>\n",
       "      <td>0</td>\n",
       "      <td>0</td>\n",
       "      <td>1</td>\n",
       "    </tr>\n",
       "    <tr>\n",
       "      <td>4</td>\n",
       "      <td>-0.824121</td>\n",
       "      <td>10</td>\n",
       "      <td>8</td>\n",
       "      <td>2.0</td>\n",
       "      <td>128</td>\n",
       "      <td>4</td>\n",
       "      <td>1.94</td>\n",
       "      <td>75.4</td>\n",
       "      <td>164.4</td>\n",
       "      <td>9.00</td>\n",
       "      <td>199.0</td>\n",
       "      <td>16.51</td>\n",
       "      <td>48</td>\n",
       "      <td>4</td>\n",
       "      <td>48</td>\n",
       "      <td>4</td>\n",
       "      <td>1</td>\n",
       "      <td>1</td>\n",
       "      <td>1</td>\n",
       "      <td>1</td>\n",
       "      <td>0</td>\n",
       "      <td>0</td>\n",
       "      <td>0</td>\n",
       "      <td>0</td>\n",
       "      <td>0</td>\n",
       "      <td>1</td>\n",
       "      <td>0</td>\n",
       "      <td>0</td>\n",
       "      <td>0</td>\n",
       "      <td>0</td>\n",
       "      <td>0</td>\n",
       "      <td>0</td>\n",
       "      <td>0</td>\n",
       "      <td>0</td>\n",
       "      <td>0</td>\n",
       "      <td>0</td>\n",
       "      <td>0</td>\n",
       "      <td>0</td>\n",
       "      <td>1</td>\n",
       "      <td>0</td>\n",
       "      <td>0</td>\n",
       "      <td>0</td>\n",
       "      <td>0</td>\n",
       "      <td>0</td>\n",
       "      <td>0</td>\n",
       "      <td>0</td>\n",
       "      <td>0</td>\n",
       "      <td>0</td>\n",
       "      <td>0</td>\n",
       "      <td>0</td>\n",
       "      <td>0</td>\n",
       "      <td>0</td>\n",
       "    </tr>\n",
       "  </tbody>\n",
       "</table>\n",
       "</div>"
      ],
      "text/plain": [
       "   resolution  os  num_cores  mp_speed  int_memory  ram  battery_power  \\\n",
       "0   -0.824121  10          8       2.0          32    3           1.94   \n",
       "1   -0.824121  10          8       2.0          32    3           1.94   \n",
       "2   -0.824121  10          8       2.0          64    4           1.94   \n",
       "3   -0.824121  10          8       2.0          64    4           1.94   \n",
       "4   -0.824121  10          8       2.0         128    4           1.94   \n",
       "\n",
       "   mob_width  mob_height  mob_depth  mob_weight  disp_size(cm)  p_cam_max  \\\n",
       "0       75.0       164.4       8.95       195.0          16.56         12   \n",
       "1       75.0       164.4       8.95       195.0          16.56         12   \n",
       "2       75.0       164.4       8.95       195.0          16.56         12   \n",
       "3       75.0       164.4       8.95       195.0          16.56         12   \n",
       "4       75.4       164.4       9.00       199.0          16.51         48   \n",
       "\n",
       "   p_cam_count  f_cam_max  f_cam_count  2G  3G  4G  4GVOLTE  5G  \\\n",
       "0            3         12            3   1   1   1        1   0   \n",
       "1            3         12            3   1   1   1        1   0   \n",
       "2            3         12            3   1   1   1        1   0   \n",
       "3            3         12            3   1   1   1        1   0   \n",
       "4            4         48            4   1   1   1        1   0   \n",
       "\n",
       "   mobile_name_Infinix  mobile_name_Mi  mobile_name_OPPO  mobile_name_POCO  \\\n",
       "0                    0               0                 0                 0   \n",
       "1                    0               0                 0                 0   \n",
       "2                    0               0                 0                 0   \n",
       "3                    0               0                 0                 0   \n",
       "4                    0               0                 0                 0   \n",
       "\n",
       "   mobile_name_Realme  mobile_name_Redmi  mobile_name_Samsung  \\\n",
       "0                   1                  0                    0   \n",
       "1                   1                  0                    0   \n",
       "2                   1                  0                    0   \n",
       "3                   1                  0                    0   \n",
       "4                   1                  0                    0   \n",
       "\n",
       "   mobile_name_Vivo  mobile_color_Black  mobile_color_Blue  \\\n",
       "0                 0                   0                  0   \n",
       "1                 0                   0                  1   \n",
       "2                 0                   0                  1   \n",
       "3                 0                   0                  0   \n",
       "4                 0                   0                  0   \n",
       "\n",
       "   mobile_color_Brick  mobile_color_Brown  mobile_color_Champagne  \\\n",
       "0                   0                   0                       0   \n",
       "1                   0                   0                       0   \n",
       "2                   0                   0                       0   \n",
       "3                   0                   0                       0   \n",
       "4                   0                   0                       0   \n",
       "\n",
       "   mobile_color_Concrete  mobile_color_Cyan  mobile_color_Edition  \\\n",
       "0                      0                  0                     0   \n",
       "1                      0                  0                     0   \n",
       "2                      0                  0                     0   \n",
       "3                      0                  0                     0   \n",
       "4                      0                  0                     0   \n",
       "\n",
       "   mobile_color_Gold  mobile_color_Green  mobile_color_Grey  \\\n",
       "0                  0                   0                  0   \n",
       "1                  0                   0                  0   \n",
       "2                  0                   0                  0   \n",
       "3                  0                   0                  0   \n",
       "4                  0                   1                  0   \n",
       "\n",
       "   mobile_color_Mint  mobile_color_Mist  mobile_color_Orange  \\\n",
       "0                  0                  0                    0   \n",
       "1                  0                  0                    0   \n",
       "2                  0                  0                    0   \n",
       "3                  0                  0                    0   \n",
       "4                  0                  0                    0   \n",
       "\n",
       "   mobile_color_Purple  mobile_color_Red  mobile_color_Ruby  \\\n",
       "0                    0                 0                  0   \n",
       "1                    0                 0                  0   \n",
       "2                    0                 0                  0   \n",
       "3                    0                 0                  0   \n",
       "4                    0                 0                  0   \n",
       "\n",
       "   mobile_color_Sapphire  mobile_color_Sea  mobile_color_Silver  \\\n",
       "0                      0                 0                    0   \n",
       "1                      0                 0                    0   \n",
       "2                      0                 0                    0   \n",
       "3                      0                 0                    0   \n",
       "4                      0                 0                    0   \n",
       "\n",
       "   mobile_color_Violet  mobile_color_Wave  mobile_color_White  \n",
       "0                    0                  0                   1  \n",
       "1                    0                  0                   0  \n",
       "2                    0                  0                   0  \n",
       "3                    0                  0                   1  \n",
       "4                    0                  0                   0  "
      ]
     },
     "execution_count": 92,
     "metadata": {},
     "output_type": "execute_result"
    }
   ],
   "source": [
    "X[['resolution','battery_power']] = rs.fit_transform(X[['resolution','battery_power']])\n",
    "X.head()"
   ]
  },
  {
   "cell_type": "markdown",
   "metadata": {},
   "source": [
    "### Train_test_split"
   ]
  },
  {
   "cell_type": "code",
   "execution_count": 93,
   "metadata": {},
   "outputs": [],
   "source": [
    "from sklearn.model_selection import train_test_split\n",
    "X_train,X_test,y_train,y_test = train_test_split(X,y,test_size = 0.2,random_state = 101)"
   ]
  },
  {
   "cell_type": "code",
   "execution_count": 94,
   "metadata": {},
   "outputs": [
    {
     "name": "stdout",
     "output_type": "stream",
     "text": [
      "(367, 52)\n",
      "(92, 52)\n",
      "(367,)\n",
      "(92,)\n"
     ]
    }
   ],
   "source": [
    "print(X_train.shape)\n",
    "print(X_test.shape)\n",
    "print(y_train.shape)\n",
    "print(y_test.shape)"
   ]
  },
  {
   "cell_type": "markdown",
   "metadata": {},
   "source": [
    "### Linear Regression Model"
   ]
  },
  {
   "cell_type": "code",
   "execution_count": 95,
   "metadata": {},
   "outputs": [
    {
     "data": {
      "text/plain": [
       "LinearRegression(copy_X=True, fit_intercept=True, n_jobs=None, normalize=False)"
      ]
     },
     "execution_count": 95,
     "metadata": {},
     "output_type": "execute_result"
    }
   ],
   "source": [
    "from sklearn.linear_model import LinearRegression\n",
    "lr = LinearRegression()\n",
    "lr"
   ]
  },
  {
   "cell_type": "code",
   "execution_count": 96,
   "metadata": {},
   "outputs": [
    {
     "data": {
      "text/plain": [
       "LinearRegression(copy_X=True, fit_intercept=True, n_jobs=None, normalize=False)"
      ]
     },
     "execution_count": 96,
     "metadata": {},
     "output_type": "execute_result"
    }
   ],
   "source": [
    "lr.fit(X_train,y_train)"
   ]
  },
  {
   "cell_type": "code",
   "execution_count": 97,
   "metadata": {},
   "outputs": [
    {
     "data": {
      "text/plain": [
       "0.8479063690817094"
      ]
     },
     "execution_count": 97,
     "metadata": {},
     "output_type": "execute_result"
    }
   ],
   "source": [
    "lr.score(X_train,y_train)"
   ]
  },
  {
   "cell_type": "markdown",
   "metadata": {},
   "source": [
    "### Prediction and Evaluation"
   ]
  },
  {
   "cell_type": "code",
   "execution_count": 98,
   "metadata": {},
   "outputs": [],
   "source": [
    "y_pred = lr.predict(X_test)"
   ]
  },
  {
   "cell_type": "code",
   "execution_count": 99,
   "metadata": {},
   "outputs": [],
   "source": [
    "from sklearn.metrics import r2_score"
   ]
  },
  {
   "cell_type": "code",
   "execution_count": 100,
   "metadata": {},
   "outputs": [
    {
     "data": {
      "text/plain": [
       "0.8265024795463111"
      ]
     },
     "execution_count": 100,
     "metadata": {},
     "output_type": "execute_result"
    }
   ],
   "source": [
    "r2_score(y_pred,y_test)"
   ]
  },
  {
   "cell_type": "markdown",
   "metadata": {},
   "source": [
    "##### Our model bias and variance is normal so we can conclude our ML model for predicting price is good"
   ]
  },
  {
   "cell_type": "code",
   "execution_count": null,
   "metadata": {},
   "outputs": [],
   "source": []
  },
  {
   "cell_type": "code",
   "execution_count": null,
   "metadata": {},
   "outputs": [],
   "source": []
  },
  {
   "cell_type": "code",
   "execution_count": null,
   "metadata": {},
   "outputs": [],
   "source": []
  },
  {
   "cell_type": "code",
   "execution_count": null,
   "metadata": {},
   "outputs": [],
   "source": []
  },
  {
   "cell_type": "code",
   "execution_count": null,
   "metadata": {},
   "outputs": [],
   "source": []
  },
  {
   "cell_type": "code",
   "execution_count": null,
   "metadata": {},
   "outputs": [],
   "source": []
  },
  {
   "cell_type": "code",
   "execution_count": null,
   "metadata": {},
   "outputs": [],
   "source": []
  },
  {
   "cell_type": "code",
   "execution_count": null,
   "metadata": {},
   "outputs": [],
   "source": []
  },
  {
   "cell_type": "code",
   "execution_count": null,
   "metadata": {},
   "outputs": [],
   "source": []
  },
  {
   "cell_type": "code",
   "execution_count": null,
   "metadata": {},
   "outputs": [],
   "source": []
  }
 ],
 "metadata": {
  "kernelspec": {
   "display_name": "Python 3",
   "language": "python",
   "name": "python3"
  },
  "language_info": {
   "codemirror_mode": {
    "name": "ipython",
    "version": 3
   },
   "file_extension": ".py",
   "mimetype": "text/x-python",
   "name": "python",
   "nbconvert_exporter": "python",
   "pygments_lexer": "ipython3",
   "version": "3.7.4"
  }
 },
 "nbformat": 4,
 "nbformat_minor": 2
}
